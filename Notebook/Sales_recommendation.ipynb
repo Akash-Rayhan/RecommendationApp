{
  "nbformat": 4,
  "nbformat_minor": 0,
  "metadata": {
    "colab": {
      "provenance": [],
      "authorship_tag": "ABX9TyNPgRQe0xZDgz5Ob2p/2FHV",
      "include_colab_link": true
    },
    "kernelspec": {
      "name": "python3",
      "display_name": "Python 3"
    },
    "language_info": {
      "name": "python"
    }
  },
  "cells": [
    {
      "cell_type": "markdown",
      "metadata": {
        "id": "view-in-github",
        "colab_type": "text"
      },
      "source": [
        "<a href=\"https://colab.research.google.com/github/Akash-Rayhan/RecommendationSystem/blob/main/Notebook/Sales_recommendation.ipynb\" target=\"_parent\"><img src=\"https://colab.research.google.com/assets/colab-badge.svg\" alt=\"Open In Colab\"/></a>"
      ]
    },
    {
      "cell_type": "code",
      "source": [
        "from google.colab import drive\n",
        "drive.mount('/content/drive')"
      ],
      "metadata": {
        "colab": {
          "base_uri": "https://localhost:8080/"
        },
        "id": "XEs96l3ehWio",
        "outputId": "8f2d3689-c7b5-48a3-965e-50d19e0347d4"
      },
      "execution_count": null,
      "outputs": [
        {
          "output_type": "stream",
          "name": "stdout",
          "text": [
            "Mounted at /content/drive\n"
          ]
        }
      ]
    },
    {
      "cell_type": "code",
      "execution_count": null,
      "metadata": {
        "id": "BEK2Tsk9hRqO"
      },
      "outputs": [],
      "source": [
        "import pandas as pd\n",
        "csv_data = pd.read_csv('/content/drive/MyDrive/Datasets/sales_recommendation/raw_data_recommendation  - raw_data_recommendation .csv',usecols=['reseller_id','sku','quantity'])"
      ]
    },
    {
      "cell_type": "code",
      "source": [
        "csv_data.head()"
      ],
      "metadata": {
        "colab": {
          "base_uri": "https://localhost:8080/",
          "height": 206
        },
        "id": "a-y6K4piiBpL",
        "outputId": "368824ef-a5de-4691-bbcd-c03647eabaa1"
      },
      "execution_count": null,
      "outputs": [
        {
          "output_type": "execute_result",
          "data": {
            "text/plain": [
              "                            reseller_id     sku  quantity\n",
              "0  e6fcbe56-3d31-4fb9-ae9b-11542375ebba  AVS034         4\n",
              "1  ae233b06-2bfa-4345-80fc-32e59fbb3c88  AVS034         1\n",
              "2  ff7cac5a-b41b-4858-9aa5-6d3eab8a5319  AVS034         1\n",
              "3  ea7dff8a-c2e7-447b-8241-c4a00893eb32  AVS034         1\n",
              "4  e6fcbe56-3d31-4fb9-ae9b-11542375ebba   SF034         1"
            ],
            "text/html": [
              "\n",
              "  <div id=\"df-79e83fff-cead-4076-8d8b-8b951d8940b5\">\n",
              "    <div class=\"colab-df-container\">\n",
              "      <div>\n",
              "<style scoped>\n",
              "    .dataframe tbody tr th:only-of-type {\n",
              "        vertical-align: middle;\n",
              "    }\n",
              "\n",
              "    .dataframe tbody tr th {\n",
              "        vertical-align: top;\n",
              "    }\n",
              "\n",
              "    .dataframe thead th {\n",
              "        text-align: right;\n",
              "    }\n",
              "</style>\n",
              "<table border=\"1\" class=\"dataframe\">\n",
              "  <thead>\n",
              "    <tr style=\"text-align: right;\">\n",
              "      <th></th>\n",
              "      <th>reseller_id</th>\n",
              "      <th>sku</th>\n",
              "      <th>quantity</th>\n",
              "    </tr>\n",
              "  </thead>\n",
              "  <tbody>\n",
              "    <tr>\n",
              "      <th>0</th>\n",
              "      <td>e6fcbe56-3d31-4fb9-ae9b-11542375ebba</td>\n",
              "      <td>AVS034</td>\n",
              "      <td>4</td>\n",
              "    </tr>\n",
              "    <tr>\n",
              "      <th>1</th>\n",
              "      <td>ae233b06-2bfa-4345-80fc-32e59fbb3c88</td>\n",
              "      <td>AVS034</td>\n",
              "      <td>1</td>\n",
              "    </tr>\n",
              "    <tr>\n",
              "      <th>2</th>\n",
              "      <td>ff7cac5a-b41b-4858-9aa5-6d3eab8a5319</td>\n",
              "      <td>AVS034</td>\n",
              "      <td>1</td>\n",
              "    </tr>\n",
              "    <tr>\n",
              "      <th>3</th>\n",
              "      <td>ea7dff8a-c2e7-447b-8241-c4a00893eb32</td>\n",
              "      <td>AVS034</td>\n",
              "      <td>1</td>\n",
              "    </tr>\n",
              "    <tr>\n",
              "      <th>4</th>\n",
              "      <td>e6fcbe56-3d31-4fb9-ae9b-11542375ebba</td>\n",
              "      <td>SF034</td>\n",
              "      <td>1</td>\n",
              "    </tr>\n",
              "  </tbody>\n",
              "</table>\n",
              "</div>\n",
              "      <button class=\"colab-df-convert\" onclick=\"convertToInteractive('df-79e83fff-cead-4076-8d8b-8b951d8940b5')\"\n",
              "              title=\"Convert this dataframe to an interactive table.\"\n",
              "              style=\"display:none;\">\n",
              "        \n",
              "  <svg xmlns=\"http://www.w3.org/2000/svg\" height=\"24px\"viewBox=\"0 0 24 24\"\n",
              "       width=\"24px\">\n",
              "    <path d=\"M0 0h24v24H0V0z\" fill=\"none\"/>\n",
              "    <path d=\"M18.56 5.44l.94 2.06.94-2.06 2.06-.94-2.06-.94-.94-2.06-.94 2.06-2.06.94zm-11 1L8.5 8.5l.94-2.06 2.06-.94-2.06-.94L8.5 2.5l-.94 2.06-2.06.94zm10 10l.94 2.06.94-2.06 2.06-.94-2.06-.94-.94-2.06-.94 2.06-2.06.94z\"/><path d=\"M17.41 7.96l-1.37-1.37c-.4-.4-.92-.59-1.43-.59-.52 0-1.04.2-1.43.59L10.3 9.45l-7.72 7.72c-.78.78-.78 2.05 0 2.83L4 21.41c.39.39.9.59 1.41.59.51 0 1.02-.2 1.41-.59l7.78-7.78 2.81-2.81c.8-.78.8-2.07 0-2.86zM5.41 20L4 18.59l7.72-7.72 1.47 1.35L5.41 20z\"/>\n",
              "  </svg>\n",
              "      </button>\n",
              "      \n",
              "  <style>\n",
              "    .colab-df-container {\n",
              "      display:flex;\n",
              "      flex-wrap:wrap;\n",
              "      gap: 12px;\n",
              "    }\n",
              "\n",
              "    .colab-df-convert {\n",
              "      background-color: #E8F0FE;\n",
              "      border: none;\n",
              "      border-radius: 50%;\n",
              "      cursor: pointer;\n",
              "      display: none;\n",
              "      fill: #1967D2;\n",
              "      height: 32px;\n",
              "      padding: 0 0 0 0;\n",
              "      width: 32px;\n",
              "    }\n",
              "\n",
              "    .colab-df-convert:hover {\n",
              "      background-color: #E2EBFA;\n",
              "      box-shadow: 0px 1px 2px rgba(60, 64, 67, 0.3), 0px 1px 3px 1px rgba(60, 64, 67, 0.15);\n",
              "      fill: #174EA6;\n",
              "    }\n",
              "\n",
              "    [theme=dark] .colab-df-convert {\n",
              "      background-color: #3B4455;\n",
              "      fill: #D2E3FC;\n",
              "    }\n",
              "\n",
              "    [theme=dark] .colab-df-convert:hover {\n",
              "      background-color: #434B5C;\n",
              "      box-shadow: 0px 1px 3px 1px rgba(0, 0, 0, 0.15);\n",
              "      filter: drop-shadow(0px 1px 2px rgba(0, 0, 0, 0.3));\n",
              "      fill: #FFFFFF;\n",
              "    }\n",
              "  </style>\n",
              "\n",
              "      <script>\n",
              "        const buttonEl =\n",
              "          document.querySelector('#df-79e83fff-cead-4076-8d8b-8b951d8940b5 button.colab-df-convert');\n",
              "        buttonEl.style.display =\n",
              "          google.colab.kernel.accessAllowed ? 'block' : 'none';\n",
              "\n",
              "        async function convertToInteractive(key) {\n",
              "          const element = document.querySelector('#df-79e83fff-cead-4076-8d8b-8b951d8940b5');\n",
              "          const dataTable =\n",
              "            await google.colab.kernel.invokeFunction('convertToInteractive',\n",
              "                                                     [key], {});\n",
              "          if (!dataTable) return;\n",
              "\n",
              "          const docLinkHtml = 'Like what you see? Visit the ' +\n",
              "            '<a target=\"_blank\" href=https://colab.research.google.com/notebooks/data_table.ipynb>data table notebook</a>'\n",
              "            + ' to learn more about interactive tables.';\n",
              "          element.innerHTML = '';\n",
              "          dataTable['output_type'] = 'display_data';\n",
              "          await google.colab.output.renderOutput(dataTable, element);\n",
              "          const docLink = document.createElement('div');\n",
              "          docLink.innerHTML = docLinkHtml;\n",
              "          element.appendChild(docLink);\n",
              "        }\n",
              "      </script>\n",
              "    </div>\n",
              "  </div>\n",
              "  "
            ]
          },
          "metadata": {},
          "execution_count": 3
        }
      ]
    },
    {
      "cell_type": "code",
      "source": [
        "data = csv_data.filter(['reseller_id','sku','quantity'])\n",
        "data.isna().sum().sum()"
      ],
      "metadata": {
        "colab": {
          "base_uri": "https://localhost:8080/"
        },
        "id": "-E-hotgHju5I",
        "outputId": "29b32b62-0932-47c4-80c5-977aaa1e24d1"
      },
      "execution_count": null,
      "outputs": [
        {
          "output_type": "execute_result",
          "data": {
            "text/plain": [
              "37929"
            ]
          },
          "metadata": {},
          "execution_count": 3
        }
      ]
    },
    {
      "cell_type": "code",
      "source": [
        "data = data.fillna('None')"
      ],
      "metadata": {
        "id": "A0QwAkWQkJHw"
      },
      "execution_count": null,
      "outputs": []
    },
    {
      "cell_type": "code",
      "source": [
        "data.isna().sum().sum()"
      ],
      "metadata": {
        "colab": {
          "base_uri": "https://localhost:8080/"
        },
        "id": "3qphmlzlxTKk",
        "outputId": "27a3e438-b7e7-4e2e-906e-fa094a158996"
      },
      "execution_count": null,
      "outputs": [
        {
          "output_type": "execute_result",
          "data": {
            "text/plain": [
              "0"
            ]
          },
          "metadata": {},
          "execution_count": 107
        }
      ]
    },
    {
      "cell_type": "markdown",
      "source": [
        "#### Purchase_Dummy_Data"
      ],
      "metadata": {
        "id": "Fb8vo-0Tl1So"
      }
    },
    {
      "cell_type": "code",
      "source": [
        "data_dummy = data.copy()\n",
        "data_dummy['purchase_dummy'] = 1\n",
        "data_dummy.head()"
      ],
      "metadata": {
        "colab": {
          "base_uri": "https://localhost:8080/",
          "height": 206
        },
        "id": "0eVCYh0hk6O7",
        "outputId": "b794b716-8a00-4e38-8028-6e4a23627b98"
      },
      "execution_count": null,
      "outputs": [
        {
          "output_type": "execute_result",
          "data": {
            "text/plain": [
              "                            reseller_id     sku  quantity  purchase_dummy\n",
              "0  e6fcbe56-3d31-4fb9-ae9b-11542375ebba  AVS034         4               1\n",
              "1  ae233b06-2bfa-4345-80fc-32e59fbb3c88  AVS034         1               1\n",
              "2  ff7cac5a-b41b-4858-9aa5-6d3eab8a5319  AVS034         1               1\n",
              "3  ea7dff8a-c2e7-447b-8241-c4a00893eb32  AVS034         1               1\n",
              "4  e6fcbe56-3d31-4fb9-ae9b-11542375ebba   SF034         1               1"
            ],
            "text/html": [
              "\n",
              "  <div id=\"df-35469b04-b815-4471-a64f-784a5ac784e1\">\n",
              "    <div class=\"colab-df-container\">\n",
              "      <div>\n",
              "<style scoped>\n",
              "    .dataframe tbody tr th:only-of-type {\n",
              "        vertical-align: middle;\n",
              "    }\n",
              "\n",
              "    .dataframe tbody tr th {\n",
              "        vertical-align: top;\n",
              "    }\n",
              "\n",
              "    .dataframe thead th {\n",
              "        text-align: right;\n",
              "    }\n",
              "</style>\n",
              "<table border=\"1\" class=\"dataframe\">\n",
              "  <thead>\n",
              "    <tr style=\"text-align: right;\">\n",
              "      <th></th>\n",
              "      <th>reseller_id</th>\n",
              "      <th>sku</th>\n",
              "      <th>quantity</th>\n",
              "      <th>purchase_dummy</th>\n",
              "    </tr>\n",
              "  </thead>\n",
              "  <tbody>\n",
              "    <tr>\n",
              "      <th>0</th>\n",
              "      <td>e6fcbe56-3d31-4fb9-ae9b-11542375ebba</td>\n",
              "      <td>AVS034</td>\n",
              "      <td>4</td>\n",
              "      <td>1</td>\n",
              "    </tr>\n",
              "    <tr>\n",
              "      <th>1</th>\n",
              "      <td>ae233b06-2bfa-4345-80fc-32e59fbb3c88</td>\n",
              "      <td>AVS034</td>\n",
              "      <td>1</td>\n",
              "      <td>1</td>\n",
              "    </tr>\n",
              "    <tr>\n",
              "      <th>2</th>\n",
              "      <td>ff7cac5a-b41b-4858-9aa5-6d3eab8a5319</td>\n",
              "      <td>AVS034</td>\n",
              "      <td>1</td>\n",
              "      <td>1</td>\n",
              "    </tr>\n",
              "    <tr>\n",
              "      <th>3</th>\n",
              "      <td>ea7dff8a-c2e7-447b-8241-c4a00893eb32</td>\n",
              "      <td>AVS034</td>\n",
              "      <td>1</td>\n",
              "      <td>1</td>\n",
              "    </tr>\n",
              "    <tr>\n",
              "      <th>4</th>\n",
              "      <td>e6fcbe56-3d31-4fb9-ae9b-11542375ebba</td>\n",
              "      <td>SF034</td>\n",
              "      <td>1</td>\n",
              "      <td>1</td>\n",
              "    </tr>\n",
              "  </tbody>\n",
              "</table>\n",
              "</div>\n",
              "      <button class=\"colab-df-convert\" onclick=\"convertToInteractive('df-35469b04-b815-4471-a64f-784a5ac784e1')\"\n",
              "              title=\"Convert this dataframe to an interactive table.\"\n",
              "              style=\"display:none;\">\n",
              "        \n",
              "  <svg xmlns=\"http://www.w3.org/2000/svg\" height=\"24px\"viewBox=\"0 0 24 24\"\n",
              "       width=\"24px\">\n",
              "    <path d=\"M0 0h24v24H0V0z\" fill=\"none\"/>\n",
              "    <path d=\"M18.56 5.44l.94 2.06.94-2.06 2.06-.94-2.06-.94-.94-2.06-.94 2.06-2.06.94zm-11 1L8.5 8.5l.94-2.06 2.06-.94-2.06-.94L8.5 2.5l-.94 2.06-2.06.94zm10 10l.94 2.06.94-2.06 2.06-.94-2.06-.94-.94-2.06-.94 2.06-2.06.94z\"/><path d=\"M17.41 7.96l-1.37-1.37c-.4-.4-.92-.59-1.43-.59-.52 0-1.04.2-1.43.59L10.3 9.45l-7.72 7.72c-.78.78-.78 2.05 0 2.83L4 21.41c.39.39.9.59 1.41.59.51 0 1.02-.2 1.41-.59l7.78-7.78 2.81-2.81c.8-.78.8-2.07 0-2.86zM5.41 20L4 18.59l7.72-7.72 1.47 1.35L5.41 20z\"/>\n",
              "  </svg>\n",
              "      </button>\n",
              "      \n",
              "  <style>\n",
              "    .colab-df-container {\n",
              "      display:flex;\n",
              "      flex-wrap:wrap;\n",
              "      gap: 12px;\n",
              "    }\n",
              "\n",
              "    .colab-df-convert {\n",
              "      background-color: #E8F0FE;\n",
              "      border: none;\n",
              "      border-radius: 50%;\n",
              "      cursor: pointer;\n",
              "      display: none;\n",
              "      fill: #1967D2;\n",
              "      height: 32px;\n",
              "      padding: 0 0 0 0;\n",
              "      width: 32px;\n",
              "    }\n",
              "\n",
              "    .colab-df-convert:hover {\n",
              "      background-color: #E2EBFA;\n",
              "      box-shadow: 0px 1px 2px rgba(60, 64, 67, 0.3), 0px 1px 3px 1px rgba(60, 64, 67, 0.15);\n",
              "      fill: #174EA6;\n",
              "    }\n",
              "\n",
              "    [theme=dark] .colab-df-convert {\n",
              "      background-color: #3B4455;\n",
              "      fill: #D2E3FC;\n",
              "    }\n",
              "\n",
              "    [theme=dark] .colab-df-convert:hover {\n",
              "      background-color: #434B5C;\n",
              "      box-shadow: 0px 1px 3px 1px rgba(0, 0, 0, 0.15);\n",
              "      filter: drop-shadow(0px 1px 2px rgba(0, 0, 0, 0.3));\n",
              "      fill: #FFFFFF;\n",
              "    }\n",
              "  </style>\n",
              "\n",
              "      <script>\n",
              "        const buttonEl =\n",
              "          document.querySelector('#df-35469b04-b815-4471-a64f-784a5ac784e1 button.colab-df-convert');\n",
              "        buttonEl.style.display =\n",
              "          google.colab.kernel.accessAllowed ? 'block' : 'none';\n",
              "\n",
              "        async function convertToInteractive(key) {\n",
              "          const element = document.querySelector('#df-35469b04-b815-4471-a64f-784a5ac784e1');\n",
              "          const dataTable =\n",
              "            await google.colab.kernel.invokeFunction('convertToInteractive',\n",
              "                                                     [key], {});\n",
              "          if (!dataTable) return;\n",
              "\n",
              "          const docLinkHtml = 'Like what you see? Visit the ' +\n",
              "            '<a target=\"_blank\" href=https://colab.research.google.com/notebooks/data_table.ipynb>data table notebook</a>'\n",
              "            + ' to learn more about interactive tables.';\n",
              "          element.innerHTML = '';\n",
              "          dataTable['output_type'] = 'display_data';\n",
              "          await google.colab.output.renderOutput(dataTable, element);\n",
              "          const docLink = document.createElement('div');\n",
              "          docLink.innerHTML = docLinkHtml;\n",
              "          element.appendChild(docLink);\n",
              "        }\n",
              "      </script>\n",
              "    </div>\n",
              "  </div>\n",
              "  "
            ]
          },
          "metadata": {},
          "execution_count": 5
        }
      ]
    },
    {
      "cell_type": "markdown",
      "source": [
        "#### Normalized_Data"
      ],
      "metadata": {
        "id": "oA9u-DSYn1q3"
      }
    },
    {
      "cell_type": "code",
      "source": [
        "data_matrix = pd.pivot_table(data, values='quantity', index='reseller_id', columns='sku')\n",
        "data_matrix.head()"
      ],
      "metadata": {
        "colab": {
          "base_uri": "https://localhost:8080/",
          "height": 267
        },
        "id": "Lq3vq6z0mAIe",
        "outputId": "5c966c03-e3f7-4b54-ffe5-eb3eb7a00ec0"
      },
      "execution_count": null,
      "outputs": [
        {
          "output_type": "execute_result",
          "data": {
            "text/plain": [
              "sku                                   ACN002  ADR001  ADR002  ADR003  ADR004  \\\n",
              "reseller_id                                                                    \n",
              "00024c12-7658-4400-9793-2c12834525d1     NaN     NaN     NaN     NaN     NaN   \n",
              "000a85dd-2af2-42b1-aabf-3ec0c0201649     NaN     NaN     NaN     NaN     NaN   \n",
              "000bf954-5bf3-4003-b704-829aa3424a51     NaN     NaN     NaN     NaN     NaN   \n",
              "001237ad-ead0-48f7-b052-d62ffa3b5a70     NaN     NaN     NaN     NaN     NaN   \n",
              "00135016-37a2-4cc0-902a-9917e4cf5cc4     NaN     NaN     NaN     NaN     NaN   \n",
              "\n",
              "sku                                   ADR005  ADR006  ADR008  ADR009  ADR010  \\\n",
              "reseller_id                                                                    \n",
              "00024c12-7658-4400-9793-2c12834525d1     NaN     NaN     NaN     NaN     NaN   \n",
              "000a85dd-2af2-42b1-aabf-3ec0c0201649     NaN     NaN     NaN     NaN     NaN   \n",
              "000bf954-5bf3-4003-b704-829aa3424a51     NaN     NaN     NaN     NaN     NaN   \n",
              "001237ad-ead0-48f7-b052-d62ffa3b5a70     NaN     NaN     NaN     NaN     NaN   \n",
              "00135016-37a2-4cc0-902a-9917e4cf5cc4     NaN     NaN     NaN     NaN     NaN   \n",
              "\n",
              "sku                                   ...  YOUS040  YOUS041  YOUS042  YVT001  \\\n",
              "reseller_id                           ...                                      \n",
              "00024c12-7658-4400-9793-2c12834525d1  ...      NaN      NaN      NaN     NaN   \n",
              "000a85dd-2af2-42b1-aabf-3ec0c0201649  ...      NaN      NaN      NaN     NaN   \n",
              "000bf954-5bf3-4003-b704-829aa3424a51  ...      NaN      NaN      NaN     NaN   \n",
              "001237ad-ead0-48f7-b052-d62ffa3b5a70  ...      NaN      NaN      NaN     NaN   \n",
              "00135016-37a2-4cc0-902a-9917e4cf5cc4  ...      NaN      NaN      NaN     NaN   \n",
              "\n",
              "sku                                   YVT002  YVT003  YVT004  YVT005  YVT006  \\\n",
              "reseller_id                                                                    \n",
              "00024c12-7658-4400-9793-2c12834525d1     NaN     NaN     NaN     NaN     NaN   \n",
              "000a85dd-2af2-42b1-aabf-3ec0c0201649     NaN     NaN     NaN     NaN     NaN   \n",
              "000bf954-5bf3-4003-b704-829aa3424a51     NaN     NaN     NaN     NaN     NaN   \n",
              "001237ad-ead0-48f7-b052-d62ffa3b5a70     NaN     NaN     NaN     NaN     NaN   \n",
              "00135016-37a2-4cc0-902a-9917e4cf5cc4     NaN     NaN     NaN     NaN     NaN   \n",
              "\n",
              "sku                                   YVT007  \n",
              "reseller_id                                   \n",
              "00024c12-7658-4400-9793-2c12834525d1     NaN  \n",
              "000a85dd-2af2-42b1-aabf-3ec0c0201649     NaN  \n",
              "000bf954-5bf3-4003-b704-829aa3424a51     NaN  \n",
              "001237ad-ead0-48f7-b052-d62ffa3b5a70     NaN  \n",
              "00135016-37a2-4cc0-902a-9917e4cf5cc4     NaN  \n",
              "\n",
              "[5 rows x 2721 columns]"
            ],
            "text/html": [
              "\n",
              "  <div id=\"df-7f3b8d7a-7ecd-4533-9c42-4f05147a8698\">\n",
              "    <div class=\"colab-df-container\">\n",
              "      <div>\n",
              "<style scoped>\n",
              "    .dataframe tbody tr th:only-of-type {\n",
              "        vertical-align: middle;\n",
              "    }\n",
              "\n",
              "    .dataframe tbody tr th {\n",
              "        vertical-align: top;\n",
              "    }\n",
              "\n",
              "    .dataframe thead th {\n",
              "        text-align: right;\n",
              "    }\n",
              "</style>\n",
              "<table border=\"1\" class=\"dataframe\">\n",
              "  <thead>\n",
              "    <tr style=\"text-align: right;\">\n",
              "      <th>sku</th>\n",
              "      <th>ACN002</th>\n",
              "      <th>ADR001</th>\n",
              "      <th>ADR002</th>\n",
              "      <th>ADR003</th>\n",
              "      <th>ADR004</th>\n",
              "      <th>ADR005</th>\n",
              "      <th>ADR006</th>\n",
              "      <th>ADR008</th>\n",
              "      <th>ADR009</th>\n",
              "      <th>ADR010</th>\n",
              "      <th>...</th>\n",
              "      <th>YOUS040</th>\n",
              "      <th>YOUS041</th>\n",
              "      <th>YOUS042</th>\n",
              "      <th>YVT001</th>\n",
              "      <th>YVT002</th>\n",
              "      <th>YVT003</th>\n",
              "      <th>YVT004</th>\n",
              "      <th>YVT005</th>\n",
              "      <th>YVT006</th>\n",
              "      <th>YVT007</th>\n",
              "    </tr>\n",
              "    <tr>\n",
              "      <th>reseller_id</th>\n",
              "      <th></th>\n",
              "      <th></th>\n",
              "      <th></th>\n",
              "      <th></th>\n",
              "      <th></th>\n",
              "      <th></th>\n",
              "      <th></th>\n",
              "      <th></th>\n",
              "      <th></th>\n",
              "      <th></th>\n",
              "      <th></th>\n",
              "      <th></th>\n",
              "      <th></th>\n",
              "      <th></th>\n",
              "      <th></th>\n",
              "      <th></th>\n",
              "      <th></th>\n",
              "      <th></th>\n",
              "      <th></th>\n",
              "      <th></th>\n",
              "      <th></th>\n",
              "    </tr>\n",
              "  </thead>\n",
              "  <tbody>\n",
              "    <tr>\n",
              "      <th>00024c12-7658-4400-9793-2c12834525d1</th>\n",
              "      <td>NaN</td>\n",
              "      <td>NaN</td>\n",
              "      <td>NaN</td>\n",
              "      <td>NaN</td>\n",
              "      <td>NaN</td>\n",
              "      <td>NaN</td>\n",
              "      <td>NaN</td>\n",
              "      <td>NaN</td>\n",
              "      <td>NaN</td>\n",
              "      <td>NaN</td>\n",
              "      <td>...</td>\n",
              "      <td>NaN</td>\n",
              "      <td>NaN</td>\n",
              "      <td>NaN</td>\n",
              "      <td>NaN</td>\n",
              "      <td>NaN</td>\n",
              "      <td>NaN</td>\n",
              "      <td>NaN</td>\n",
              "      <td>NaN</td>\n",
              "      <td>NaN</td>\n",
              "      <td>NaN</td>\n",
              "    </tr>\n",
              "    <tr>\n",
              "      <th>000a85dd-2af2-42b1-aabf-3ec0c0201649</th>\n",
              "      <td>NaN</td>\n",
              "      <td>NaN</td>\n",
              "      <td>NaN</td>\n",
              "      <td>NaN</td>\n",
              "      <td>NaN</td>\n",
              "      <td>NaN</td>\n",
              "      <td>NaN</td>\n",
              "      <td>NaN</td>\n",
              "      <td>NaN</td>\n",
              "      <td>NaN</td>\n",
              "      <td>...</td>\n",
              "      <td>NaN</td>\n",
              "      <td>NaN</td>\n",
              "      <td>NaN</td>\n",
              "      <td>NaN</td>\n",
              "      <td>NaN</td>\n",
              "      <td>NaN</td>\n",
              "      <td>NaN</td>\n",
              "      <td>NaN</td>\n",
              "      <td>NaN</td>\n",
              "      <td>NaN</td>\n",
              "    </tr>\n",
              "    <tr>\n",
              "      <th>000bf954-5bf3-4003-b704-829aa3424a51</th>\n",
              "      <td>NaN</td>\n",
              "      <td>NaN</td>\n",
              "      <td>NaN</td>\n",
              "      <td>NaN</td>\n",
              "      <td>NaN</td>\n",
              "      <td>NaN</td>\n",
              "      <td>NaN</td>\n",
              "      <td>NaN</td>\n",
              "      <td>NaN</td>\n",
              "      <td>NaN</td>\n",
              "      <td>...</td>\n",
              "      <td>NaN</td>\n",
              "      <td>NaN</td>\n",
              "      <td>NaN</td>\n",
              "      <td>NaN</td>\n",
              "      <td>NaN</td>\n",
              "      <td>NaN</td>\n",
              "      <td>NaN</td>\n",
              "      <td>NaN</td>\n",
              "      <td>NaN</td>\n",
              "      <td>NaN</td>\n",
              "    </tr>\n",
              "    <tr>\n",
              "      <th>001237ad-ead0-48f7-b052-d62ffa3b5a70</th>\n",
              "      <td>NaN</td>\n",
              "      <td>NaN</td>\n",
              "      <td>NaN</td>\n",
              "      <td>NaN</td>\n",
              "      <td>NaN</td>\n",
              "      <td>NaN</td>\n",
              "      <td>NaN</td>\n",
              "      <td>NaN</td>\n",
              "      <td>NaN</td>\n",
              "      <td>NaN</td>\n",
              "      <td>...</td>\n",
              "      <td>NaN</td>\n",
              "      <td>NaN</td>\n",
              "      <td>NaN</td>\n",
              "      <td>NaN</td>\n",
              "      <td>NaN</td>\n",
              "      <td>NaN</td>\n",
              "      <td>NaN</td>\n",
              "      <td>NaN</td>\n",
              "      <td>NaN</td>\n",
              "      <td>NaN</td>\n",
              "    </tr>\n",
              "    <tr>\n",
              "      <th>00135016-37a2-4cc0-902a-9917e4cf5cc4</th>\n",
              "      <td>NaN</td>\n",
              "      <td>NaN</td>\n",
              "      <td>NaN</td>\n",
              "      <td>NaN</td>\n",
              "      <td>NaN</td>\n",
              "      <td>NaN</td>\n",
              "      <td>NaN</td>\n",
              "      <td>NaN</td>\n",
              "      <td>NaN</td>\n",
              "      <td>NaN</td>\n",
              "      <td>...</td>\n",
              "      <td>NaN</td>\n",
              "      <td>NaN</td>\n",
              "      <td>NaN</td>\n",
              "      <td>NaN</td>\n",
              "      <td>NaN</td>\n",
              "      <td>NaN</td>\n",
              "      <td>NaN</td>\n",
              "      <td>NaN</td>\n",
              "      <td>NaN</td>\n",
              "      <td>NaN</td>\n",
              "    </tr>\n",
              "  </tbody>\n",
              "</table>\n",
              "<p>5 rows × 2721 columns</p>\n",
              "</div>\n",
              "      <button class=\"colab-df-convert\" onclick=\"convertToInteractive('df-7f3b8d7a-7ecd-4533-9c42-4f05147a8698')\"\n",
              "              title=\"Convert this dataframe to an interactive table.\"\n",
              "              style=\"display:none;\">\n",
              "        \n",
              "  <svg xmlns=\"http://www.w3.org/2000/svg\" height=\"24px\"viewBox=\"0 0 24 24\"\n",
              "       width=\"24px\">\n",
              "    <path d=\"M0 0h24v24H0V0z\" fill=\"none\"/>\n",
              "    <path d=\"M18.56 5.44l.94 2.06.94-2.06 2.06-.94-2.06-.94-.94-2.06-.94 2.06-2.06.94zm-11 1L8.5 8.5l.94-2.06 2.06-.94-2.06-.94L8.5 2.5l-.94 2.06-2.06.94zm10 10l.94 2.06.94-2.06 2.06-.94-2.06-.94-.94-2.06-.94 2.06-2.06.94z\"/><path d=\"M17.41 7.96l-1.37-1.37c-.4-.4-.92-.59-1.43-.59-.52 0-1.04.2-1.43.59L10.3 9.45l-7.72 7.72c-.78.78-.78 2.05 0 2.83L4 21.41c.39.39.9.59 1.41.59.51 0 1.02-.2 1.41-.59l7.78-7.78 2.81-2.81c.8-.78.8-2.07 0-2.86zM5.41 20L4 18.59l7.72-7.72 1.47 1.35L5.41 20z\"/>\n",
              "  </svg>\n",
              "      </button>\n",
              "      \n",
              "  <style>\n",
              "    .colab-df-container {\n",
              "      display:flex;\n",
              "      flex-wrap:wrap;\n",
              "      gap: 12px;\n",
              "    }\n",
              "\n",
              "    .colab-df-convert {\n",
              "      background-color: #E8F0FE;\n",
              "      border: none;\n",
              "      border-radius: 50%;\n",
              "      cursor: pointer;\n",
              "      display: none;\n",
              "      fill: #1967D2;\n",
              "      height: 32px;\n",
              "      padding: 0 0 0 0;\n",
              "      width: 32px;\n",
              "    }\n",
              "\n",
              "    .colab-df-convert:hover {\n",
              "      background-color: #E2EBFA;\n",
              "      box-shadow: 0px 1px 2px rgba(60, 64, 67, 0.3), 0px 1px 3px 1px rgba(60, 64, 67, 0.15);\n",
              "      fill: #174EA6;\n",
              "    }\n",
              "\n",
              "    [theme=dark] .colab-df-convert {\n",
              "      background-color: #3B4455;\n",
              "      fill: #D2E3FC;\n",
              "    }\n",
              "\n",
              "    [theme=dark] .colab-df-convert:hover {\n",
              "      background-color: #434B5C;\n",
              "      box-shadow: 0px 1px 3px 1px rgba(0, 0, 0, 0.15);\n",
              "      filter: drop-shadow(0px 1px 2px rgba(0, 0, 0, 0.3));\n",
              "      fill: #FFFFFF;\n",
              "    }\n",
              "  </style>\n",
              "\n",
              "      <script>\n",
              "        const buttonEl =\n",
              "          document.querySelector('#df-7f3b8d7a-7ecd-4533-9c42-4f05147a8698 button.colab-df-convert');\n",
              "        buttonEl.style.display =\n",
              "          google.colab.kernel.accessAllowed ? 'block' : 'none';\n",
              "\n",
              "        async function convertToInteractive(key) {\n",
              "          const element = document.querySelector('#df-7f3b8d7a-7ecd-4533-9c42-4f05147a8698');\n",
              "          const dataTable =\n",
              "            await google.colab.kernel.invokeFunction('convertToInteractive',\n",
              "                                                     [key], {});\n",
              "          if (!dataTable) return;\n",
              "\n",
              "          const docLinkHtml = 'Like what you see? Visit the ' +\n",
              "            '<a target=\"_blank\" href=https://colab.research.google.com/notebooks/data_table.ipynb>data table notebook</a>'\n",
              "            + ' to learn more about interactive tables.';\n",
              "          element.innerHTML = '';\n",
              "          dataTable['output_type'] = 'display_data';\n",
              "          await google.colab.output.renderOutput(dataTable, element);\n",
              "          const docLink = document.createElement('div');\n",
              "          docLink.innerHTML = docLinkHtml;\n",
              "          element.appendChild(docLink);\n",
              "        }\n",
              "      </script>\n",
              "    </div>\n",
              "  </div>\n",
              "  "
            ]
          },
          "metadata": {},
          "execution_count": 6
        }
      ]
    },
    {
      "cell_type": "code",
      "source": [
        "data_matrix_norm = (data_matrix-data_matrix.min())/(data_matrix.max()-data_matrix.min())\n",
        "print(data_matrix_norm.shape)\n",
        "data_matrix_norm.head()"
      ],
      "metadata": {
        "colab": {
          "base_uri": "https://localhost:8080/",
          "height": 284
        },
        "id": "-tdsudwInMt_",
        "outputId": "f16900d8-c71a-4aeb-ecce-77db4b746acf"
      },
      "execution_count": null,
      "outputs": [
        {
          "output_type": "stream",
          "name": "stdout",
          "text": [
            "(11596, 2721)\n"
          ]
        },
        {
          "output_type": "execute_result",
          "data": {
            "text/plain": [
              "sku                                   ACN002  ADR001  ADR002  ADR003  ADR004  \\\n",
              "reseller_id                                                                    \n",
              "00024c12-7658-4400-9793-2c12834525d1     NaN     NaN     NaN     NaN     NaN   \n",
              "000a85dd-2af2-42b1-aabf-3ec0c0201649     NaN     NaN     NaN     NaN     NaN   \n",
              "000bf954-5bf3-4003-b704-829aa3424a51     NaN     NaN     NaN     NaN     NaN   \n",
              "001237ad-ead0-48f7-b052-d62ffa3b5a70     NaN     NaN     NaN     NaN     NaN   \n",
              "00135016-37a2-4cc0-902a-9917e4cf5cc4     NaN     NaN     NaN     NaN     NaN   \n",
              "\n",
              "sku                                   ADR005  ADR006  ADR008  ADR009  ADR010  \\\n",
              "reseller_id                                                                    \n",
              "00024c12-7658-4400-9793-2c12834525d1     NaN     NaN     NaN     NaN     NaN   \n",
              "000a85dd-2af2-42b1-aabf-3ec0c0201649     NaN     NaN     NaN     NaN     NaN   \n",
              "000bf954-5bf3-4003-b704-829aa3424a51     NaN     NaN     NaN     NaN     NaN   \n",
              "001237ad-ead0-48f7-b052-d62ffa3b5a70     NaN     NaN     NaN     NaN     NaN   \n",
              "00135016-37a2-4cc0-902a-9917e4cf5cc4     NaN     NaN     NaN     NaN     NaN   \n",
              "\n",
              "sku                                   ...  YOUS040  YOUS041  YOUS042  YVT001  \\\n",
              "reseller_id                           ...                                      \n",
              "00024c12-7658-4400-9793-2c12834525d1  ...      NaN      NaN      NaN     NaN   \n",
              "000a85dd-2af2-42b1-aabf-3ec0c0201649  ...      NaN      NaN      NaN     NaN   \n",
              "000bf954-5bf3-4003-b704-829aa3424a51  ...      NaN      NaN      NaN     NaN   \n",
              "001237ad-ead0-48f7-b052-d62ffa3b5a70  ...      NaN      NaN      NaN     NaN   \n",
              "00135016-37a2-4cc0-902a-9917e4cf5cc4  ...      NaN      NaN      NaN     NaN   \n",
              "\n",
              "sku                                   YVT002  YVT003  YVT004  YVT005  YVT006  \\\n",
              "reseller_id                                                                    \n",
              "00024c12-7658-4400-9793-2c12834525d1     NaN     NaN     NaN     NaN     NaN   \n",
              "000a85dd-2af2-42b1-aabf-3ec0c0201649     NaN     NaN     NaN     NaN     NaN   \n",
              "000bf954-5bf3-4003-b704-829aa3424a51     NaN     NaN     NaN     NaN     NaN   \n",
              "001237ad-ead0-48f7-b052-d62ffa3b5a70     NaN     NaN     NaN     NaN     NaN   \n",
              "00135016-37a2-4cc0-902a-9917e4cf5cc4     NaN     NaN     NaN     NaN     NaN   \n",
              "\n",
              "sku                                   YVT007  \n",
              "reseller_id                                   \n",
              "00024c12-7658-4400-9793-2c12834525d1     NaN  \n",
              "000a85dd-2af2-42b1-aabf-3ec0c0201649     NaN  \n",
              "000bf954-5bf3-4003-b704-829aa3424a51     NaN  \n",
              "001237ad-ead0-48f7-b052-d62ffa3b5a70     NaN  \n",
              "00135016-37a2-4cc0-902a-9917e4cf5cc4     NaN  \n",
              "\n",
              "[5 rows x 2721 columns]"
            ],
            "text/html": [
              "\n",
              "  <div id=\"df-cf43d1ba-2a55-488e-8bc2-04f9e0cf845e\">\n",
              "    <div class=\"colab-df-container\">\n",
              "      <div>\n",
              "<style scoped>\n",
              "    .dataframe tbody tr th:only-of-type {\n",
              "        vertical-align: middle;\n",
              "    }\n",
              "\n",
              "    .dataframe tbody tr th {\n",
              "        vertical-align: top;\n",
              "    }\n",
              "\n",
              "    .dataframe thead th {\n",
              "        text-align: right;\n",
              "    }\n",
              "</style>\n",
              "<table border=\"1\" class=\"dataframe\">\n",
              "  <thead>\n",
              "    <tr style=\"text-align: right;\">\n",
              "      <th>sku</th>\n",
              "      <th>ACN002</th>\n",
              "      <th>ADR001</th>\n",
              "      <th>ADR002</th>\n",
              "      <th>ADR003</th>\n",
              "      <th>ADR004</th>\n",
              "      <th>ADR005</th>\n",
              "      <th>ADR006</th>\n",
              "      <th>ADR008</th>\n",
              "      <th>ADR009</th>\n",
              "      <th>ADR010</th>\n",
              "      <th>...</th>\n",
              "      <th>YOUS040</th>\n",
              "      <th>YOUS041</th>\n",
              "      <th>YOUS042</th>\n",
              "      <th>YVT001</th>\n",
              "      <th>YVT002</th>\n",
              "      <th>YVT003</th>\n",
              "      <th>YVT004</th>\n",
              "      <th>YVT005</th>\n",
              "      <th>YVT006</th>\n",
              "      <th>YVT007</th>\n",
              "    </tr>\n",
              "    <tr>\n",
              "      <th>reseller_id</th>\n",
              "      <th></th>\n",
              "      <th></th>\n",
              "      <th></th>\n",
              "      <th></th>\n",
              "      <th></th>\n",
              "      <th></th>\n",
              "      <th></th>\n",
              "      <th></th>\n",
              "      <th></th>\n",
              "      <th></th>\n",
              "      <th></th>\n",
              "      <th></th>\n",
              "      <th></th>\n",
              "      <th></th>\n",
              "      <th></th>\n",
              "      <th></th>\n",
              "      <th></th>\n",
              "      <th></th>\n",
              "      <th></th>\n",
              "      <th></th>\n",
              "      <th></th>\n",
              "    </tr>\n",
              "  </thead>\n",
              "  <tbody>\n",
              "    <tr>\n",
              "      <th>00024c12-7658-4400-9793-2c12834525d1</th>\n",
              "      <td>NaN</td>\n",
              "      <td>NaN</td>\n",
              "      <td>NaN</td>\n",
              "      <td>NaN</td>\n",
              "      <td>NaN</td>\n",
              "      <td>NaN</td>\n",
              "      <td>NaN</td>\n",
              "      <td>NaN</td>\n",
              "      <td>NaN</td>\n",
              "      <td>NaN</td>\n",
              "      <td>...</td>\n",
              "      <td>NaN</td>\n",
              "      <td>NaN</td>\n",
              "      <td>NaN</td>\n",
              "      <td>NaN</td>\n",
              "      <td>NaN</td>\n",
              "      <td>NaN</td>\n",
              "      <td>NaN</td>\n",
              "      <td>NaN</td>\n",
              "      <td>NaN</td>\n",
              "      <td>NaN</td>\n",
              "    </tr>\n",
              "    <tr>\n",
              "      <th>000a85dd-2af2-42b1-aabf-3ec0c0201649</th>\n",
              "      <td>NaN</td>\n",
              "      <td>NaN</td>\n",
              "      <td>NaN</td>\n",
              "      <td>NaN</td>\n",
              "      <td>NaN</td>\n",
              "      <td>NaN</td>\n",
              "      <td>NaN</td>\n",
              "      <td>NaN</td>\n",
              "      <td>NaN</td>\n",
              "      <td>NaN</td>\n",
              "      <td>...</td>\n",
              "      <td>NaN</td>\n",
              "      <td>NaN</td>\n",
              "      <td>NaN</td>\n",
              "      <td>NaN</td>\n",
              "      <td>NaN</td>\n",
              "      <td>NaN</td>\n",
              "      <td>NaN</td>\n",
              "      <td>NaN</td>\n",
              "      <td>NaN</td>\n",
              "      <td>NaN</td>\n",
              "    </tr>\n",
              "    <tr>\n",
              "      <th>000bf954-5bf3-4003-b704-829aa3424a51</th>\n",
              "      <td>NaN</td>\n",
              "      <td>NaN</td>\n",
              "      <td>NaN</td>\n",
              "      <td>NaN</td>\n",
              "      <td>NaN</td>\n",
              "      <td>NaN</td>\n",
              "      <td>NaN</td>\n",
              "      <td>NaN</td>\n",
              "      <td>NaN</td>\n",
              "      <td>NaN</td>\n",
              "      <td>...</td>\n",
              "      <td>NaN</td>\n",
              "      <td>NaN</td>\n",
              "      <td>NaN</td>\n",
              "      <td>NaN</td>\n",
              "      <td>NaN</td>\n",
              "      <td>NaN</td>\n",
              "      <td>NaN</td>\n",
              "      <td>NaN</td>\n",
              "      <td>NaN</td>\n",
              "      <td>NaN</td>\n",
              "    </tr>\n",
              "    <tr>\n",
              "      <th>001237ad-ead0-48f7-b052-d62ffa3b5a70</th>\n",
              "      <td>NaN</td>\n",
              "      <td>NaN</td>\n",
              "      <td>NaN</td>\n",
              "      <td>NaN</td>\n",
              "      <td>NaN</td>\n",
              "      <td>NaN</td>\n",
              "      <td>NaN</td>\n",
              "      <td>NaN</td>\n",
              "      <td>NaN</td>\n",
              "      <td>NaN</td>\n",
              "      <td>...</td>\n",
              "      <td>NaN</td>\n",
              "      <td>NaN</td>\n",
              "      <td>NaN</td>\n",
              "      <td>NaN</td>\n",
              "      <td>NaN</td>\n",
              "      <td>NaN</td>\n",
              "      <td>NaN</td>\n",
              "      <td>NaN</td>\n",
              "      <td>NaN</td>\n",
              "      <td>NaN</td>\n",
              "    </tr>\n",
              "    <tr>\n",
              "      <th>00135016-37a2-4cc0-902a-9917e4cf5cc4</th>\n",
              "      <td>NaN</td>\n",
              "      <td>NaN</td>\n",
              "      <td>NaN</td>\n",
              "      <td>NaN</td>\n",
              "      <td>NaN</td>\n",
              "      <td>NaN</td>\n",
              "      <td>NaN</td>\n",
              "      <td>NaN</td>\n",
              "      <td>NaN</td>\n",
              "      <td>NaN</td>\n",
              "      <td>...</td>\n",
              "      <td>NaN</td>\n",
              "      <td>NaN</td>\n",
              "      <td>NaN</td>\n",
              "      <td>NaN</td>\n",
              "      <td>NaN</td>\n",
              "      <td>NaN</td>\n",
              "      <td>NaN</td>\n",
              "      <td>NaN</td>\n",
              "      <td>NaN</td>\n",
              "      <td>NaN</td>\n",
              "    </tr>\n",
              "  </tbody>\n",
              "</table>\n",
              "<p>5 rows × 2721 columns</p>\n",
              "</div>\n",
              "      <button class=\"colab-df-convert\" onclick=\"convertToInteractive('df-cf43d1ba-2a55-488e-8bc2-04f9e0cf845e')\"\n",
              "              title=\"Convert this dataframe to an interactive table.\"\n",
              "              style=\"display:none;\">\n",
              "        \n",
              "  <svg xmlns=\"http://www.w3.org/2000/svg\" height=\"24px\"viewBox=\"0 0 24 24\"\n",
              "       width=\"24px\">\n",
              "    <path d=\"M0 0h24v24H0V0z\" fill=\"none\"/>\n",
              "    <path d=\"M18.56 5.44l.94 2.06.94-2.06 2.06-.94-2.06-.94-.94-2.06-.94 2.06-2.06.94zm-11 1L8.5 8.5l.94-2.06 2.06-.94-2.06-.94L8.5 2.5l-.94 2.06-2.06.94zm10 10l.94 2.06.94-2.06 2.06-.94-2.06-.94-.94-2.06-.94 2.06-2.06.94z\"/><path d=\"M17.41 7.96l-1.37-1.37c-.4-.4-.92-.59-1.43-.59-.52 0-1.04.2-1.43.59L10.3 9.45l-7.72 7.72c-.78.78-.78 2.05 0 2.83L4 21.41c.39.39.9.59 1.41.59.51 0 1.02-.2 1.41-.59l7.78-7.78 2.81-2.81c.8-.78.8-2.07 0-2.86zM5.41 20L4 18.59l7.72-7.72 1.47 1.35L5.41 20z\"/>\n",
              "  </svg>\n",
              "      </button>\n",
              "      \n",
              "  <style>\n",
              "    .colab-df-container {\n",
              "      display:flex;\n",
              "      flex-wrap:wrap;\n",
              "      gap: 12px;\n",
              "    }\n",
              "\n",
              "    .colab-df-convert {\n",
              "      background-color: #E8F0FE;\n",
              "      border: none;\n",
              "      border-radius: 50%;\n",
              "      cursor: pointer;\n",
              "      display: none;\n",
              "      fill: #1967D2;\n",
              "      height: 32px;\n",
              "      padding: 0 0 0 0;\n",
              "      width: 32px;\n",
              "    }\n",
              "\n",
              "    .colab-df-convert:hover {\n",
              "      background-color: #E2EBFA;\n",
              "      box-shadow: 0px 1px 2px rgba(60, 64, 67, 0.3), 0px 1px 3px 1px rgba(60, 64, 67, 0.15);\n",
              "      fill: #174EA6;\n",
              "    }\n",
              "\n",
              "    [theme=dark] .colab-df-convert {\n",
              "      background-color: #3B4455;\n",
              "      fill: #D2E3FC;\n",
              "    }\n",
              "\n",
              "    [theme=dark] .colab-df-convert:hover {\n",
              "      background-color: #434B5C;\n",
              "      box-shadow: 0px 1px 3px 1px rgba(0, 0, 0, 0.15);\n",
              "      filter: drop-shadow(0px 1px 2px rgba(0, 0, 0, 0.3));\n",
              "      fill: #FFFFFF;\n",
              "    }\n",
              "  </style>\n",
              "\n",
              "      <script>\n",
              "        const buttonEl =\n",
              "          document.querySelector('#df-cf43d1ba-2a55-488e-8bc2-04f9e0cf845e button.colab-df-convert');\n",
              "        buttonEl.style.display =\n",
              "          google.colab.kernel.accessAllowed ? 'block' : 'none';\n",
              "\n",
              "        async function convertToInteractive(key) {\n",
              "          const element = document.querySelector('#df-cf43d1ba-2a55-488e-8bc2-04f9e0cf845e');\n",
              "          const dataTable =\n",
              "            await google.colab.kernel.invokeFunction('convertToInteractive',\n",
              "                                                     [key], {});\n",
              "          if (!dataTable) return;\n",
              "\n",
              "          const docLinkHtml = 'Like what you see? Visit the ' +\n",
              "            '<a target=\"_blank\" href=https://colab.research.google.com/notebooks/data_table.ipynb>data table notebook</a>'\n",
              "            + ' to learn more about interactive tables.';\n",
              "          element.innerHTML = '';\n",
              "          dataTable['output_type'] = 'display_data';\n",
              "          await google.colab.output.renderOutput(dataTable, element);\n",
              "          const docLink = document.createElement('div');\n",
              "          docLink.innerHTML = docLinkHtml;\n",
              "          element.appendChild(docLink);\n",
              "        }\n",
              "      </script>\n",
              "    </div>\n",
              "  </div>\n",
              "  "
            ]
          },
          "metadata": {},
          "execution_count": 7
        }
      ]
    },
    {
      "cell_type": "code",
      "source": [
        "d = data_matrix_norm.reset_index()\n",
        "d.index.names = ['scaled_purchase_freq']\n",
        "data_norm = pd.melt(d, id_vars=['reseller_id'], value_name='scaled_purchase_freq').dropna()\n",
        "print(data_norm.shape)\n",
        "data_norm.head()"
      ],
      "metadata": {
        "colab": {
          "base_uri": "https://localhost:8080/",
          "height": 224
        },
        "id": "_6D96Q2ln63Z",
        "outputId": "9a8b3e60-8ee1-4249-d943-102608a9a870"
      },
      "execution_count": null,
      "outputs": [
        {
          "output_type": "stream",
          "name": "stdout",
          "text": [
            "(172565, 3)\n"
          ]
        },
        {
          "output_type": "execute_result",
          "data": {
            "text/plain": [
              "                               reseller_id     sku  scaled_purchase_freq\n",
              "432   09444569-2e81-4eaa-98ae-a20a7fb0bb24  ACN002              0.000000\n",
              "953   1451ae4a-2ff0-4930-a114-3f66bb2777a9  ACN002              1.000000\n",
              "2837  3de7911c-d5fb-42a1-8c51-a884a71ff583  ACN002              0.000000\n",
              "3944  5623a4d1-5b1e-43fe-847a-f4c32f4eba29  ACN002              0.333333\n",
              "4536  62d1ef70-450b-45b8-964b-e1d54aaf50c5  ACN002              0.000000"
            ],
            "text/html": [
              "\n",
              "  <div id=\"df-6cda8b3f-ccee-4d29-9300-857bac8bc74e\">\n",
              "    <div class=\"colab-df-container\">\n",
              "      <div>\n",
              "<style scoped>\n",
              "    .dataframe tbody tr th:only-of-type {\n",
              "        vertical-align: middle;\n",
              "    }\n",
              "\n",
              "    .dataframe tbody tr th {\n",
              "        vertical-align: top;\n",
              "    }\n",
              "\n",
              "    .dataframe thead th {\n",
              "        text-align: right;\n",
              "    }\n",
              "</style>\n",
              "<table border=\"1\" class=\"dataframe\">\n",
              "  <thead>\n",
              "    <tr style=\"text-align: right;\">\n",
              "      <th></th>\n",
              "      <th>reseller_id</th>\n",
              "      <th>sku</th>\n",
              "      <th>scaled_purchase_freq</th>\n",
              "    </tr>\n",
              "  </thead>\n",
              "  <tbody>\n",
              "    <tr>\n",
              "      <th>432</th>\n",
              "      <td>09444569-2e81-4eaa-98ae-a20a7fb0bb24</td>\n",
              "      <td>ACN002</td>\n",
              "      <td>0.000000</td>\n",
              "    </tr>\n",
              "    <tr>\n",
              "      <th>953</th>\n",
              "      <td>1451ae4a-2ff0-4930-a114-3f66bb2777a9</td>\n",
              "      <td>ACN002</td>\n",
              "      <td>1.000000</td>\n",
              "    </tr>\n",
              "    <tr>\n",
              "      <th>2837</th>\n",
              "      <td>3de7911c-d5fb-42a1-8c51-a884a71ff583</td>\n",
              "      <td>ACN002</td>\n",
              "      <td>0.000000</td>\n",
              "    </tr>\n",
              "    <tr>\n",
              "      <th>3944</th>\n",
              "      <td>5623a4d1-5b1e-43fe-847a-f4c32f4eba29</td>\n",
              "      <td>ACN002</td>\n",
              "      <td>0.333333</td>\n",
              "    </tr>\n",
              "    <tr>\n",
              "      <th>4536</th>\n",
              "      <td>62d1ef70-450b-45b8-964b-e1d54aaf50c5</td>\n",
              "      <td>ACN002</td>\n",
              "      <td>0.000000</td>\n",
              "    </tr>\n",
              "  </tbody>\n",
              "</table>\n",
              "</div>\n",
              "      <button class=\"colab-df-convert\" onclick=\"convertToInteractive('df-6cda8b3f-ccee-4d29-9300-857bac8bc74e')\"\n",
              "              title=\"Convert this dataframe to an interactive table.\"\n",
              "              style=\"display:none;\">\n",
              "        \n",
              "  <svg xmlns=\"http://www.w3.org/2000/svg\" height=\"24px\"viewBox=\"0 0 24 24\"\n",
              "       width=\"24px\">\n",
              "    <path d=\"M0 0h24v24H0V0z\" fill=\"none\"/>\n",
              "    <path d=\"M18.56 5.44l.94 2.06.94-2.06 2.06-.94-2.06-.94-.94-2.06-.94 2.06-2.06.94zm-11 1L8.5 8.5l.94-2.06 2.06-.94-2.06-.94L8.5 2.5l-.94 2.06-2.06.94zm10 10l.94 2.06.94-2.06 2.06-.94-2.06-.94-.94-2.06-.94 2.06-2.06.94z\"/><path d=\"M17.41 7.96l-1.37-1.37c-.4-.4-.92-.59-1.43-.59-.52 0-1.04.2-1.43.59L10.3 9.45l-7.72 7.72c-.78.78-.78 2.05 0 2.83L4 21.41c.39.39.9.59 1.41.59.51 0 1.02-.2 1.41-.59l7.78-7.78 2.81-2.81c.8-.78.8-2.07 0-2.86zM5.41 20L4 18.59l7.72-7.72 1.47 1.35L5.41 20z\"/>\n",
              "  </svg>\n",
              "      </button>\n",
              "      \n",
              "  <style>\n",
              "    .colab-df-container {\n",
              "      display:flex;\n",
              "      flex-wrap:wrap;\n",
              "      gap: 12px;\n",
              "    }\n",
              "\n",
              "    .colab-df-convert {\n",
              "      background-color: #E8F0FE;\n",
              "      border: none;\n",
              "      border-radius: 50%;\n",
              "      cursor: pointer;\n",
              "      display: none;\n",
              "      fill: #1967D2;\n",
              "      height: 32px;\n",
              "      padding: 0 0 0 0;\n",
              "      width: 32px;\n",
              "    }\n",
              "\n",
              "    .colab-df-convert:hover {\n",
              "      background-color: #E2EBFA;\n",
              "      box-shadow: 0px 1px 2px rgba(60, 64, 67, 0.3), 0px 1px 3px 1px rgba(60, 64, 67, 0.15);\n",
              "      fill: #174EA6;\n",
              "    }\n",
              "\n",
              "    [theme=dark] .colab-df-convert {\n",
              "      background-color: #3B4455;\n",
              "      fill: #D2E3FC;\n",
              "    }\n",
              "\n",
              "    [theme=dark] .colab-df-convert:hover {\n",
              "      background-color: #434B5C;\n",
              "      box-shadow: 0px 1px 3px 1px rgba(0, 0, 0, 0.15);\n",
              "      filter: drop-shadow(0px 1px 2px rgba(0, 0, 0, 0.3));\n",
              "      fill: #FFFFFF;\n",
              "    }\n",
              "  </style>\n",
              "\n",
              "      <script>\n",
              "        const buttonEl =\n",
              "          document.querySelector('#df-6cda8b3f-ccee-4d29-9300-857bac8bc74e button.colab-df-convert');\n",
              "        buttonEl.style.display =\n",
              "          google.colab.kernel.accessAllowed ? 'block' : 'none';\n",
              "\n",
              "        async function convertToInteractive(key) {\n",
              "          const element = document.querySelector('#df-6cda8b3f-ccee-4d29-9300-857bac8bc74e');\n",
              "          const dataTable =\n",
              "            await google.colab.kernel.invokeFunction('convertToInteractive',\n",
              "                                                     [key], {});\n",
              "          if (!dataTable) return;\n",
              "\n",
              "          const docLinkHtml = 'Like what you see? Visit the ' +\n",
              "            '<a target=\"_blank\" href=https://colab.research.google.com/notebooks/data_table.ipynb>data table notebook</a>'\n",
              "            + ' to learn more about interactive tables.';\n",
              "          element.innerHTML = '';\n",
              "          dataTable['output_type'] = 'display_data';\n",
              "          await google.colab.output.renderOutput(dataTable, element);\n",
              "          const docLink = document.createElement('div');\n",
              "          docLink.innerHTML = docLinkHtml;\n",
              "          element.appendChild(docLink);\n",
              "        }\n",
              "      </script>\n",
              "    </div>\n",
              "  </div>\n",
              "  "
            ]
          },
          "metadata": {},
          "execution_count": 8
        }
      ]
    },
    {
      "cell_type": "markdown",
      "source": [
        "#### Add Turicreate Library "
      ],
      "metadata": {
        "id": "YTr1z1-ZIz8n"
      }
    },
    {
      "cell_type": "code",
      "source": [
        "from sklearn.model_selection import train_test_split\n",
        "!pip install turicreate\n",
        "import turicreate as tc\n"
      ],
      "metadata": {
        "colab": {
          "base_uri": "https://localhost:8080/"
        },
        "id": "8D6haTY0t8qP",
        "outputId": "ef02f196-9b75-4fe3-f4c5-34ed61cf003a"
      },
      "execution_count": null,
      "outputs": [
        {
          "output_type": "stream",
          "name": "stdout",
          "text": [
            "Looking in indexes: https://pypi.org/simple, https://us-python.pkg.dev/colab-wheels/public/simple/\n",
            "Collecting turicreate\n",
            "  Downloading turicreate-6.4.1-cp38-cp38-manylinux1_x86_64.whl (92.0 MB)\n",
            "\u001b[K     |████████████████████████████████| 92.0 MB 1.2 MB/s \n",
            "\u001b[?25hRequirement already satisfied: pandas>=0.23.2 in /usr/local/lib/python3.8/dist-packages (from turicreate) (1.3.5)\n",
            "Requirement already satisfied: pillow>=5.2.0 in /usr/local/lib/python3.8/dist-packages (from turicreate) (7.1.2)\n",
            "Requirement already satisfied: decorator>=4.0.9 in /usr/local/lib/python3.8/dist-packages (from turicreate) (4.4.2)\n",
            "Requirement already satisfied: requests>=2.9.1 in /usr/local/lib/python3.8/dist-packages (from turicreate) (2.23.0)\n",
            "Requirement already satisfied: numpy in /usr/local/lib/python3.8/dist-packages (from turicreate) (1.21.6)\n",
            "Requirement already satisfied: scipy>=1.1.0 in /usr/local/lib/python3.8/dist-packages (from turicreate) (1.7.3)\n",
            "Collecting numba<0.51.0\n",
            "  Downloading numba-0.50.1-cp38-cp38-manylinux2014_x86_64.whl (3.6 MB)\n",
            "\u001b[K     |████████████████████████████████| 3.6 MB 74.7 MB/s \n",
            "\u001b[?25hCollecting prettytable==0.7.2\n",
            "  Downloading prettytable-0.7.2.zip (28 kB)\n",
            "Requirement already satisfied: six>=1.10.0 in /usr/local/lib/python3.8/dist-packages (from turicreate) (1.15.0)\n",
            "Collecting coremltools==4.0b3\n",
            "  Downloading coremltools-4.0b3-py3-none-any.whl (4.6 MB)\n",
            "\u001b[K     |████████████████████████████████| 4.6 MB 53.0 MB/s \n",
            "\u001b[?25hCollecting resampy==0.2.1\n",
            "  Downloading resampy-0.2.1.tar.gz (322 kB)\n",
            "\u001b[K     |████████████████████████████████| 322 kB 62.3 MB/s \n",
            "\u001b[?25hRequirement already satisfied: tensorflow>=2.0.0 in /usr/local/lib/python3.8/dist-packages (from turicreate) (2.9.2)\n",
            "Collecting attr\n",
            "  Downloading attr-0.3.2-py2.py3-none-any.whl (3.3 kB)\n",
            "Requirement already satisfied: attrs in /usr/local/lib/python3.8/dist-packages (from coremltools==4.0b3->turicreate) (22.1.0)\n",
            "Requirement already satisfied: tqdm in /usr/local/lib/python3.8/dist-packages (from coremltools==4.0b3->turicreate) (4.64.1)\n",
            "Requirement already satisfied: protobuf>=3.1.0 in /usr/local/lib/python3.8/dist-packages (from coremltools==4.0b3->turicreate) (3.19.6)\n",
            "Requirement already satisfied: sympy in /usr/local/lib/python3.8/dist-packages (from coremltools==4.0b3->turicreate) (1.7.1)\n",
            "Requirement already satisfied: setuptools in /usr/local/lib/python3.8/dist-packages (from numba<0.51.0->turicreate) (57.4.0)\n",
            "Collecting llvmlite<0.34,>=0.33.0.dev0\n",
            "  Downloading llvmlite-0.33.0-cp38-cp38-manylinux1_x86_64.whl (18.3 MB)\n",
            "\u001b[K     |████████████████████████████████| 18.3 MB 245 kB/s \n",
            "\u001b[?25hRequirement already satisfied: pytz>=2017.3 in /usr/local/lib/python3.8/dist-packages (from pandas>=0.23.2->turicreate) (2022.6)\n",
            "Requirement already satisfied: python-dateutil>=2.7.3 in /usr/local/lib/python3.8/dist-packages (from pandas>=0.23.2->turicreate) (2.8.2)\n",
            "Requirement already satisfied: urllib3!=1.25.0,!=1.25.1,<1.26,>=1.21.1 in /usr/local/lib/python3.8/dist-packages (from requests>=2.9.1->turicreate) (1.24.3)\n",
            "Requirement already satisfied: chardet<4,>=3.0.2 in /usr/local/lib/python3.8/dist-packages (from requests>=2.9.1->turicreate) (3.0.4)\n",
            "Requirement already satisfied: certifi>=2017.4.17 in /usr/local/lib/python3.8/dist-packages (from requests>=2.9.1->turicreate) (2022.9.24)\n",
            "Requirement already satisfied: idna<3,>=2.5 in /usr/local/lib/python3.8/dist-packages (from requests>=2.9.1->turicreate) (2.10)\n",
            "Requirement already satisfied: termcolor>=1.1.0 in /usr/local/lib/python3.8/dist-packages (from tensorflow>=2.0.0->turicreate) (2.1.1)\n",
            "Requirement already satisfied: h5py>=2.9.0 in /usr/local/lib/python3.8/dist-packages (from tensorflow>=2.0.0->turicreate) (3.1.0)\n",
            "Requirement already satisfied: typing-extensions>=3.6.6 in /usr/local/lib/python3.8/dist-packages (from tensorflow>=2.0.0->turicreate) (4.4.0)\n",
            "Requirement already satisfied: tensorflow-estimator<2.10.0,>=2.9.0rc0 in /usr/local/lib/python3.8/dist-packages (from tensorflow>=2.0.0->turicreate) (2.9.0)\n",
            "Requirement already satisfied: opt-einsum>=2.3.2 in /usr/local/lib/python3.8/dist-packages (from tensorflow>=2.0.0->turicreate) (3.3.0)\n",
            "Requirement already satisfied: grpcio<2.0,>=1.24.3 in /usr/local/lib/python3.8/dist-packages (from tensorflow>=2.0.0->turicreate) (1.51.1)\n",
            "Requirement already satisfied: packaging in /usr/local/lib/python3.8/dist-packages (from tensorflow>=2.0.0->turicreate) (21.3)\n",
            "Requirement already satisfied: astunparse>=1.6.0 in /usr/local/lib/python3.8/dist-packages (from tensorflow>=2.0.0->turicreate) (1.6.3)\n",
            "Requirement already satisfied: google-pasta>=0.1.1 in /usr/local/lib/python3.8/dist-packages (from tensorflow>=2.0.0->turicreate) (0.2.0)\n",
            "Requirement already satisfied: tensorboard<2.10,>=2.9 in /usr/local/lib/python3.8/dist-packages (from tensorflow>=2.0.0->turicreate) (2.9.1)\n",
            "Requirement already satisfied: tensorflow-io-gcs-filesystem>=0.23.1 in /usr/local/lib/python3.8/dist-packages (from tensorflow>=2.0.0->turicreate) (0.28.0)\n",
            "Requirement already satisfied: gast<=0.4.0,>=0.2.1 in /usr/local/lib/python3.8/dist-packages (from tensorflow>=2.0.0->turicreate) (0.4.0)\n",
            "Requirement already satisfied: wrapt>=1.11.0 in /usr/local/lib/python3.8/dist-packages (from tensorflow>=2.0.0->turicreate) (1.14.1)\n",
            "Requirement already satisfied: absl-py>=1.0.0 in /usr/local/lib/python3.8/dist-packages (from tensorflow>=2.0.0->turicreate) (1.3.0)\n",
            "Requirement already satisfied: keras<2.10.0,>=2.9.0rc0 in /usr/local/lib/python3.8/dist-packages (from tensorflow>=2.0.0->turicreate) (2.9.0)\n",
            "Requirement already satisfied: libclang>=13.0.0 in /usr/local/lib/python3.8/dist-packages (from tensorflow>=2.0.0->turicreate) (14.0.6)\n",
            "Requirement already satisfied: keras-preprocessing>=1.1.1 in /usr/local/lib/python3.8/dist-packages (from tensorflow>=2.0.0->turicreate) (1.1.2)\n",
            "Requirement already satisfied: flatbuffers<2,>=1.12 in /usr/local/lib/python3.8/dist-packages (from tensorflow>=2.0.0->turicreate) (1.12)\n",
            "Requirement already satisfied: wheel<1.0,>=0.23.0 in /usr/local/lib/python3.8/dist-packages (from astunparse>=1.6.0->tensorflow>=2.0.0->turicreate) (0.38.4)\n",
            "Requirement already satisfied: google-auth-oauthlib<0.5,>=0.4.1 in /usr/local/lib/python3.8/dist-packages (from tensorboard<2.10,>=2.9->tensorflow>=2.0.0->turicreate) (0.4.6)\n",
            "Requirement already satisfied: tensorboard-plugin-wit>=1.6.0 in /usr/local/lib/python3.8/dist-packages (from tensorboard<2.10,>=2.9->tensorflow>=2.0.0->turicreate) (1.8.1)\n",
            "Requirement already satisfied: google-auth<3,>=1.6.3 in /usr/local/lib/python3.8/dist-packages (from tensorboard<2.10,>=2.9->tensorflow>=2.0.0->turicreate) (2.15.0)\n",
            "Requirement already satisfied: markdown>=2.6.8 in /usr/local/lib/python3.8/dist-packages (from tensorboard<2.10,>=2.9->tensorflow>=2.0.0->turicreate) (3.4.1)\n",
            "Requirement already satisfied: werkzeug>=1.0.1 in /usr/local/lib/python3.8/dist-packages (from tensorboard<2.10,>=2.9->tensorflow>=2.0.0->turicreate) (1.0.1)\n",
            "Requirement already satisfied: tensorboard-data-server<0.7.0,>=0.6.0 in /usr/local/lib/python3.8/dist-packages (from tensorboard<2.10,>=2.9->tensorflow>=2.0.0->turicreate) (0.6.1)\n",
            "Requirement already satisfied: pyasn1-modules>=0.2.1 in /usr/local/lib/python3.8/dist-packages (from google-auth<3,>=1.6.3->tensorboard<2.10,>=2.9->tensorflow>=2.0.0->turicreate) (0.2.8)\n",
            "Requirement already satisfied: cachetools<6.0,>=2.0.0 in /usr/local/lib/python3.8/dist-packages (from google-auth<3,>=1.6.3->tensorboard<2.10,>=2.9->tensorflow>=2.0.0->turicreate) (5.2.0)\n",
            "Requirement already satisfied: rsa<5,>=3.1.4 in /usr/local/lib/python3.8/dist-packages (from google-auth<3,>=1.6.3->tensorboard<2.10,>=2.9->tensorflow>=2.0.0->turicreate) (4.9)\n",
            "Requirement already satisfied: requests-oauthlib>=0.7.0 in /usr/local/lib/python3.8/dist-packages (from google-auth-oauthlib<0.5,>=0.4.1->tensorboard<2.10,>=2.9->tensorflow>=2.0.0->turicreate) (1.3.1)\n",
            "Requirement already satisfied: importlib-metadata>=4.4 in /usr/local/lib/python3.8/dist-packages (from markdown>=2.6.8->tensorboard<2.10,>=2.9->tensorflow>=2.0.0->turicreate) (4.13.0)\n",
            "Requirement already satisfied: zipp>=0.5 in /usr/local/lib/python3.8/dist-packages (from importlib-metadata>=4.4->markdown>=2.6.8->tensorboard<2.10,>=2.9->tensorflow>=2.0.0->turicreate) (3.11.0)\n",
            "Requirement already satisfied: pyasn1<0.5.0,>=0.4.6 in /usr/local/lib/python3.8/dist-packages (from pyasn1-modules>=0.2.1->google-auth<3,>=1.6.3->tensorboard<2.10,>=2.9->tensorflow>=2.0.0->turicreate) (0.4.8)\n",
            "Requirement already satisfied: oauthlib>=3.0.0 in /usr/local/lib/python3.8/dist-packages (from requests-oauthlib>=0.7.0->google-auth-oauthlib<0.5,>=0.4.1->tensorboard<2.10,>=2.9->tensorflow>=2.0.0->turicreate) (3.2.2)\n",
            "Requirement already satisfied: pyparsing!=3.0.5,>=2.0.2 in /usr/local/lib/python3.8/dist-packages (from packaging->tensorflow>=2.0.0->turicreate) (3.0.9)\n",
            "Requirement already satisfied: mpmath>=0.19 in /usr/local/lib/python3.8/dist-packages (from sympy->coremltools==4.0b3->turicreate) (1.2.1)\n",
            "Building wheels for collected packages: prettytable, resampy\n",
            "  Building wheel for prettytable (setup.py) ... \u001b[?25l\u001b[?25hdone\n",
            "  Created wheel for prettytable: filename=prettytable-0.7.2-py3-none-any.whl size=13714 sha256=09d7fd3a37b2864d34a1b05b2277aac53bb467dd1b7ddfc3f78b4d428cf0778e\n",
            "  Stored in directory: /root/.cache/pip/wheels/48/6d/77/9517cb933af254f51a446f1a5ec9c2be3e45f17384940bce68\n",
            "  Building wheel for resampy (setup.py) ... \u001b[?25l\u001b[?25hdone\n",
            "  Created wheel for resampy: filename=resampy-0.2.1-py3-none-any.whl size=320859 sha256=4134b89f3a79a431b1ea54e75ed6057c21409a3b6579b5c88c5b2dde178eb876\n",
            "  Stored in directory: /root/.cache/pip/wheels/2b/a9/15/89e0e4544c36f50e4e8d54d546f2331c461f505d3b55d3f358\n",
            "Successfully built prettytable resampy\n",
            "Installing collected packages: llvmlite, numba, attr, resampy, prettytable, coremltools, turicreate\n",
            "  Attempting uninstall: llvmlite\n",
            "    Found existing installation: llvmlite 0.39.1\n",
            "    Uninstalling llvmlite-0.39.1:\n",
            "      Successfully uninstalled llvmlite-0.39.1\n",
            "  Attempting uninstall: numba\n",
            "    Found existing installation: numba 0.56.4\n",
            "    Uninstalling numba-0.56.4:\n",
            "      Successfully uninstalled numba-0.56.4\n",
            "  Attempting uninstall: resampy\n",
            "    Found existing installation: resampy 0.4.2\n",
            "    Uninstalling resampy-0.4.2:\n",
            "      Successfully uninstalled resampy-0.4.2\n",
            "  Attempting uninstall: prettytable\n",
            "    Found existing installation: prettytable 3.5.0\n",
            "    Uninstalling prettytable-3.5.0:\n",
            "      Successfully uninstalled prettytable-3.5.0\n",
            "\u001b[31mERROR: pip's dependency resolver does not currently take into account all the packages that are installed. This behaviour is the source of the following dependency conflicts.\n",
            "librosa 0.8.1 requires resampy>=0.2.2, but you have resampy 0.2.1 which is incompatible.\u001b[0m\n",
            "Successfully installed attr-0.3.2 coremltools-4.0b3 llvmlite-0.33.0 numba-0.50.1 prettytable-0.7.2 resampy-0.2.1 turicreate-6.4.1\n"
          ]
        }
      ]
    },
    {
      "cell_type": "markdown",
      "source": [
        "#### Train_Test_Split_Function"
      ],
      "metadata": {
        "id": "pu7QnSW5EOrR"
      }
    },
    {
      "cell_type": "code",
      "source": [
        "def split_data(data):\n",
        "    '''\n",
        "    Splits dataset into training and test set.\n",
        "    \n",
        "    Args:\n",
        "        data (pandas.DataFrame)\n",
        "        \n",
        "    Returns\n",
        "        train_data (tc.SFrame)\n",
        "        test_data (tc.SFrame)\n",
        "    '''\n",
        "    train, test = train_test_split(data, test_size = .2)\n",
        "    #turicreate takes argument as SFrame\n",
        "    train_data = tc.SFrame(train)\n",
        "    test_data = tc.SFrame(test)\n",
        "    return train_data, test_data"
      ],
      "metadata": {
        "id": "sIBR5z-q47QT"
      },
      "execution_count": null,
      "outputs": []
    },
    {
      "cell_type": "markdown",
      "source": [
        "#### data -> reseller_id | sku | quantity\n",
        "#### data_dummy -> reseller_id | sku | quantity | purchase_dummy\n",
        "#### data_norm -> reseller_id | sku | scaled_purchase_freq"
      ],
      "metadata": {
        "id": "YEoZIPdMJAQB"
      }
    },
    {
      "cell_type": "code",
      "source": [
        "train_data_dummy, test_data_dummy = split_data(data_dummy)\n",
        "train_data_norm, test_data_norm = split_data(data_norm)"
      ],
      "metadata": {
        "id": "VwyoKXO12Zcb"
      },
      "execution_count": null,
      "outputs": []
    },
    {
      "cell_type": "code",
      "source": [
        "train_data, test_data = split_data(data)"
      ],
      "metadata": {
        "id": "m4rTqc60B4mM"
      },
      "execution_count": null,
      "outputs": []
    },
    {
      "cell_type": "markdown",
      "source": [
        "#### Popularity Model"
      ],
      "metadata": {
        "id": "D7UZ2Tg5N9TM"
      }
    },
    {
      "cell_type": "code",
      "source": [
        "# popularity model data -> reseller_id | sku | quantity\n",
        "user_id = 'reseller_id'\n",
        "item_id = 'sku'\n",
        "target = 'quantity'\n",
        "users_to_recommend = list(['fff78986-688d-4a5b-a950-bd87c21a9472','e2e43744-4107-4a4e-87a7-f4e1c4759835'])\n",
        "n_rec = 10 # number of items to recommend\n",
        "n_display = 20 # number of rows will show\n",
        "popularity_model = tc.popularity_recommender.create(train_data, \n",
        "                                                    user_id=user_id, \n",
        "                                                    item_id=item_id, \n",
        "                                                    target=target)\n"
      ],
      "metadata": {
        "colab": {
          "base_uri": "https://localhost:8080/",
          "height": 86
        },
        "id": "d_7-aJV5BnZz",
        "outputId": "c5e16b42-a20a-43fe-b31c-926ff85f6d5f"
      },
      "execution_count": null,
      "outputs": [
        {
          "output_type": "display_data",
          "data": {
            "text/plain": [
              "Preparing data set."
            ],
            "text/html": [
              "<pre>Preparing data set.</pre>"
            ]
          },
          "metadata": {}
        },
        {
          "output_type": "display_data",
          "data": {
            "text/plain": [
              "    Data has 314848 observations with 10822 users and 2681 items."
            ],
            "text/html": [
              "<pre>    Data has 314848 observations with 10822 users and 2681 items.</pre>"
            ]
          },
          "metadata": {}
        },
        {
          "output_type": "display_data",
          "data": {
            "text/plain": [
              "    Data prepared in: 1.11077s"
            ],
            "text/html": [
              "<pre>    Data prepared in: 1.11077s</pre>"
            ]
          },
          "metadata": {}
        },
        {
          "output_type": "display_data",
          "data": {
            "text/plain": [
              "314848 observations to process; with 2681 unique items."
            ],
            "text/html": [
              "<pre>314848 observations to process; with 2681 unique items.</pre>"
            ]
          },
          "metadata": {}
        }
      ]
    },
    {
      "cell_type": "code",
      "source": [
        "popularity_recomm = popularity_model.recommend(k=n_rec)\n",
        "popularity_recomm.print_rows(n_display)"
      ],
      "metadata": {
        "id": "SyJpgRgpCrm_",
        "colab": {
          "base_uri": "https://localhost:8080/",
          "height": 642
        },
        "outputId": "20f82288-c8cc-4fdf-935f-5a01e9cf00be"
      },
      "execution_count": null,
      "outputs": [
        {
          "output_type": "display_data",
          "data": {
            "text/plain": [
              "recommendations finished on 1000/10822 queries. users per second: 20692.4"
            ],
            "text/html": [
              "<pre>recommendations finished on 1000/10822 queries. users per second: 20692.4</pre>"
            ]
          },
          "metadata": {}
        },
        {
          "output_type": "display_data",
          "data": {
            "text/plain": [
              "recommendations finished on 2000/10822 queries. users per second: 23383.3"
            ],
            "text/html": [
              "<pre>recommendations finished on 2000/10822 queries. users per second: 23383.3</pre>"
            ]
          },
          "metadata": {}
        },
        {
          "output_type": "display_data",
          "data": {
            "text/plain": [
              "recommendations finished on 3000/10822 queries. users per second: 24280.7"
            ],
            "text/html": [
              "<pre>recommendations finished on 3000/10822 queries. users per second: 24280.7</pre>"
            ]
          },
          "metadata": {}
        },
        {
          "output_type": "display_data",
          "data": {
            "text/plain": [
              "recommendations finished on 4000/10822 queries. users per second: 24907.4"
            ],
            "text/html": [
              "<pre>recommendations finished on 4000/10822 queries. users per second: 24907.4</pre>"
            ]
          },
          "metadata": {}
        },
        {
          "output_type": "display_data",
          "data": {
            "text/plain": [
              "recommendations finished on 5000/10822 queries. users per second: 25765.8"
            ],
            "text/html": [
              "<pre>recommendations finished on 5000/10822 queries. users per second: 25765.8</pre>"
            ]
          },
          "metadata": {}
        },
        {
          "output_type": "display_data",
          "data": {
            "text/plain": [
              "recommendations finished on 6000/10822 queries. users per second: 25787.5"
            ],
            "text/html": [
              "<pre>recommendations finished on 6000/10822 queries. users per second: 25787.5</pre>"
            ]
          },
          "metadata": {}
        },
        {
          "output_type": "display_data",
          "data": {
            "text/plain": [
              "recommendations finished on 7000/10822 queries. users per second: 26617.4"
            ],
            "text/html": [
              "<pre>recommendations finished on 7000/10822 queries. users per second: 26617.4</pre>"
            ]
          },
          "metadata": {}
        },
        {
          "output_type": "display_data",
          "data": {
            "text/plain": [
              "recommendations finished on 8000/10822 queries. users per second: 26419.6"
            ],
            "text/html": [
              "<pre>recommendations finished on 8000/10822 queries. users per second: 26419.6</pre>"
            ]
          },
          "metadata": {}
        },
        {
          "output_type": "display_data",
          "data": {
            "text/plain": [
              "recommendations finished on 9000/10822 queries. users per second: 26712.4"
            ],
            "text/html": [
              "<pre>recommendations finished on 9000/10822 queries. users per second: 26712.4</pre>"
            ]
          },
          "metadata": {}
        },
        {
          "output_type": "display_data",
          "data": {
            "text/plain": [
              "recommendations finished on 10000/10822 queries. users per second: 26707.1"
            ],
            "text/html": [
              "<pre>recommendations finished on 10000/10822 queries. users per second: 26707.1</pre>"
            ]
          },
          "metadata": {}
        },
        {
          "output_type": "stream",
          "name": "stdout",
          "text": [
            "+-------------------------------+---------+-------+------+\n",
            "|          reseller_id          |   sku   | score | rank |\n",
            "+-------------------------------+---------+-------+------+\n",
            "| 199af85e-90a3-4594-ba6b-ff... | BEAU006 | 240.0 |  1   |\n",
            "| 199af85e-90a3-4594-ba6b-ff... | BEAU001 | 240.0 |  2   |\n",
            "| 199af85e-90a3-4594-ba6b-ff... | BEAU007 | 240.0 |  3   |\n",
            "| 199af85e-90a3-4594-ba6b-ff... | BEAU009 | 240.0 |  4   |\n",
            "| 199af85e-90a3-4594-ba6b-ff... | BEAU003 | 240.0 |  5   |\n",
            "| 199af85e-90a3-4594-ba6b-ff... | BEAU008 | 240.0 |  6   |\n",
            "| 199af85e-90a3-4594-ba6b-ff... | BEAU004 | 240.0 |  7   |\n",
            "| 199af85e-90a3-4594-ba6b-ff... | BEAU002 | 240.0 |  8   |\n",
            "| 199af85e-90a3-4594-ba6b-ff... | BEAU012 | 240.0 |  9   |\n",
            "| 199af85e-90a3-4594-ba6b-ff... | BEAU005 | 240.0 |  10  |\n",
            "| 1902cd69-849a-4512-9ccf-15... | BEAU006 | 240.0 |  1   |\n",
            "| 1902cd69-849a-4512-9ccf-15... | BEAU001 | 240.0 |  2   |\n",
            "| 1902cd69-849a-4512-9ccf-15... | BEAU007 | 240.0 |  3   |\n",
            "| 1902cd69-849a-4512-9ccf-15... | BEAU009 | 240.0 |  4   |\n",
            "| 1902cd69-849a-4512-9ccf-15... | BEAU003 | 240.0 |  5   |\n",
            "| 1902cd69-849a-4512-9ccf-15... | BEAU008 | 240.0 |  6   |\n",
            "| 1902cd69-849a-4512-9ccf-15... | BEAU004 | 240.0 |  7   |\n",
            "| 1902cd69-849a-4512-9ccf-15... | BEAU002 | 240.0 |  8   |\n",
            "| 1902cd69-849a-4512-9ccf-15... | BEAU012 | 240.0 |  9   |\n",
            "| 1902cd69-849a-4512-9ccf-15... | BEAU005 | 240.0 |  10  |\n",
            "+-------------------------------+---------+-------+------+\n",
            "[108220 rows x 4 columns]\n",
            "\n"
          ]
        }
      ]
    },
    {
      "cell_type": "markdown",
      "source": [
        "#### Model Function"
      ],
      "metadata": {
        "id": "_S-aVV_fEJkD"
      }
    },
    {
      "cell_type": "markdown",
      "source": [
        "#### item-to-item similarity\n",
        "##### 1. two item-vectors, v1 for item X and v2 for item Y, in the user-space of (1, 2) and then find the cosine or pearson angle/distance between these vectors. A zero angle or overlapping vectors with cosine value of 1 means total similarity (or per user, across all items, there is same rating) and an angle of 90 degree would mean cosine of 0 or no similarity.\n",
        "\n",
        "##### 2. we will calculate rating for user 2 in the case of item Z (target item). To calculate this we weigh the just-calculated similarity-measure between the target item and other items that customer has already bought. The weighing factor is the purchase counts given by the user to items already bought by him.\n",
        "\n",
        "##### 3. this weighted sum with the sum of similarity-measures so that the calculated rating remains within a predefined limits. Thus, the predicted rating for item Z for user 2 would be calculated using similarity measures.\n"
      ],
      "metadata": {
        "id": "4KjJhRU-Sk-n"
      }
    },
    {
      "cell_type": "code",
      "source": [
        "def model(train_data, name, user_id, item_id, target, users_to_recommend, n_rec, n_display):\n",
        "    if name == 'popularity':\n",
        "        model = tc.popularity_recommender.create(train_data, \n",
        "                                                    user_id=user_id, \n",
        "                                                    item_id=item_id, \n",
        "                                                    target=target)\n",
        "    elif name == 'cosine':\n",
        "        model = tc.item_similarity_recommender.create(train_data, \n",
        "                                                    user_id=user_id, \n",
        "                                                    item_id=item_id, \n",
        "                                                    target=target, \n",
        "                                                    similarity_type='cosine')\n",
        "    elif name == 'pearson':\n",
        "        model = tc.item_similarity_recommender.create(train_data, \n",
        "                                                    user_id=user_id, \n",
        "                                                    item_id=item_id, \n",
        "                                                    target=target, \n",
        "                                                    similarity_type='pearson')\n",
        "        \n",
        "    recom = model.recommend(users=users_to_recommend, k=n_rec)\n",
        "    recom.print_rows(n_display)\n",
        "    return model"
      ],
      "metadata": {
        "id": "ASZSc1BEDA75"
      },
      "execution_count": null,
      "outputs": []
    },
    {
      "cell_type": "code",
      "source": [
        "# popularity model data -> reseller_id | sku | scaled_purchase_freq\n",
        "name = 'popularity'\n",
        "user_id = 'reseller_id'\n",
        "item_id = 'sku'\n",
        "target = 'scaled_purchase_freq'\n",
        "users_to_recommend = list(['fff78986-688d-4a5b-a950-bd87c21a9472','e2e43744-4107-4a4e-87a7-f4e1c4759835'])\n",
        "n_rec = 10 # number of items to recommend\n",
        "n_display = 20 # number of rows will show\n",
        "popularity_scaled = model(train_data_norm, name, user_id, item_id, target, users_to_recommend, n_rec, n_display)"
      ],
      "metadata": {
        "colab": {
          "base_uri": "https://localhost:8080/",
          "height": 538
        },
        "id": "B1MKGWcWOx7A",
        "outputId": "b9fa35d6-efcd-4942-f324-5471190c5170"
      },
      "execution_count": null,
      "outputs": [
        {
          "output_type": "display_data",
          "data": {
            "text/plain": [
              "Preparing data set."
            ],
            "text/html": [
              "<pre>Preparing data set.</pre>"
            ]
          },
          "metadata": {}
        },
        {
          "output_type": "display_data",
          "data": {
            "text/plain": [
              "    Data has 138052 observations with 10852 users and 2336 items."
            ],
            "text/html": [
              "<pre>    Data has 138052 observations with 10852 users and 2336 items.</pre>"
            ]
          },
          "metadata": {}
        },
        {
          "output_type": "display_data",
          "data": {
            "text/plain": [
              "    Data prepared in: 0.219781s"
            ],
            "text/html": [
              "<pre>    Data prepared in: 0.219781s</pre>"
            ]
          },
          "metadata": {}
        },
        {
          "output_type": "display_data",
          "data": {
            "text/plain": [
              "138052 observations to process; with 2336 unique items."
            ],
            "text/html": [
              "<pre>138052 observations to process; with 2336 unique items.</pre>"
            ]
          },
          "metadata": {}
        },
        {
          "output_type": "stream",
          "name": "stdout",
          "text": [
            "+-------------------------------+--------+-------+------+\n",
            "|          reseller_id          |  sku   | score | rank |\n",
            "+-------------------------------+--------+-------+------+\n",
            "| fff78986-688d-4a5b-a950-bd... | GFX023 |  1.0  |  1   |\n",
            "| fff78986-688d-4a5b-a950-bd... | UST006 |  1.0  |  2   |\n",
            "| fff78986-688d-4a5b-a950-bd... | DMB045 |  1.0  |  3   |\n",
            "| fff78986-688d-4a5b-a950-bd... | YLC040 |  1.0  |  4   |\n",
            "| fff78986-688d-4a5b-a950-bd... | SCA010 |  1.0  |  5   |\n",
            "| fff78986-688d-4a5b-a950-bd... | RAD010 |  1.0  |  6   |\n",
            "| fff78986-688d-4a5b-a950-bd... | FOC135 |  1.0  |  7   |\n",
            "| fff78986-688d-4a5b-a950-bd... | FOC069 |  1.0  |  8   |\n",
            "| fff78986-688d-4a5b-a950-bd... | BUN008 |  1.0  |  9   |\n",
            "| fff78986-688d-4a5b-a950-bd... | LAB007 |  1.0  |  10  |\n",
            "| e2e43744-4107-4a4e-87a7-f4... | GFX023 |  1.0  |  1   |\n",
            "| e2e43744-4107-4a4e-87a7-f4... | UST006 |  1.0  |  2   |\n",
            "| e2e43744-4107-4a4e-87a7-f4... | DMB045 |  1.0  |  3   |\n",
            "| e2e43744-4107-4a4e-87a7-f4... | YLC040 |  1.0  |  4   |\n",
            "| e2e43744-4107-4a4e-87a7-f4... | SCA010 |  1.0  |  5   |\n",
            "| e2e43744-4107-4a4e-87a7-f4... | RAD010 |  1.0  |  6   |\n",
            "| e2e43744-4107-4a4e-87a7-f4... | FOC135 |  1.0  |  7   |\n",
            "| e2e43744-4107-4a4e-87a7-f4... | FOC069 |  1.0  |  8   |\n",
            "| e2e43744-4107-4a4e-87a7-f4... | BUN008 |  1.0  |  9   |\n",
            "| e2e43744-4107-4a4e-87a7-f4... | LAB007 |  1.0  |  10  |\n",
            "+-------------------------------+--------+-------+------+\n",
            "[20 rows x 4 columns]\n",
            "\n"
          ]
        }
      ]
    },
    {
      "cell_type": "markdown",
      "source": [
        "##### Each user is recommended this product 'WGO009'. This is because popularity is calculated by taking the most popular items across all users."
      ],
      "metadata": {
        "id": "_-FV-gC0RL_t"
      }
    },
    {
      "cell_type": "code",
      "source": [
        "# popularity model data -> reseller_id | sku | purchase_dummy\n",
        "name = 'popularity'\n",
        "user_id = 'reseller_id'\n",
        "item_id = 'sku'\n",
        "target = 'purchase_dummy'\n",
        "users_to_recommend = list(['fff78986-688d-4a5b-a950-bd87c21a9472','e2e43744-4107-4a4e-87a7-f4e1c4759835'])\n",
        "n_rec = 10 # number of items to recommend\n",
        "n_display = 20 # number of rows will show\n",
        "popularity_dummy = model(train_data_dummy, name, user_id, item_id, target, users_to_recommend, n_rec, n_display)"
      ],
      "metadata": {
        "colab": {
          "base_uri": "https://localhost:8080/",
          "height": 573
        },
        "id": "G0ficeYCHk0e",
        "outputId": "9769719d-e93a-41a2-fe6a-b4ec82a95307"
      },
      "execution_count": null,
      "outputs": [
        {
          "output_type": "display_data",
          "data": {
            "text/plain": [
              "Warning: Ignoring columns quantity;"
            ],
            "text/html": [
              "<pre>Warning: Ignoring columns quantity;</pre>"
            ]
          },
          "metadata": {}
        },
        {
          "output_type": "display_data",
          "data": {
            "text/plain": [
              "    To use these columns in scoring predictions, use a model that allows the use of additional features."
            ],
            "text/html": [
              "<pre>    To use these columns in scoring predictions, use a model that allows the use of additional features.</pre>"
            ]
          },
          "metadata": {}
        },
        {
          "output_type": "display_data",
          "data": {
            "text/plain": [
              "Preparing data set."
            ],
            "text/html": [
              "<pre>Preparing data set.</pre>"
            ]
          },
          "metadata": {}
        },
        {
          "output_type": "display_data",
          "data": {
            "text/plain": [
              "    Data has 314848 observations with 10833 users and 2697 items."
            ],
            "text/html": [
              "<pre>    Data has 314848 observations with 10833 users and 2697 items.</pre>"
            ]
          },
          "metadata": {}
        },
        {
          "output_type": "display_data",
          "data": {
            "text/plain": [
              "    Data prepared in: 0.367501s"
            ],
            "text/html": [
              "<pre>    Data prepared in: 0.367501s</pre>"
            ]
          },
          "metadata": {}
        },
        {
          "output_type": "display_data",
          "data": {
            "text/plain": [
              "314848 observations to process; with 2697 unique items."
            ],
            "text/html": [
              "<pre>314848 observations to process; with 2697 unique items.</pre>"
            ]
          },
          "metadata": {}
        },
        {
          "output_type": "stream",
          "name": "stdout",
          "text": [
            "+-------------------------------+--------+-------+------+\n",
            "|          reseller_id          |  sku   | score | rank |\n",
            "+-------------------------------+--------+-------+------+\n",
            "| fff78986-688d-4a5b-a950-bd... | ST001  |  1.0  |  1   |\n",
            "| fff78986-688d-4a5b-a950-bd... | AVS027 |  1.0  |  2   |\n",
            "| fff78986-688d-4a5b-a950-bd... | GNG002 |  1.0  |  3   |\n",
            "| fff78986-688d-4a5b-a950-bd... | BWT001 |  1.0  |  4   |\n",
            "| fff78986-688d-4a5b-a950-bd... | JCQ010 |  1.0  |  5   |\n",
            "| fff78986-688d-4a5b-a950-bd... | AVS013 |  1.0  |  6   |\n",
            "| fff78986-688d-4a5b-a950-bd... | SF008  |  1.0  |  7   |\n",
            "| fff78986-688d-4a5b-a950-bd... | GNG004 |  1.0  |  8   |\n",
            "| fff78986-688d-4a5b-a950-bd... | HAN059 |  1.0  |  9   |\n",
            "| fff78986-688d-4a5b-a950-bd... | SIT007 |  1.0  |  10  |\n",
            "| e2e43744-4107-4a4e-87a7-f4... | AVS027 |  1.0  |  1   |\n",
            "| e2e43744-4107-4a4e-87a7-f4... | GNG002 |  1.0  |  2   |\n",
            "| e2e43744-4107-4a4e-87a7-f4... | SF001  |  1.0  |  3   |\n",
            "| e2e43744-4107-4a4e-87a7-f4... | JCQ010 |  1.0  |  4   |\n",
            "| e2e43744-4107-4a4e-87a7-f4... | SF030  |  1.0  |  5   |\n",
            "| e2e43744-4107-4a4e-87a7-f4... | AVS013 |  1.0  |  6   |\n",
            "| e2e43744-4107-4a4e-87a7-f4... | SF008  |  1.0  |  7   |\n",
            "| e2e43744-4107-4a4e-87a7-f4... | GNG004 |  1.0  |  8   |\n",
            "| e2e43744-4107-4a4e-87a7-f4... | HAN059 |  1.0  |  9   |\n",
            "| e2e43744-4107-4a4e-87a7-f4... | SIT007 |  1.0  |  10  |\n",
            "+-------------------------------+--------+-------+------+\n",
            "[20 rows x 4 columns]\n",
            "\n"
          ]
        }
      ]
    },
    {
      "cell_type": "markdown",
      "source": [
        "## Collaborative Filtering"
      ],
      "metadata": {
        "id": "4ib7jJioRxJz"
      }
    },
    {
      "cell_type": "markdown",
      "source": [
        "#### Cosine Similarity"
      ],
      "metadata": {
        "id": "xB8kv_tIT2vD"
      }
    },
    {
      "cell_type": "code",
      "source": [
        "# collaborative model data -> reseller_id | sku | quantity\n",
        "name = 'cosine'\n",
        "user_id = 'reseller_id'\n",
        "item_id = 'sku'\n",
        "target = 'quantity'\n",
        "users_to_recommend = list(['fff78986-688d-4a5b-a950-bd87c21a9472','e2e43744-4107-4a4e-87a7-f4e1c4759835'])\n",
        "n_rec = 10 # number of items to recommend\n",
        "n_display = 20 # number of rows will show\n",
        "cosine = model(train_data, name, user_id, item_id, target, users_to_recommend, n_rec, n_display)"
      ],
      "metadata": {
        "colab": {
          "base_uri": "https://localhost:8080/",
          "height": 850
        },
        "id": "QJ_h6UzzRwjt",
        "outputId": "407c5589-32db-44db-9d40-004780c90865"
      },
      "execution_count": null,
      "outputs": [
        {
          "output_type": "display_data",
          "data": {
            "text/plain": [
              "Preparing data set."
            ],
            "text/html": [
              "<pre>Preparing data set.</pre>"
            ]
          },
          "metadata": {}
        },
        {
          "output_type": "display_data",
          "data": {
            "text/plain": [
              "    Data has 314848 observations with 10873 users and 2686 items."
            ],
            "text/html": [
              "<pre>    Data has 314848 observations with 10873 users and 2686 items.</pre>"
            ]
          },
          "metadata": {}
        },
        {
          "output_type": "display_data",
          "data": {
            "text/plain": [
              "    Data prepared in: 0.32137s"
            ],
            "text/html": [
              "<pre>    Data prepared in: 0.32137s</pre>"
            ]
          },
          "metadata": {}
        },
        {
          "output_type": "display_data",
          "data": {
            "text/plain": [
              "Training model from provided data."
            ],
            "text/html": [
              "<pre>Training model from provided data.</pre>"
            ]
          },
          "metadata": {}
        },
        {
          "output_type": "display_data",
          "data": {
            "text/plain": [
              "Gathering per-item and per-user statistics."
            ],
            "text/html": [
              "<pre>Gathering per-item and per-user statistics.</pre>"
            ]
          },
          "metadata": {}
        },
        {
          "output_type": "display_data",
          "data": {
            "text/plain": [
              "+--------------------------------+------------+"
            ],
            "text/html": [
              "<pre>+--------------------------------+------------+</pre>"
            ]
          },
          "metadata": {}
        },
        {
          "output_type": "display_data",
          "data": {
            "text/plain": [
              "| Elapsed Time (Item Statistics) | % Complete |"
            ],
            "text/html": [
              "<pre>| Elapsed Time (Item Statistics) | % Complete |</pre>"
            ]
          },
          "metadata": {}
        },
        {
          "output_type": "display_data",
          "data": {
            "text/plain": [
              "+--------------------------------+------------+"
            ],
            "text/html": [
              "<pre>+--------------------------------+------------+</pre>"
            ]
          },
          "metadata": {}
        },
        {
          "output_type": "display_data",
          "data": {
            "text/plain": [
              "| 3.457ms                        | 9          |"
            ],
            "text/html": [
              "<pre>| 3.457ms                        | 9          |</pre>"
            ]
          },
          "metadata": {}
        },
        {
          "output_type": "display_data",
          "data": {
            "text/plain": [
              "| 9.311ms                        | 100        |"
            ],
            "text/html": [
              "<pre>| 9.311ms                        | 100        |</pre>"
            ]
          },
          "metadata": {}
        },
        {
          "output_type": "display_data",
          "data": {
            "text/plain": [
              "+--------------------------------+------------+"
            ],
            "text/html": [
              "<pre>+--------------------------------+------------+</pre>"
            ]
          },
          "metadata": {}
        },
        {
          "output_type": "display_data",
          "data": {
            "text/plain": [
              "Setting up lookup tables."
            ],
            "text/html": [
              "<pre>Setting up lookup tables.</pre>"
            ]
          },
          "metadata": {}
        },
        {
          "output_type": "display_data",
          "data": {
            "text/plain": [
              "Processing data in one pass using dense lookup tables."
            ],
            "text/html": [
              "<pre>Processing data in one pass using dense lookup tables.</pre>"
            ]
          },
          "metadata": {}
        },
        {
          "output_type": "display_data",
          "data": {
            "text/plain": [
              "+-------------------------------------+------------------+-----------------+"
            ],
            "text/html": [
              "<pre>+-------------------------------------+------------------+-----------------+</pre>"
            ]
          },
          "metadata": {}
        },
        {
          "output_type": "display_data",
          "data": {
            "text/plain": [
              "| Elapsed Time (Constructing Lookups) | Total % Complete | Items Processed |"
            ],
            "text/html": [
              "<pre>| Elapsed Time (Constructing Lookups) | Total % Complete | Items Processed |</pre>"
            ]
          },
          "metadata": {}
        },
        {
          "output_type": "display_data",
          "data": {
            "text/plain": [
              "+-------------------------------------+------------------+-----------------+"
            ],
            "text/html": [
              "<pre>+-------------------------------------+------------------+-----------------+</pre>"
            ]
          },
          "metadata": {}
        },
        {
          "output_type": "display_data",
          "data": {
            "text/plain": [
              "| 39.956ms                            | 0                | 1               |"
            ],
            "text/html": [
              "<pre>| 39.956ms                            | 0                | 1               |</pre>"
            ]
          },
          "metadata": {}
        },
        {
          "output_type": "display_data",
          "data": {
            "text/plain": [
              "| 251.572ms                           | 100              | 2686            |"
            ],
            "text/html": [
              "<pre>| 251.572ms                           | 100              | 2686            |</pre>"
            ]
          },
          "metadata": {}
        },
        {
          "output_type": "display_data",
          "data": {
            "text/plain": [
              "+-------------------------------------+------------------+-----------------+"
            ],
            "text/html": [
              "<pre>+-------------------------------------+------------------+-----------------+</pre>"
            ]
          },
          "metadata": {}
        },
        {
          "output_type": "display_data",
          "data": {
            "text/plain": [
              "Finalizing lookup tables."
            ],
            "text/html": [
              "<pre>Finalizing lookup tables.</pre>"
            ]
          },
          "metadata": {}
        },
        {
          "output_type": "display_data",
          "data": {
            "text/plain": [
              "Generating candidate set for working with new users."
            ],
            "text/html": [
              "<pre>Generating candidate set for working with new users.</pre>"
            ]
          },
          "metadata": {}
        },
        {
          "output_type": "display_data",
          "data": {
            "text/plain": [
              "Finished training in 1.28852s"
            ],
            "text/html": [
              "<pre>Finished training in 1.28852s</pre>"
            ]
          },
          "metadata": {}
        },
        {
          "output_type": "stream",
          "name": "stdout",
          "text": [
            "+-------------------------------+--------+--------------------+------+\n",
            "|          reseller_id          |  sku   |       score        | rank |\n",
            "+-------------------------------+--------+--------------------+------+\n",
            "| fff78986-688d-4a5b-a950-bd... | SF020  | 0.9611303688901843 |  1   |\n",
            "| fff78986-688d-4a5b-a950-bd... | SF008  | 0.8539170333833406 |  2   |\n",
            "| fff78986-688d-4a5b-a950-bd... | SF012  | 0.8484306028394988 |  3   |\n",
            "| fff78986-688d-4a5b-a950-bd... | SF025  | 0.8225722141338118 |  4   |\n",
            "| fff78986-688d-4a5b-a950-bd... | SF017  | 0.8057551989049623 |  5   |\n",
            "| fff78986-688d-4a5b-a950-bd... | SF004  | 0.7913464425188123 |  6   |\n",
            "| fff78986-688d-4a5b-a950-bd... | SF009  | 0.7911558819539619 |  7   |\n",
            "| fff78986-688d-4a5b-a950-bd... | SF002  | 0.7894566311980739 |  8   |\n",
            "| fff78986-688d-4a5b-a950-bd... | SF001  | 0.7684403883688378 |  9   |\n",
            "| fff78986-688d-4a5b-a950-bd... | PIN012 | 0.7526911786108306 |  10  |\n",
            "| e2e43744-4107-4a4e-87a7-f4... | AVS019 | 1.1450884938240051 |  1   |\n",
            "| e2e43744-4107-4a4e-87a7-f4... | AVS029 | 1.022724598646164  |  2   |\n",
            "| e2e43744-4107-4a4e-87a7-f4... | AVS027 | 1.0026672184467316 |  3   |\n",
            "| e2e43744-4107-4a4e-87a7-f4... | AVS023 | 0.9891952872276306 |  4   |\n",
            "| e2e43744-4107-4a4e-87a7-f4... | AVS033 | 0.9860098958015442 |  5   |\n",
            "| e2e43744-4107-4a4e-87a7-f4... | AVS024 | 0.9829758703708649 |  6   |\n",
            "| e2e43744-4107-4a4e-87a7-f4... | AVS011 | 0.8915485739707947 |  7   |\n",
            "| e2e43744-4107-4a4e-87a7-f4... | NPU011 | 0.8503606617450714 |  8   |\n",
            "| e2e43744-4107-4a4e-87a7-f4... | NPU007 | 0.8477983474731445 |  9   |\n",
            "| e2e43744-4107-4a4e-87a7-f4... | AVS003 | 0.8166683614253998 |  10  |\n",
            "+-------------------------------+--------+--------------------+------+\n",
            "[20 rows x 4 columns]\n",
            "\n"
          ]
        }
      ]
    },
    {
      "cell_type": "code",
      "source": [
        "# collaborative model data -> reseller_id | sku | purchase_dummy\n",
        "name = 'cosine'\n",
        "user_id = 'reseller_id'\n",
        "item_id = 'sku'\n",
        "target = 'purchase_dummy'\n",
        "users_to_recommend = list(['fff78986-688d-4a5b-a950-bd87c21a9472','e2e43744-4107-4a4e-87a7-f4e1c4759835'])\n",
        "n_rec = 10 # number of items to recommend\n",
        "n_display = 20 # number of rows will show\n",
        "cosine_dummy = model(train_data_dummy, name, user_id, item_id, target, users_to_recommend, n_rec, n_display)"
      ],
      "metadata": {
        "colab": {
          "base_uri": "https://localhost:8080/",
          "height": 885
        },
        "id": "tf9u0GetUud_",
        "outputId": "81baf023-77aa-469f-f6e1-3720db39eb8d"
      },
      "execution_count": null,
      "outputs": [
        {
          "output_type": "display_data",
          "data": {
            "text/plain": [
              "Warning: Ignoring columns quantity;"
            ],
            "text/html": [
              "<pre>Warning: Ignoring columns quantity;</pre>"
            ]
          },
          "metadata": {}
        },
        {
          "output_type": "display_data",
          "data": {
            "text/plain": [
              "    To use these columns in scoring predictions, use a model that allows the use of additional features."
            ],
            "text/html": [
              "<pre>    To use these columns in scoring predictions, use a model that allows the use of additional features.</pre>"
            ]
          },
          "metadata": {}
        },
        {
          "output_type": "display_data",
          "data": {
            "text/plain": [
              "Preparing data set."
            ],
            "text/html": [
              "<pre>Preparing data set.</pre>"
            ]
          },
          "metadata": {}
        },
        {
          "output_type": "display_data",
          "data": {
            "text/plain": [
              "    Data has 314848 observations with 10833 users and 2697 items."
            ],
            "text/html": [
              "<pre>    Data has 314848 observations with 10833 users and 2697 items.</pre>"
            ]
          },
          "metadata": {}
        },
        {
          "output_type": "display_data",
          "data": {
            "text/plain": [
              "    Data prepared in: 0.634683s"
            ],
            "text/html": [
              "<pre>    Data prepared in: 0.634683s</pre>"
            ]
          },
          "metadata": {}
        },
        {
          "output_type": "display_data",
          "data": {
            "text/plain": [
              "Training model from provided data."
            ],
            "text/html": [
              "<pre>Training model from provided data.</pre>"
            ]
          },
          "metadata": {}
        },
        {
          "output_type": "display_data",
          "data": {
            "text/plain": [
              "Gathering per-item and per-user statistics."
            ],
            "text/html": [
              "<pre>Gathering per-item and per-user statistics.</pre>"
            ]
          },
          "metadata": {}
        },
        {
          "output_type": "display_data",
          "data": {
            "text/plain": [
              "+--------------------------------+------------+"
            ],
            "text/html": [
              "<pre>+--------------------------------+------------+</pre>"
            ]
          },
          "metadata": {}
        },
        {
          "output_type": "display_data",
          "data": {
            "text/plain": [
              "| Elapsed Time (Item Statistics) | % Complete |"
            ],
            "text/html": [
              "<pre>| Elapsed Time (Item Statistics) | % Complete |</pre>"
            ]
          },
          "metadata": {}
        },
        {
          "output_type": "display_data",
          "data": {
            "text/plain": [
              "+--------------------------------+------------+"
            ],
            "text/html": [
              "<pre>+--------------------------------+------------+</pre>"
            ]
          },
          "metadata": {}
        },
        {
          "output_type": "display_data",
          "data": {
            "text/plain": [
              "| 2.155ms                        | 9          |"
            ],
            "text/html": [
              "<pre>| 2.155ms                        | 9          |</pre>"
            ]
          },
          "metadata": {}
        },
        {
          "output_type": "display_data",
          "data": {
            "text/plain": [
              "| 11.319ms                       | 100        |"
            ],
            "text/html": [
              "<pre>| 11.319ms                       | 100        |</pre>"
            ]
          },
          "metadata": {}
        },
        {
          "output_type": "display_data",
          "data": {
            "text/plain": [
              "+--------------------------------+------------+"
            ],
            "text/html": [
              "<pre>+--------------------------------+------------+</pre>"
            ]
          },
          "metadata": {}
        },
        {
          "output_type": "display_data",
          "data": {
            "text/plain": [
              "Setting up lookup tables."
            ],
            "text/html": [
              "<pre>Setting up lookup tables.</pre>"
            ]
          },
          "metadata": {}
        },
        {
          "output_type": "display_data",
          "data": {
            "text/plain": [
              "Processing data in one pass using dense lookup tables."
            ],
            "text/html": [
              "<pre>Processing data in one pass using dense lookup tables.</pre>"
            ]
          },
          "metadata": {}
        },
        {
          "output_type": "display_data",
          "data": {
            "text/plain": [
              "+-------------------------------------+------------------+-----------------+"
            ],
            "text/html": [
              "<pre>+-------------------------------------+------------------+-----------------+</pre>"
            ]
          },
          "metadata": {}
        },
        {
          "output_type": "display_data",
          "data": {
            "text/plain": [
              "| Elapsed Time (Constructing Lookups) | Total % Complete | Items Processed |"
            ],
            "text/html": [
              "<pre>| Elapsed Time (Constructing Lookups) | Total % Complete | Items Processed |</pre>"
            ]
          },
          "metadata": {}
        },
        {
          "output_type": "display_data",
          "data": {
            "text/plain": [
              "+-------------------------------------+------------------+-----------------+"
            ],
            "text/html": [
              "<pre>+-------------------------------------+------------------+-----------------+</pre>"
            ]
          },
          "metadata": {}
        },
        {
          "output_type": "display_data",
          "data": {
            "text/plain": [
              "| 22.982ms                            | 0.5              | 19              |"
            ],
            "text/html": [
              "<pre>| 22.982ms                            | 0.5              | 19              |</pre>"
            ]
          },
          "metadata": {}
        },
        {
          "output_type": "display_data",
          "data": {
            "text/plain": [
              "| 271.707ms                           | 100              | 2697            |"
            ],
            "text/html": [
              "<pre>| 271.707ms                           | 100              | 2697            |</pre>"
            ]
          },
          "metadata": {}
        },
        {
          "output_type": "display_data",
          "data": {
            "text/plain": [
              "+-------------------------------------+------------------+-----------------+"
            ],
            "text/html": [
              "<pre>+-------------------------------------+------------------+-----------------+</pre>"
            ]
          },
          "metadata": {}
        },
        {
          "output_type": "display_data",
          "data": {
            "text/plain": [
              "Finalizing lookup tables."
            ],
            "text/html": [
              "<pre>Finalizing lookup tables.</pre>"
            ]
          },
          "metadata": {}
        },
        {
          "output_type": "display_data",
          "data": {
            "text/plain": [
              "Generating candidate set for working with new users."
            ],
            "text/html": [
              "<pre>Generating candidate set for working with new users.</pre>"
            ]
          },
          "metadata": {}
        },
        {
          "output_type": "display_data",
          "data": {
            "text/plain": [
              "Finished training in 0.301525s"
            ],
            "text/html": [
              "<pre>Finished training in 0.301525s</pre>"
            ]
          },
          "metadata": {}
        },
        {
          "output_type": "stream",
          "name": "stdout",
          "text": [
            "+-------------------------------+--------+---------------------+------+\n",
            "|          reseller_id          |  sku   |        score        | rank |\n",
            "+-------------------------------+--------+---------------------+------+\n",
            "| fff78986-688d-4a5b-a950-bd... | PIN005 | 0.20617667229279227 |  1   |\n",
            "| fff78986-688d-4a5b-a950-bd... | PIN012 |  0.1873523472011953 |  2   |\n",
            "| fff78986-688d-4a5b-a950-bd... | SF012  | 0.18278056469516477 |  3   |\n",
            "| fff78986-688d-4a5b-a950-bd... | PIN024 | 0.17817484295886496 |  4   |\n",
            "| fff78986-688d-4a5b-a950-bd... | PIN020 | 0.17438349775646045 |  5   |\n",
            "| fff78986-688d-4a5b-a950-bd... | SF008  |  0.1718219795088837 |  6   |\n",
            "| fff78986-688d-4a5b-a950-bd... | SF025  | 0.15893640811892523 |  7   |\n",
            "| fff78986-688d-4a5b-a950-bd... | PIN081 | 0.15588878807814224 |  8   |\n",
            "| fff78986-688d-4a5b-a950-bd... | SF009  | 0.15387929004171622 |  9   |\n",
            "| fff78986-688d-4a5b-a950-bd... | SF017  | 0.15282532875088678 |  10  |\n",
            "| e2e43744-4107-4a4e-87a7-f4... | MKV008 |  0.2796758810679118 |  1   |\n",
            "| e2e43744-4107-4a4e-87a7-f4... | MKV032 | 0.26361246903737384 |  2   |\n",
            "| e2e43744-4107-4a4e-87a7-f4... | MKV014 | 0.19842706123987833 |  3   |\n",
            "| e2e43744-4107-4a4e-87a7-f4... | MKV051 |  0.1935934821764628 |  4   |\n",
            "| e2e43744-4107-4a4e-87a7-f4... | AXY001 |  0.1876123547554016 |  5   |\n",
            "| e2e43744-4107-4a4e-87a7-f4... | MKV013 | 0.17418291171391806 |  6   |\n",
            "| e2e43744-4107-4a4e-87a7-f4... | AXY003 | 0.17189502716064453 |  7   |\n",
            "| e2e43744-4107-4a4e-87a7-f4... | MYB028 |  0.1713966727256775 |  8   |\n",
            "| e2e43744-4107-4a4e-87a7-f4... | LP019  | 0.16864428917566934 |  9   |\n",
            "| e2e43744-4107-4a4e-87a7-f4... | MYB014 |  0.163850466410319  |  10  |\n",
            "+-------------------------------+--------+---------------------+------+\n",
            "[20 rows x 4 columns]\n",
            "\n"
          ]
        }
      ]
    },
    {
      "cell_type": "code",
      "source": [
        "# collaborative model data -> reseller_id | sku | scaled_purchase_freq\n",
        "name = 'cosine'\n",
        "user_id = 'reseller_id'\n",
        "item_id = 'sku'\n",
        "target = 'scaled_purchase_freq'\n",
        "users_to_recommend = list(['fff78986-688d-4a5b-a950-bd87c21a9472','e2e43744-4107-4a4e-87a7-f4e1c4759835'])\n",
        "n_rec = 10 # number of items to recommend\n",
        "n_display = 20 # number of rows will show\n",
        "\n",
        "cos_norm = model(train_data_norm, name, user_id, item_id, target, users_to_recommend, n_rec, n_display)\n"
      ],
      "metadata": {
        "colab": {
          "base_uri": "https://localhost:8080/",
          "height": 850
        },
        "id": "SUV_nquWXt1c",
        "outputId": "881f98bb-d10d-42d1-8e64-6b2cd1228193"
      },
      "execution_count": null,
      "outputs": [
        {
          "output_type": "display_data",
          "data": {
            "text/plain": [
              "Preparing data set."
            ],
            "text/html": [
              "<pre>Preparing data set.</pre>"
            ]
          },
          "metadata": {}
        },
        {
          "output_type": "display_data",
          "data": {
            "text/plain": [
              "    Data has 138052 observations with 10852 users and 2336 items."
            ],
            "text/html": [
              "<pre>    Data has 138052 observations with 10852 users and 2336 items.</pre>"
            ]
          },
          "metadata": {}
        },
        {
          "output_type": "display_data",
          "data": {
            "text/plain": [
              "    Data prepared in: 0.208886s"
            ],
            "text/html": [
              "<pre>    Data prepared in: 0.208886s</pre>"
            ]
          },
          "metadata": {}
        },
        {
          "output_type": "display_data",
          "data": {
            "text/plain": [
              "Training model from provided data."
            ],
            "text/html": [
              "<pre>Training model from provided data.</pre>"
            ]
          },
          "metadata": {}
        },
        {
          "output_type": "display_data",
          "data": {
            "text/plain": [
              "Gathering per-item and per-user statistics."
            ],
            "text/html": [
              "<pre>Gathering per-item and per-user statistics.</pre>"
            ]
          },
          "metadata": {}
        },
        {
          "output_type": "display_data",
          "data": {
            "text/plain": [
              "+--------------------------------+------------+"
            ],
            "text/html": [
              "<pre>+--------------------------------+------------+</pre>"
            ]
          },
          "metadata": {}
        },
        {
          "output_type": "display_data",
          "data": {
            "text/plain": [
              "| Elapsed Time (Item Statistics) | % Complete |"
            ],
            "text/html": [
              "<pre>| Elapsed Time (Item Statistics) | % Complete |</pre>"
            ]
          },
          "metadata": {}
        },
        {
          "output_type": "display_data",
          "data": {
            "text/plain": [
              "+--------------------------------+------------+"
            ],
            "text/html": [
              "<pre>+--------------------------------+------------+</pre>"
            ]
          },
          "metadata": {}
        },
        {
          "output_type": "display_data",
          "data": {
            "text/plain": [
              "| 5.434ms                        | 9          |"
            ],
            "text/html": [
              "<pre>| 5.434ms                        | 9          |</pre>"
            ]
          },
          "metadata": {}
        },
        {
          "output_type": "display_data",
          "data": {
            "text/plain": [
              "| 17.081ms                       | 100        |"
            ],
            "text/html": [
              "<pre>| 17.081ms                       | 100        |</pre>"
            ]
          },
          "metadata": {}
        },
        {
          "output_type": "display_data",
          "data": {
            "text/plain": [
              "+--------------------------------+------------+"
            ],
            "text/html": [
              "<pre>+--------------------------------+------------+</pre>"
            ]
          },
          "metadata": {}
        },
        {
          "output_type": "display_data",
          "data": {
            "text/plain": [
              "Setting up lookup tables."
            ],
            "text/html": [
              "<pre>Setting up lookup tables.</pre>"
            ]
          },
          "metadata": {}
        },
        {
          "output_type": "display_data",
          "data": {
            "text/plain": [
              "Processing data in one pass using dense lookup tables."
            ],
            "text/html": [
              "<pre>Processing data in one pass using dense lookup tables.</pre>"
            ]
          },
          "metadata": {}
        },
        {
          "output_type": "display_data",
          "data": {
            "text/plain": [
              "+-------------------------------------+------------------+-----------------+"
            ],
            "text/html": [
              "<pre>+-------------------------------------+------------------+-----------------+</pre>"
            ]
          },
          "metadata": {}
        },
        {
          "output_type": "display_data",
          "data": {
            "text/plain": [
              "| Elapsed Time (Constructing Lookups) | Total % Complete | Items Processed |"
            ],
            "text/html": [
              "<pre>| Elapsed Time (Constructing Lookups) | Total % Complete | Items Processed |</pre>"
            ]
          },
          "metadata": {}
        },
        {
          "output_type": "display_data",
          "data": {
            "text/plain": [
              "+-------------------------------------+------------------+-----------------+"
            ],
            "text/html": [
              "<pre>+-------------------------------------+------------------+-----------------+</pre>"
            ]
          },
          "metadata": {}
        },
        {
          "output_type": "display_data",
          "data": {
            "text/plain": [
              "| 31.267ms                            | 0                | 0               |"
            ],
            "text/html": [
              "<pre>| 31.267ms                            | 0                | 0               |</pre>"
            ]
          },
          "metadata": {}
        },
        {
          "output_type": "display_data",
          "data": {
            "text/plain": [
              "| 186.234ms                           | 100              | 2336            |"
            ],
            "text/html": [
              "<pre>| 186.234ms                           | 100              | 2336            |</pre>"
            ]
          },
          "metadata": {}
        },
        {
          "output_type": "display_data",
          "data": {
            "text/plain": [
              "+-------------------------------------+------------------+-----------------+"
            ],
            "text/html": [
              "<pre>+-------------------------------------+------------------+-----------------+</pre>"
            ]
          },
          "metadata": {}
        },
        {
          "output_type": "display_data",
          "data": {
            "text/plain": [
              "Finalizing lookup tables."
            ],
            "text/html": [
              "<pre>Finalizing lookup tables.</pre>"
            ]
          },
          "metadata": {}
        },
        {
          "output_type": "display_data",
          "data": {
            "text/plain": [
              "Generating candidate set for working with new users."
            ],
            "text/html": [
              "<pre>Generating candidate set for working with new users.</pre>"
            ]
          },
          "metadata": {}
        },
        {
          "output_type": "display_data",
          "data": {
            "text/plain": [
              "Finished training in 0.210024s"
            ],
            "text/html": [
              "<pre>Finished training in 0.210024s</pre>"
            ]
          },
          "metadata": {}
        },
        {
          "output_type": "stream",
          "name": "stdout",
          "text": [
            "+-------------------------------+--------+-----------------------+------+\n",
            "|          reseller_id          |  sku   |         score         | rank |\n",
            "+-------------------------------+--------+-----------------------+------+\n",
            "| fff78986-688d-4a5b-a950-bd... | PIN012 |  0.010051671535738053 |  1   |\n",
            "| fff78986-688d-4a5b-a950-bd... | PIN020 |  0.007380123099973125 |  2   |\n",
            "| fff78986-688d-4a5b-a950-bd... | PIN032 |  0.006852313395469419 |  3   |\n",
            "| fff78986-688d-4a5b-a950-bd... | PIN026 |  0.006850178203275127 |  4   |\n",
            "| fff78986-688d-4a5b-a950-bd... | PIN074 |  0.006602197885513306 |  5   |\n",
            "| fff78986-688d-4a5b-a950-bd... | PIN098 |  0.00632617550511514  |  6   |\n",
            "| fff78986-688d-4a5b-a950-bd... | PIN013 |  0.006270307687021071 |  7   |\n",
            "| fff78986-688d-4a5b-a950-bd... | FOC239 |  0.006254598017661802 |  8   |\n",
            "| fff78986-688d-4a5b-a950-bd... | FOC067 |  0.006147040474799371 |  9   |\n",
            "| fff78986-688d-4a5b-a950-bd... | FOC068 |  0.006147040474799371 |  10  |\n",
            "| e2e43744-4107-4a4e-87a7-f4... | MYB014 |  0.014829715092976889 |  1   |\n",
            "| e2e43744-4107-4a4e-87a7-f4... | MKV014 |  0.011587897936503092 |  2   |\n",
            "| e2e43744-4107-4a4e-87a7-f4... | MKV008 |  0.00923776626586914  |  3   |\n",
            "| e2e43744-4107-4a4e-87a7-f4... | MYB003 | 0.0076803167661031084 |  4   |\n",
            "| e2e43744-4107-4a4e-87a7-f4... | MKV032 |  0.007296462853749593 |  5   |\n",
            "| e2e43744-4107-4a4e-87a7-f4... | MKV004 |  0.006095290184020996 |  6   |\n",
            "| e2e43744-4107-4a4e-87a7-f4... | MYB024 |  0.005746702353159587 |  7   |\n",
            "| e2e43744-4107-4a4e-87a7-f4... | SHM062 |  0.005746702353159587 |  8   |\n",
            "| e2e43744-4107-4a4e-87a7-f4... | SHM051 |  0.005746702353159587 |  9   |\n",
            "| e2e43744-4107-4a4e-87a7-f4... | MYB046 |  0.005746702353159587 |  10  |\n",
            "+-------------------------------+--------+-----------------------+------+\n",
            "[20 rows x 4 columns]\n",
            "\n"
          ]
        }
      ]
    },
    {
      "cell_type": "markdown",
      "source": [
        "### Pearson Similarity"
      ],
      "metadata": {
        "id": "HyDwwMYrsvfV"
      }
    },
    {
      "cell_type": "code",
      "source": [
        "# collaborative model data -> reseller_id | sku | quantity\n",
        "name = 'pearson'\n",
        "user_id = 'reseller_id'\n",
        "item_id = 'sku'\n",
        "target = 'quantity'\n",
        "users_to_recommend = list(['fff78986-688d-4a5b-a950-bd87c21a9472','e2e43744-4107-4a4e-87a7-f4e1c4759835'])\n",
        "n_rec = 10 # number of items to recommend\n",
        "n_display = 20 # number of rows will show\n",
        "pearson = model(train_data, name, user_id, item_id, target, users_to_recommend, n_rec, n_display)"
      ],
      "metadata": {
        "colab": {
          "base_uri": "https://localhost:8080/",
          "height": 850
        },
        "id": "1B6J_-cysz82",
        "outputId": "3c3c28d5-0e34-4acd-e9a7-bdd5bc09e082"
      },
      "execution_count": null,
      "outputs": [
        {
          "output_type": "display_data",
          "data": {
            "text/plain": [
              "Preparing data set."
            ],
            "text/html": [
              "<pre>Preparing data set.</pre>"
            ]
          },
          "metadata": {}
        },
        {
          "output_type": "display_data",
          "data": {
            "text/plain": [
              "    Data has 314848 observations with 10873 users and 2686 items."
            ],
            "text/html": [
              "<pre>    Data has 314848 observations with 10873 users and 2686 items.</pre>"
            ]
          },
          "metadata": {}
        },
        {
          "output_type": "display_data",
          "data": {
            "text/plain": [
              "    Data prepared in: 0.526184s"
            ],
            "text/html": [
              "<pre>    Data prepared in: 0.526184s</pre>"
            ]
          },
          "metadata": {}
        },
        {
          "output_type": "display_data",
          "data": {
            "text/plain": [
              "Training model from provided data."
            ],
            "text/html": [
              "<pre>Training model from provided data.</pre>"
            ]
          },
          "metadata": {}
        },
        {
          "output_type": "display_data",
          "data": {
            "text/plain": [
              "Gathering per-item and per-user statistics."
            ],
            "text/html": [
              "<pre>Gathering per-item and per-user statistics.</pre>"
            ]
          },
          "metadata": {}
        },
        {
          "output_type": "display_data",
          "data": {
            "text/plain": [
              "+--------------------------------+------------+"
            ],
            "text/html": [
              "<pre>+--------------------------------+------------+</pre>"
            ]
          },
          "metadata": {}
        },
        {
          "output_type": "display_data",
          "data": {
            "text/plain": [
              "| Elapsed Time (Item Statistics) | % Complete |"
            ],
            "text/html": [
              "<pre>| Elapsed Time (Item Statistics) | % Complete |</pre>"
            ]
          },
          "metadata": {}
        },
        {
          "output_type": "display_data",
          "data": {
            "text/plain": [
              "+--------------------------------+------------+"
            ],
            "text/html": [
              "<pre>+--------------------------------+------------+</pre>"
            ]
          },
          "metadata": {}
        },
        {
          "output_type": "display_data",
          "data": {
            "text/plain": [
              "| 14.868ms                       | 9          |"
            ],
            "text/html": [
              "<pre>| 14.868ms                       | 9          |</pre>"
            ]
          },
          "metadata": {}
        },
        {
          "output_type": "display_data",
          "data": {
            "text/plain": [
              "| 28.454ms                       | 100        |"
            ],
            "text/html": [
              "<pre>| 28.454ms                       | 100        |</pre>"
            ]
          },
          "metadata": {}
        },
        {
          "output_type": "display_data",
          "data": {
            "text/plain": [
              "+--------------------------------+------------+"
            ],
            "text/html": [
              "<pre>+--------------------------------+------------+</pre>"
            ]
          },
          "metadata": {}
        },
        {
          "output_type": "display_data",
          "data": {
            "text/plain": [
              "Setting up lookup tables."
            ],
            "text/html": [
              "<pre>Setting up lookup tables.</pre>"
            ]
          },
          "metadata": {}
        },
        {
          "output_type": "display_data",
          "data": {
            "text/plain": [
              "Processing data in one pass using dense lookup tables."
            ],
            "text/html": [
              "<pre>Processing data in one pass using dense lookup tables.</pre>"
            ]
          },
          "metadata": {}
        },
        {
          "output_type": "display_data",
          "data": {
            "text/plain": [
              "+-------------------------------------+------------------+-----------------+"
            ],
            "text/html": [
              "<pre>+-------------------------------------+------------------+-----------------+</pre>"
            ]
          },
          "metadata": {}
        },
        {
          "output_type": "display_data",
          "data": {
            "text/plain": [
              "| Elapsed Time (Constructing Lookups) | Total % Complete | Items Processed |"
            ],
            "text/html": [
              "<pre>| Elapsed Time (Constructing Lookups) | Total % Complete | Items Processed |</pre>"
            ]
          },
          "metadata": {}
        },
        {
          "output_type": "display_data",
          "data": {
            "text/plain": [
              "+-------------------------------------+------------------+-----------------+"
            ],
            "text/html": [
              "<pre>+-------------------------------------+------------------+-----------------+</pre>"
            ]
          },
          "metadata": {}
        },
        {
          "output_type": "display_data",
          "data": {
            "text/plain": [
              "| 45.786ms                            | 0                | 1               |"
            ],
            "text/html": [
              "<pre>| 45.786ms                            | 0                | 1               |</pre>"
            ]
          },
          "metadata": {}
        },
        {
          "output_type": "display_data",
          "data": {
            "text/plain": [
              "| 590.39ms                            | 100              | 2686            |"
            ],
            "text/html": [
              "<pre>| 590.39ms                            | 100              | 2686            |</pre>"
            ]
          },
          "metadata": {}
        },
        {
          "output_type": "display_data",
          "data": {
            "text/plain": [
              "+-------------------------------------+------------------+-----------------+"
            ],
            "text/html": [
              "<pre>+-------------------------------------+------------------+-----------------+</pre>"
            ]
          },
          "metadata": {}
        },
        {
          "output_type": "display_data",
          "data": {
            "text/plain": [
              "Finalizing lookup tables."
            ],
            "text/html": [
              "<pre>Finalizing lookup tables.</pre>"
            ]
          },
          "metadata": {}
        },
        {
          "output_type": "display_data",
          "data": {
            "text/plain": [
              "Generating candidate set for working with new users."
            ],
            "text/html": [
              "<pre>Generating candidate set for working with new users.</pre>"
            ]
          },
          "metadata": {}
        },
        {
          "output_type": "display_data",
          "data": {
            "text/plain": [
              "Finished training in 0.62757s"
            ],
            "text/html": [
              "<pre>Finished training in 0.62757s</pre>"
            ]
          },
          "metadata": {}
        },
        {
          "output_type": "stream",
          "name": "stdout",
          "text": [
            "+-------------------------------+---------+-------+------+\n",
            "|          reseller_id          |   sku   | score | rank |\n",
            "+-------------------------------+---------+-------+------+\n",
            "| fff78986-688d-4a5b-a950-bd... | BEAU005 | 240.0 |  1   |\n",
            "| fff78986-688d-4a5b-a950-bd... | BEAU006 | 240.0 |  2   |\n",
            "| fff78986-688d-4a5b-a950-bd... | BEAU003 | 240.0 |  3   |\n",
            "| fff78986-688d-4a5b-a950-bd... | BEAU010 | 240.0 |  4   |\n",
            "| fff78986-688d-4a5b-a950-bd... | BEAU004 | 240.0 |  5   |\n",
            "| fff78986-688d-4a5b-a950-bd... | BEAU011 | 240.0 |  6   |\n",
            "| fff78986-688d-4a5b-a950-bd... | BEAU009 | 240.0 |  7   |\n",
            "| fff78986-688d-4a5b-a950-bd... | BEAU002 | 240.0 |  8   |\n",
            "| fff78986-688d-4a5b-a950-bd... | BEAU001 | 240.0 |  9   |\n",
            "| fff78986-688d-4a5b-a950-bd... |  MKV037 |  84.0 |  10  |\n",
            "| e2e43744-4107-4a4e-87a7-f4... | BEAU005 | 240.0 |  1   |\n",
            "| e2e43744-4107-4a4e-87a7-f4... | BEAU006 | 240.0 |  2   |\n",
            "| e2e43744-4107-4a4e-87a7-f4... | BEAU003 | 240.0 |  3   |\n",
            "| e2e43744-4107-4a4e-87a7-f4... | BEAU010 | 240.0 |  4   |\n",
            "| e2e43744-4107-4a4e-87a7-f4... | BEAU004 | 240.0 |  5   |\n",
            "| e2e43744-4107-4a4e-87a7-f4... | BEAU011 | 240.0 |  6   |\n",
            "| e2e43744-4107-4a4e-87a7-f4... | BEAU009 | 240.0 |  7   |\n",
            "| e2e43744-4107-4a4e-87a7-f4... | BEAU002 | 240.0 |  8   |\n",
            "| e2e43744-4107-4a4e-87a7-f4... | BEAU001 | 240.0 |  9   |\n",
            "| e2e43744-4107-4a4e-87a7-f4... |  MKV037 |  84.0 |  10  |\n",
            "+-------------------------------+---------+-------+------+\n",
            "[20 rows x 4 columns]\n",
            "\n"
          ]
        }
      ]
    },
    {
      "cell_type": "code",
      "source": [
        "# collaborative model data -> reseller_id | sku | purchase_dummy\n",
        "name = 'pearson'\n",
        "user_id = 'reseller_id'\n",
        "item_id = 'sku'\n",
        "target = 'purchase_dummy'\n",
        "users_to_recommend = list(['fff78986-688d-4a5b-a950-bd87c21a9472','e2e43744-4107-4a4e-87a7-f4e1c4759835'])\n",
        "n_rec = 10 # number of items to recommend\n",
        "n_display = 20 # number of rows will show\n",
        "pearson_dummy = model(train_data_dummy, name, user_id, item_id, target, users_to_recommend, n_rec, n_display)\n",
        "# all scores come to zero"
      ],
      "metadata": {
        "colab": {
          "base_uri": "https://localhost:8080/",
          "height": 885
        },
        "id": "IpGyDabqvEL6",
        "outputId": "ee616d1f-3963-4f5c-d49d-8dfda7fbbf0f"
      },
      "execution_count": null,
      "outputs": [
        {
          "output_type": "display_data",
          "data": {
            "text/plain": [
              "Warning: Ignoring columns quantity;"
            ],
            "text/html": [
              "<pre>Warning: Ignoring columns quantity;</pre>"
            ]
          },
          "metadata": {}
        },
        {
          "output_type": "display_data",
          "data": {
            "text/plain": [
              "    To use these columns in scoring predictions, use a model that allows the use of additional features."
            ],
            "text/html": [
              "<pre>    To use these columns in scoring predictions, use a model that allows the use of additional features.</pre>"
            ]
          },
          "metadata": {}
        },
        {
          "output_type": "display_data",
          "data": {
            "text/plain": [
              "Preparing data set."
            ],
            "text/html": [
              "<pre>Preparing data set.</pre>"
            ]
          },
          "metadata": {}
        },
        {
          "output_type": "display_data",
          "data": {
            "text/plain": [
              "    Data has 314848 observations with 10833 users and 2697 items."
            ],
            "text/html": [
              "<pre>    Data has 314848 observations with 10833 users and 2697 items.</pre>"
            ]
          },
          "metadata": {}
        },
        {
          "output_type": "display_data",
          "data": {
            "text/plain": [
              "    Data prepared in: 0.841771s"
            ],
            "text/html": [
              "<pre>    Data prepared in: 0.841771s</pre>"
            ]
          },
          "metadata": {}
        },
        {
          "output_type": "display_data",
          "data": {
            "text/plain": [
              "Training model from provided data."
            ],
            "text/html": [
              "<pre>Training model from provided data.</pre>"
            ]
          },
          "metadata": {}
        },
        {
          "output_type": "display_data",
          "data": {
            "text/plain": [
              "Gathering per-item and per-user statistics."
            ],
            "text/html": [
              "<pre>Gathering per-item and per-user statistics.</pre>"
            ]
          },
          "metadata": {}
        },
        {
          "output_type": "display_data",
          "data": {
            "text/plain": [
              "+--------------------------------+------------+"
            ],
            "text/html": [
              "<pre>+--------------------------------+------------+</pre>"
            ]
          },
          "metadata": {}
        },
        {
          "output_type": "display_data",
          "data": {
            "text/plain": [
              "| Elapsed Time (Item Statistics) | % Complete |"
            ],
            "text/html": [
              "<pre>| Elapsed Time (Item Statistics) | % Complete |</pre>"
            ]
          },
          "metadata": {}
        },
        {
          "output_type": "display_data",
          "data": {
            "text/plain": [
              "+--------------------------------+------------+"
            ],
            "text/html": [
              "<pre>+--------------------------------+------------+</pre>"
            ]
          },
          "metadata": {}
        },
        {
          "output_type": "display_data",
          "data": {
            "text/plain": [
              "| 12.903ms                       | 9          |"
            ],
            "text/html": [
              "<pre>| 12.903ms                       | 9          |</pre>"
            ]
          },
          "metadata": {}
        },
        {
          "output_type": "display_data",
          "data": {
            "text/plain": [
              "| 48.911ms                       | 100        |"
            ],
            "text/html": [
              "<pre>| 48.911ms                       | 100        |</pre>"
            ]
          },
          "metadata": {}
        },
        {
          "output_type": "display_data",
          "data": {
            "text/plain": [
              "+--------------------------------+------------+"
            ],
            "text/html": [
              "<pre>+--------------------------------+------------+</pre>"
            ]
          },
          "metadata": {}
        },
        {
          "output_type": "display_data",
          "data": {
            "text/plain": [
              "Setting up lookup tables."
            ],
            "text/html": [
              "<pre>Setting up lookup tables.</pre>"
            ]
          },
          "metadata": {}
        },
        {
          "output_type": "display_data",
          "data": {
            "text/plain": [
              "Processing data in one pass using dense lookup tables."
            ],
            "text/html": [
              "<pre>Processing data in one pass using dense lookup tables.</pre>"
            ]
          },
          "metadata": {}
        },
        {
          "output_type": "display_data",
          "data": {
            "text/plain": [
              "+-------------------------------------+------------------+-----------------+"
            ],
            "text/html": [
              "<pre>+-------------------------------------+------------------+-----------------+</pre>"
            ]
          },
          "metadata": {}
        },
        {
          "output_type": "display_data",
          "data": {
            "text/plain": [
              "| Elapsed Time (Constructing Lookups) | Total % Complete | Items Processed |"
            ],
            "text/html": [
              "<pre>| Elapsed Time (Constructing Lookups) | Total % Complete | Items Processed |</pre>"
            ]
          },
          "metadata": {}
        },
        {
          "output_type": "display_data",
          "data": {
            "text/plain": [
              "+-------------------------------------+------------------+-----------------+"
            ],
            "text/html": [
              "<pre>+-------------------------------------+------------------+-----------------+</pre>"
            ]
          },
          "metadata": {}
        },
        {
          "output_type": "display_data",
          "data": {
            "text/plain": [
              "| 53.219ms                            | 0.5              | 19              |"
            ],
            "text/html": [
              "<pre>| 53.219ms                            | 0.5              | 19              |</pre>"
            ]
          },
          "metadata": {}
        },
        {
          "output_type": "display_data",
          "data": {
            "text/plain": [
              "| 1.82s                               | 100              | 2697            |"
            ],
            "text/html": [
              "<pre>| 1.82s                               | 100              | 2697            |</pre>"
            ]
          },
          "metadata": {}
        },
        {
          "output_type": "display_data",
          "data": {
            "text/plain": [
              "+-------------------------------------+------------------+-----------------+"
            ],
            "text/html": [
              "<pre>+-------------------------------------+------------------+-----------------+</pre>"
            ]
          },
          "metadata": {}
        },
        {
          "output_type": "display_data",
          "data": {
            "text/plain": [
              "Finalizing lookup tables."
            ],
            "text/html": [
              "<pre>Finalizing lookup tables.</pre>"
            ]
          },
          "metadata": {}
        },
        {
          "output_type": "display_data",
          "data": {
            "text/plain": [
              "Generating candidate set for working with new users."
            ],
            "text/html": [
              "<pre>Generating candidate set for working with new users.</pre>"
            ]
          },
          "metadata": {}
        },
        {
          "output_type": "display_data",
          "data": {
            "text/plain": [
              "Finished training in 1.86388s"
            ],
            "text/html": [
              "<pre>Finished training in 1.86388s</pre>"
            ]
          },
          "metadata": {}
        },
        {
          "output_type": "stream",
          "name": "stdout",
          "text": [
            "+-------------------------------+--------+-------+------+\n",
            "|          reseller_id          |  sku   | score | rank |\n",
            "+-------------------------------+--------+-------+------+\n",
            "| fff78986-688d-4a5b-a950-bd... | ST001  |  0.0  |  1   |\n",
            "| fff78986-688d-4a5b-a950-bd... | AVS027 |  0.0  |  2   |\n",
            "| fff78986-688d-4a5b-a950-bd... | GNG002 |  0.0  |  3   |\n",
            "| fff78986-688d-4a5b-a950-bd... | BWT001 |  0.0  |  4   |\n",
            "| fff78986-688d-4a5b-a950-bd... | JCQ010 |  0.0  |  5   |\n",
            "| fff78986-688d-4a5b-a950-bd... | AVS013 |  0.0  |  6   |\n",
            "| fff78986-688d-4a5b-a950-bd... | SF008  |  0.0  |  7   |\n",
            "| fff78986-688d-4a5b-a950-bd... | GNG004 |  0.0  |  8   |\n",
            "| fff78986-688d-4a5b-a950-bd... | HAN059 |  0.0  |  9   |\n",
            "| fff78986-688d-4a5b-a950-bd... | SIT007 |  0.0  |  10  |\n",
            "| e2e43744-4107-4a4e-87a7-f4... | AVS027 |  0.0  |  1   |\n",
            "| e2e43744-4107-4a4e-87a7-f4... | GNG002 |  0.0  |  2   |\n",
            "| e2e43744-4107-4a4e-87a7-f4... | SF001  |  0.0  |  3   |\n",
            "| e2e43744-4107-4a4e-87a7-f4... | JCQ010 |  0.0  |  4   |\n",
            "| e2e43744-4107-4a4e-87a7-f4... | SF030  |  0.0  |  5   |\n",
            "| e2e43744-4107-4a4e-87a7-f4... | AVS013 |  0.0  |  6   |\n",
            "| e2e43744-4107-4a4e-87a7-f4... | SF008  |  0.0  |  7   |\n",
            "| e2e43744-4107-4a4e-87a7-f4... | GNG004 |  0.0  |  8   |\n",
            "| e2e43744-4107-4a4e-87a7-f4... | HAN059 |  0.0  |  9   |\n",
            "| e2e43744-4107-4a4e-87a7-f4... | SIT007 |  0.0  |  10  |\n",
            "+-------------------------------+--------+-------+------+\n",
            "[20 rows x 4 columns]\n",
            "\n"
          ]
        }
      ]
    },
    {
      "cell_type": "code",
      "source": [
        "# collaborative model data -> reseller_id | sku | scaled_purchase_freq\n",
        "name = 'pearson'\n",
        "user_id = 'reseller_id'\n",
        "item_id = 'sku'\n",
        "target = 'scaled_purchase_freq'\n",
        "users_to_recommend = list(['fff78986-688d-4a5b-a950-bd87c21a9472','e2e43744-4107-4a4e-87a7-f4e1c4759835'])\n",
        "n_rec = 10 # number of items to recommend\n",
        "n_display = 20 # number of rows will show\n",
        "\n",
        "pearson_norm = model(train_data_norm, name, user_id, item_id, target, users_to_recommend, n_rec, n_display)"
      ],
      "metadata": {
        "colab": {
          "base_uri": "https://localhost:8080/",
          "height": 850
        },
        "id": "UqEHX-rKvPxQ",
        "outputId": "c383fd3f-ccc1-465f-8e4f-322f174a13a3"
      },
      "execution_count": null,
      "outputs": [
        {
          "output_type": "display_data",
          "data": {
            "text/plain": [
              "Preparing data set."
            ],
            "text/html": [
              "<pre>Preparing data set.</pre>"
            ]
          },
          "metadata": {}
        },
        {
          "output_type": "display_data",
          "data": {
            "text/plain": [
              "    Data has 138052 observations with 10852 users and 2336 items."
            ],
            "text/html": [
              "<pre>    Data has 138052 observations with 10852 users and 2336 items.</pre>"
            ]
          },
          "metadata": {}
        },
        {
          "output_type": "display_data",
          "data": {
            "text/plain": [
              "    Data prepared in: 0.349366s"
            ],
            "text/html": [
              "<pre>    Data prepared in: 0.349366s</pre>"
            ]
          },
          "metadata": {}
        },
        {
          "output_type": "display_data",
          "data": {
            "text/plain": [
              "Training model from provided data."
            ],
            "text/html": [
              "<pre>Training model from provided data.</pre>"
            ]
          },
          "metadata": {}
        },
        {
          "output_type": "display_data",
          "data": {
            "text/plain": [
              "Gathering per-item and per-user statistics."
            ],
            "text/html": [
              "<pre>Gathering per-item and per-user statistics.</pre>"
            ]
          },
          "metadata": {}
        },
        {
          "output_type": "display_data",
          "data": {
            "text/plain": [
              "+--------------------------------+------------+"
            ],
            "text/html": [
              "<pre>+--------------------------------+------------+</pre>"
            ]
          },
          "metadata": {}
        },
        {
          "output_type": "display_data",
          "data": {
            "text/plain": [
              "| Elapsed Time (Item Statistics) | % Complete |"
            ],
            "text/html": [
              "<pre>| Elapsed Time (Item Statistics) | % Complete |</pre>"
            ]
          },
          "metadata": {}
        },
        {
          "output_type": "display_data",
          "data": {
            "text/plain": [
              "+--------------------------------+------------+"
            ],
            "text/html": [
              "<pre>+--------------------------------+------------+</pre>"
            ]
          },
          "metadata": {}
        },
        {
          "output_type": "display_data",
          "data": {
            "text/plain": [
              "| 7.325ms                        | 9          |"
            ],
            "text/html": [
              "<pre>| 7.325ms                        | 9          |</pre>"
            ]
          },
          "metadata": {}
        },
        {
          "output_type": "display_data",
          "data": {
            "text/plain": [
              "| 15.861ms                       | 100        |"
            ],
            "text/html": [
              "<pre>| 15.861ms                       | 100        |</pre>"
            ]
          },
          "metadata": {}
        },
        {
          "output_type": "display_data",
          "data": {
            "text/plain": [
              "+--------------------------------+------------+"
            ],
            "text/html": [
              "<pre>+--------------------------------+------------+</pre>"
            ]
          },
          "metadata": {}
        },
        {
          "output_type": "display_data",
          "data": {
            "text/plain": [
              "Setting up lookup tables."
            ],
            "text/html": [
              "<pre>Setting up lookup tables.</pre>"
            ]
          },
          "metadata": {}
        },
        {
          "output_type": "display_data",
          "data": {
            "text/plain": [
              "Processing data in one pass using dense lookup tables."
            ],
            "text/html": [
              "<pre>Processing data in one pass using dense lookup tables.</pre>"
            ]
          },
          "metadata": {}
        },
        {
          "output_type": "display_data",
          "data": {
            "text/plain": [
              "+-------------------------------------+------------------+-----------------+"
            ],
            "text/html": [
              "<pre>+-------------------------------------+------------------+-----------------+</pre>"
            ]
          },
          "metadata": {}
        },
        {
          "output_type": "display_data",
          "data": {
            "text/plain": [
              "| Elapsed Time (Constructing Lookups) | Total % Complete | Items Processed |"
            ],
            "text/html": [
              "<pre>| Elapsed Time (Constructing Lookups) | Total % Complete | Items Processed |</pre>"
            ]
          },
          "metadata": {}
        },
        {
          "output_type": "display_data",
          "data": {
            "text/plain": [
              "+-------------------------------------+------------------+-----------------+"
            ],
            "text/html": [
              "<pre>+-------------------------------------+------------------+-----------------+</pre>"
            ]
          },
          "metadata": {}
        },
        {
          "output_type": "display_data",
          "data": {
            "text/plain": [
              "| 21.835ms                            | 0                | 0               |"
            ],
            "text/html": [
              "<pre>| 21.835ms                            | 0                | 0               |</pre>"
            ]
          },
          "metadata": {}
        },
        {
          "output_type": "display_data",
          "data": {
            "text/plain": [
              "| 960.516ms                           | 100              | 2336            |"
            ],
            "text/html": [
              "<pre>| 960.516ms                           | 100              | 2336            |</pre>"
            ]
          },
          "metadata": {}
        },
        {
          "output_type": "display_data",
          "data": {
            "text/plain": [
              "+-------------------------------------+------------------+-----------------+"
            ],
            "text/html": [
              "<pre>+-------------------------------------+------------------+-----------------+</pre>"
            ]
          },
          "metadata": {}
        },
        {
          "output_type": "display_data",
          "data": {
            "text/plain": [
              "Finalizing lookup tables."
            ],
            "text/html": [
              "<pre>Finalizing lookup tables.</pre>"
            ]
          },
          "metadata": {}
        },
        {
          "output_type": "display_data",
          "data": {
            "text/plain": [
              "Generating candidate set for working with new users."
            ],
            "text/html": [
              "<pre>Generating candidate set for working with new users.</pre>"
            ]
          },
          "metadata": {}
        },
        {
          "output_type": "display_data",
          "data": {
            "text/plain": [
              "Finished training in 0.986363s"
            ],
            "text/html": [
              "<pre>Finished training in 0.986363s</pre>"
            ]
          },
          "metadata": {}
        },
        {
          "output_type": "stream",
          "name": "stdout",
          "text": [
            "+-------------------------------+--------+-------+------+\n",
            "|          reseller_id          |  sku   | score | rank |\n",
            "+-------------------------------+--------+-------+------+\n",
            "| fff78986-688d-4a5b-a950-bd... | UST006 |  1.0  |  1   |\n",
            "| fff78986-688d-4a5b-a950-bd... | DMB045 |  1.0  |  2   |\n",
            "| fff78986-688d-4a5b-a950-bd... | GFX023 |  1.0  |  3   |\n",
            "| fff78986-688d-4a5b-a950-bd... | YLC040 |  1.0  |  4   |\n",
            "| fff78986-688d-4a5b-a950-bd... | SCA010 |  1.0  |  5   |\n",
            "| fff78986-688d-4a5b-a950-bd... | RAD010 |  1.0  |  6   |\n",
            "| fff78986-688d-4a5b-a950-bd... | FOC135 |  1.0  |  7   |\n",
            "| fff78986-688d-4a5b-a950-bd... | FOC069 |  1.0  |  8   |\n",
            "| fff78986-688d-4a5b-a950-bd... | BUN008 |  1.0  |  9   |\n",
            "| fff78986-688d-4a5b-a950-bd... | LAB007 |  1.0  |  10  |\n",
            "| e2e43744-4107-4a4e-87a7-f4... | UST006 |  1.0  |  1   |\n",
            "| e2e43744-4107-4a4e-87a7-f4... | DMB045 |  1.0  |  2   |\n",
            "| e2e43744-4107-4a4e-87a7-f4... | GFX023 |  1.0  |  3   |\n",
            "| e2e43744-4107-4a4e-87a7-f4... | YLC040 |  1.0  |  4   |\n",
            "| e2e43744-4107-4a4e-87a7-f4... | SCA010 |  1.0  |  5   |\n",
            "| e2e43744-4107-4a4e-87a7-f4... | RAD010 |  1.0  |  6   |\n",
            "| e2e43744-4107-4a4e-87a7-f4... | FOC135 |  1.0  |  7   |\n",
            "| e2e43744-4107-4a4e-87a7-f4... | FOC069 |  1.0  |  8   |\n",
            "| e2e43744-4107-4a4e-87a7-f4... | BUN008 |  1.0  |  9   |\n",
            "| e2e43744-4107-4a4e-87a7-f4... | LAB007 |  1.0  |  10  |\n",
            "+-------------------------------+--------+-------+------+\n",
            "[20 rows x 4 columns]\n",
            "\n"
          ]
        }
      ]
    },
    {
      "cell_type": "markdown",
      "source": [
        "### Model Evaluation\n",
        "\n",
        "1.RMSE (Root Mean Squared Errors)\n",
        "\n",
        "  Measures the error of predicted values\n",
        "  Lesser the RMSE value, better the recommendations\n",
        "\n",
        "\n",
        "2.Recall\n",
        "\n",
        "  What percentage of products that a user buys are actually recommended?\n",
        "  If a customer buys 5 products and the recommendation decided to show 3 of them, then the recall is 0.6\n",
        "\n",
        "\n",
        "3.Precision\n",
        "\n",
        "  Out of all the recommended items, how many the user actually liked?\n",
        "  If 5 products were recommended to the customer out of which he buys 4 of them, then precision is 0.8\n",
        "Why are both recall and precision important?\n",
        "\n",
        "\n",
        "\n",
        "Consider a case where we recommend all products, so our customers will surely cover the items that they liked and bought. In this case, we have 100% recall! Does this mean our model is good?\n",
        "We have to consider precision. If we recommend 300 items but user likes and buys only 3 of them, then precision is 0.1%! This very low precision indicates that the model is not great, despite their excellent recall.\n",
        "So our aim has to be optimizing both recall and precision (to be close to 1 as possible)."
      ],
      "metadata": {
        "id": "bjoO6zn_iL9f"
      }
    },
    {
      "cell_type": "code",
      "source": [
        "popularity_model.evaluate(test_data)"
      ],
      "metadata": {
        "colab": {
          "base_uri": "https://localhost:8080/",
          "height": 1000
        },
        "id": "uPbF0zx9JOyE",
        "outputId": "0d866891-377d-4ef9-80a8-2a422037b0a5"
      },
      "execution_count": null,
      "outputs": [
        {
          "output_type": "display_data",
          "data": {
            "text/plain": [
              "recommendations finished on 1000/6716 queries. users per second: 40418.7"
            ],
            "text/html": [
              "<pre>recommendations finished on 1000/6716 queries. users per second: 40418.7</pre>"
            ]
          },
          "metadata": {}
        },
        {
          "output_type": "display_data",
          "data": {
            "text/plain": [
              "recommendations finished on 2000/6716 queries. users per second: 38468.9"
            ],
            "text/html": [
              "<pre>recommendations finished on 2000/6716 queries. users per second: 38468.9</pre>"
            ]
          },
          "metadata": {}
        },
        {
          "output_type": "display_data",
          "data": {
            "text/plain": [
              "recommendations finished on 3000/6716 queries. users per second: 39525.2"
            ],
            "text/html": [
              "<pre>recommendations finished on 3000/6716 queries. users per second: 39525.2</pre>"
            ]
          },
          "metadata": {}
        },
        {
          "output_type": "display_data",
          "data": {
            "text/plain": [
              "recommendations finished on 4000/6716 queries. users per second: 35891.8"
            ],
            "text/html": [
              "<pre>recommendations finished on 4000/6716 queries. users per second: 35891.8</pre>"
            ]
          },
          "metadata": {}
        },
        {
          "output_type": "display_data",
          "data": {
            "text/plain": [
              "recommendations finished on 5000/6716 queries. users per second: 37385.4"
            ],
            "text/html": [
              "<pre>recommendations finished on 5000/6716 queries. users per second: 37385.4</pre>"
            ]
          },
          "metadata": {}
        },
        {
          "output_type": "display_data",
          "data": {
            "text/plain": [
              "recommendations finished on 6000/6716 queries. users per second: 37744.2"
            ],
            "text/html": [
              "<pre>recommendations finished on 6000/6716 queries. users per second: 37744.2</pre>"
            ]
          },
          "metadata": {}
        },
        {
          "output_type": "stream",
          "name": "stdout",
          "text": [
            "\n",
            "Precision and recall summary statistics by cutoff\n",
            "+--------+----------------+-------------+\n",
            "| cutoff | mean_precision | mean_recall |\n",
            "+--------+----------------+-------------+\n",
            "|   1    |      0.0       |     0.0     |\n",
            "|   2    |      0.0       |     0.0     |\n",
            "|   3    |      0.0       |     0.0     |\n",
            "|   4    |      0.0       |     0.0     |\n",
            "|   5    |      0.0       |     0.0     |\n",
            "|   6    |      0.0       |     0.0     |\n",
            "|   7    |      0.0       |     0.0     |\n",
            "|   8    |      0.0       |     0.0     |\n",
            "|   9    |      0.0       |     0.0     |\n",
            "|   10   |      0.0       |     0.0     |\n",
            "+--------+----------------+-------------+\n",
            "[10 rows x 3 columns]\n",
            "\n",
            "\n",
            "Overall RMSE: 36.915327422337846\n",
            "\n",
            "Per User RMSE (best)\n",
            "+-------------------------------+------+-------+\n",
            "|          reseller_id          | rmse | count |\n",
            "+-------------------------------+------+-------+\n",
            "| cd340fed-9d1f-48b2-96d3-26... | 0.0  |   1   |\n",
            "+-------------------------------+------+-------+\n",
            "[1 rows x 3 columns]\n",
            "\n",
            "\n",
            "Per User RMSE (worst)\n",
            "+-------------------------------+-------------------+-------+\n",
            "|          reseller_id          |        rmse       | count |\n",
            "+-------------------------------+-------------------+-------+\n",
            "| 147417fb-836f-4a16-a5f7-1f... | 1540.192672998643 |   1   |\n",
            "+-------------------------------+-------------------+-------+\n",
            "[1 rows x 3 columns]\n",
            "\n",
            "\n",
            "Per Item RMSE (best)\n",
            "+--------+------+-------+\n",
            "|  sku   | rmse | count |\n",
            "+--------+------+-------+\n",
            "| FOC277 | 0.0  |   2   |\n",
            "+--------+------+-------+\n",
            "[1 rows x 3 columns]\n",
            "\n",
            "\n",
            "Per Item RMSE (worst)\n",
            "+--------+--------------------+-------+\n",
            "|  sku   |        rmse        | count |\n",
            "+--------+--------------------+-------+\n",
            "| AZR001 | 233.00726482999642 |  640  |\n",
            "+--------+--------------------+-------+\n",
            "[1 rows x 3 columns]\n",
            "\n"
          ]
        },
        {
          "output_type": "execute_result",
          "data": {
            "text/plain": [
              "{'precision_recall_by_user': Columns:\n",
              " \treseller_id\tstr\n",
              " \tcutoff\tint\n",
              " \tprecision\tfloat\n",
              " \trecall\tfloat\n",
              " \tcount\tint\n",
              " \n",
              " Rows: 120888\n",
              " \n",
              " Data:\n",
              " +-------------------------------+--------+-----------+--------+-------+\n",
              " |          reseller_id          | cutoff | precision | recall | count |\n",
              " +-------------------------------+--------+-----------+--------+-------+\n",
              " | 84e48995-14b7-4c97-baed-72... |   1    |    0.0    |  0.0   |   90  |\n",
              " | 84e48995-14b7-4c97-baed-72... |   2    |    0.0    |  0.0   |   90  |\n",
              " | 84e48995-14b7-4c97-baed-72... |   3    |    0.0    |  0.0   |   90  |\n",
              " | 84e48995-14b7-4c97-baed-72... |   4    |    0.0    |  0.0   |   90  |\n",
              " | 84e48995-14b7-4c97-baed-72... |   5    |    0.0    |  0.0   |   90  |\n",
              " | 84e48995-14b7-4c97-baed-72... |   6    |    0.0    |  0.0   |   90  |\n",
              " | 84e48995-14b7-4c97-baed-72... |   7    |    0.0    |  0.0   |   90  |\n",
              " | 84e48995-14b7-4c97-baed-72... |   8    |    0.0    |  0.0   |   90  |\n",
              " | 84e48995-14b7-4c97-baed-72... |   9    |    0.0    |  0.0   |   90  |\n",
              " | 84e48995-14b7-4c97-baed-72... |   10   |    0.0    |  0.0   |   90  |\n",
              " +-------------------------------+--------+-----------+--------+-------+\n",
              " [120888 rows x 5 columns]\n",
              " Note: Only the head of the SFrame is printed.\n",
              " You can use print_rows(num_rows=m, num_columns=n) to print more rows and columns.,\n",
              " 'precision_recall_overall': Columns:\n",
              " \tcutoff\tint\n",
              " \tprecision\tfloat\n",
              " \trecall\tfloat\n",
              " \n",
              " Rows: 18\n",
              " \n",
              " Data:\n",
              " +--------+-----------+--------+\n",
              " | cutoff | precision | recall |\n",
              " +--------+-----------+--------+\n",
              " |   1    |    0.0    |  0.0   |\n",
              " |   2    |    0.0    |  0.0   |\n",
              " |   3    |    0.0    |  0.0   |\n",
              " |   4    |    0.0    |  0.0   |\n",
              " |   5    |    0.0    |  0.0   |\n",
              " |   6    |    0.0    |  0.0   |\n",
              " |   7    |    0.0    |  0.0   |\n",
              " |   8    |    0.0    |  0.0   |\n",
              " |   9    |    0.0    |  0.0   |\n",
              " |   10   |    0.0    |  0.0   |\n",
              " +--------+-----------+--------+\n",
              " [18 rows x 3 columns]\n",
              " Note: Only the head of the SFrame is printed.\n",
              " You can use print_rows(num_rows=m, num_columns=n) to print more rows and columns.,\n",
              " 'rmse_by_user': Columns:\n",
              " \treseller_id\tstr\n",
              " \trmse\tfloat\n",
              " \tcount\tint\n",
              " \n",
              " Rows: 6716\n",
              " \n",
              " Data:\n",
              " +-------------------------------+--------------------+-------+\n",
              " |          reseller_id          |        rmse        | count |\n",
              " +-------------------------------+--------------------+-------+\n",
              " | cff4fc74-e38f-4186-af1f-e8... | 6.9959185105828485 |   9   |\n",
              " | 829a0715-9b46-4915-87c2-8b... | 14.493552532190245 |   38  |\n",
              " | 7d06c679-4cb1-494f-948d-3b... | 1.2129032258064516 |   1   |\n",
              " | 86260af4-9ec9-4a28-8f85-10... |  20.5485999643303  |   1   |\n",
              " | 9ddb30b2-59d1-4766-8162-af... | 7.794846382556987  |   1   |\n",
              " | 252c8ee7-0ea9-4378-80dc-4b... | 11.083949704142011 |   1   |\n",
              " | 7d3bbec1-d7f3-4ea8-8eb4-aa... | 13.623849630485266 |   5   |\n",
              " | 5c8ba23f-2314-420b-98c2-9f... |  4.27977578917426  |   4   |\n",
              " | f25f614b-8220-4eec-a579-82... | 16.65245971162002  |   1   |\n",
              " | d0dbb25d-5b9f-47ee-999e-48... | 14.559106943594738 |   36  |\n",
              " +-------------------------------+--------------------+-------+\n",
              " [6716 rows x 3 columns]\n",
              " Note: Only the head of the SFrame is printed.\n",
              " You can use print_rows(num_rows=m, num_columns=n) to print more rows and columns.,\n",
              " 'rmse_by_item': Columns:\n",
              " \tsku\tstr\n",
              " \trmse\tfloat\n",
              " \tcount\tint\n",
              " \n",
              " Rows: 2379\n",
              " \n",
              " Data:\n",
              " +--------+---------------------+-------+\n",
              " |  sku   |         rmse        | count |\n",
              " +--------+---------------------+-------+\n",
              " | SHM078 | 0.40975753143523946 |   5   |\n",
              " | BRS024 |  25.65754597643508  |   21  |\n",
              " | DMB001 |  6.920392139507316  |   5   |\n",
              " | HAN053 |  6.610931996213022  |   59  |\n",
              " | AZR009 |  13.111691890308002 |   69  |\n",
              " | KAF005 |  7.173242508147015  |   59  |\n",
              " | SIT009 |  29.750801651086878 |   80  |\n",
              " | SAN028 |  6.948592398106388  |   17  |\n",
              " | WGO026 |  2.5871477215909673 |   3   |\n",
              " | EMI021 |  15.72819478233631  |   8   |\n",
              " +--------+---------------------+-------+\n",
              " [2379 rows x 3 columns]\n",
              " Note: Only the head of the SFrame is printed.\n",
              " You can use print_rows(num_rows=m, num_columns=n) to print more rows and columns.,\n",
              " 'rmse_overall': 36.915327422337846}"
            ]
          },
          "metadata": {},
          "execution_count": 38
        }
      ]
    },
    {
      "cell_type": "code",
      "source": [
        "popularity_dummy.evaluate(test_data_dummy)"
      ],
      "metadata": {
        "colab": {
          "base_uri": "https://localhost:8080/",
          "height": 1000
        },
        "id": "C481EA5EIe9l",
        "outputId": "113d74e2-8882-42d6-a82b-0d5b4d3c3560"
      },
      "execution_count": null,
      "outputs": [
        {
          "output_type": "display_data",
          "data": {
            "text/plain": [
              "recommendations finished on 1000/6733 queries. users per second: 44043.2"
            ],
            "text/html": [
              "<pre>recommendations finished on 1000/6733 queries. users per second: 44043.2</pre>"
            ]
          },
          "metadata": {}
        },
        {
          "output_type": "display_data",
          "data": {
            "text/plain": [
              "recommendations finished on 2000/6733 queries. users per second: 42312.8"
            ],
            "text/html": [
              "<pre>recommendations finished on 2000/6733 queries. users per second: 42312.8</pre>"
            ]
          },
          "metadata": {}
        },
        {
          "output_type": "display_data",
          "data": {
            "text/plain": [
              "recommendations finished on 3000/6733 queries. users per second: 40813"
            ],
            "text/html": [
              "<pre>recommendations finished on 3000/6733 queries. users per second: 40813</pre>"
            ]
          },
          "metadata": {}
        },
        {
          "output_type": "display_data",
          "data": {
            "text/plain": [
              "recommendations finished on 4000/6733 queries. users per second: 40478.5"
            ],
            "text/html": [
              "<pre>recommendations finished on 4000/6733 queries. users per second: 40478.5</pre>"
            ]
          },
          "metadata": {}
        },
        {
          "output_type": "display_data",
          "data": {
            "text/plain": [
              "recommendations finished on 5000/6733 queries. users per second: 36753.9"
            ],
            "text/html": [
              "<pre>recommendations finished on 5000/6733 queries. users per second: 36753.9</pre>"
            ]
          },
          "metadata": {}
        },
        {
          "output_type": "display_data",
          "data": {
            "text/plain": [
              "recommendations finished on 6000/6733 queries. users per second: 36678.9"
            ],
            "text/html": [
              "<pre>recommendations finished on 6000/6733 queries. users per second: 36678.9</pre>"
            ]
          },
          "metadata": {}
        },
        {
          "output_type": "stream",
          "name": "stdout",
          "text": [
            "\n",
            "Precision and recall summary statistics by cutoff\n",
            "+--------+------------------------+------------------------+\n",
            "| cutoff |     mean_precision     |      mean_recall       |\n",
            "+--------+------------------------+------------------------+\n",
            "|   1    | 0.0005940888162780325  | 0.0002519053069022054  |\n",
            "|   2    | 0.0005198277142432788  | 0.00047486755542100993 |\n",
            "|   3    | 0.00034655180949551897 | 0.00047486755542100955 |\n",
            "|   4    | 0.0003341749591563935  | 0.00047946467126125635 |\n",
            "|   5    | 0.00032674884895291943 | 0.0005550759751511882  |\n",
            "|   6    | 0.00029704440813901726 |  0.000571578442270022  |\n",
            "|   7    | 0.00029704440813901726 | 0.0005744142371004699  |\n",
            "|   8    | 0.00027847913263032826 |  0.000587916255652243  |\n",
            "|   9    | 0.0002640394739013482  | 0.0006064815311609325  |\n",
            "|   10   | 0.00029704440813901683 | 0.0006265020832066363  |\n",
            "+--------+------------------------+------------------------+\n",
            "[10 rows x 3 columns]\n",
            "\n",
            "\n",
            "Overall RMSE: 0.0\n",
            "\n",
            "Per User RMSE (best)\n",
            "+-------------------------------+------+-------+\n",
            "|          reseller_id          | rmse | count |\n",
            "+-------------------------------+------+-------+\n",
            "| 1b6522a4-d0d7-4bd9-b330-e1... | 0.0  |   1   |\n",
            "+-------------------------------+------+-------+\n",
            "[1 rows x 3 columns]\n",
            "\n",
            "\n",
            "Per User RMSE (worst)\n",
            "+-------------------------------+------+-------+\n",
            "|          reseller_id          | rmse | count |\n",
            "+-------------------------------+------+-------+\n",
            "| cff4fc74-e38f-4186-af1f-e8... | 0.0  |   13  |\n",
            "+-------------------------------+------+-------+\n",
            "[1 rows x 3 columns]\n",
            "\n",
            "\n",
            "Per Item RMSE (best)\n",
            "+--------+------+-------+\n",
            "|  sku   | rmse | count |\n",
            "+--------+------+-------+\n",
            "| WGO018 | 0.0  |   2   |\n",
            "+--------+------+-------+\n",
            "[1 rows x 3 columns]\n",
            "\n",
            "\n",
            "Per Item RMSE (worst)\n",
            "+--------+------+-------+\n",
            "|  sku   | rmse | count |\n",
            "+--------+------+-------+\n",
            "| SHM078 | 0.0  |   1   |\n",
            "+--------+------+-------+\n",
            "[1 rows x 3 columns]\n",
            "\n"
          ]
        },
        {
          "output_type": "execute_result",
          "data": {
            "text/plain": [
              "{'precision_recall_by_user': Columns:\n",
              " \treseller_id\tstr\n",
              " \tcutoff\tint\n",
              " \tprecision\tfloat\n",
              " \trecall\tfloat\n",
              " \tcount\tint\n",
              " \n",
              " Rows: 121194\n",
              " \n",
              " Data:\n",
              " +-------------------------------+--------+-----------+--------+-------+\n",
              " |          reseller_id          | cutoff | precision | recall | count |\n",
              " +-------------------------------+--------+-----------+--------+-------+\n",
              " | 479e41b8-9085-48b3-9c83-69... |   1    |    0.0    |  0.0   |  538  |\n",
              " | 479e41b8-9085-48b3-9c83-69... |   2    |    0.0    |  0.0   |  538  |\n",
              " | 479e41b8-9085-48b3-9c83-69... |   3    |    0.0    |  0.0   |  538  |\n",
              " | 479e41b8-9085-48b3-9c83-69... |   4    |    0.0    |  0.0   |  538  |\n",
              " | 479e41b8-9085-48b3-9c83-69... |   5    |    0.0    |  0.0   |  538  |\n",
              " | 479e41b8-9085-48b3-9c83-69... |   6    |    0.0    |  0.0   |  538  |\n",
              " | 479e41b8-9085-48b3-9c83-69... |   7    |    0.0    |  0.0   |  538  |\n",
              " | 479e41b8-9085-48b3-9c83-69... |   8    |    0.0    |  0.0   |  538  |\n",
              " | 479e41b8-9085-48b3-9c83-69... |   9    |    0.0    |  0.0   |  538  |\n",
              " | 479e41b8-9085-48b3-9c83-69... |   10   |    0.0    |  0.0   |  538  |\n",
              " +-------------------------------+--------+-----------+--------+-------+\n",
              " [121194 rows x 5 columns]\n",
              " Note: Only the head of the SFrame is printed.\n",
              " You can use print_rows(num_rows=m, num_columns=n) to print more rows and columns.,\n",
              " 'precision_recall_overall': Columns:\n",
              " \tcutoff\tint\n",
              " \tprecision\tfloat\n",
              " \trecall\tfloat\n",
              " \n",
              " Rows: 18\n",
              " \n",
              " Data:\n",
              " +--------+------------------------+------------------------+\n",
              " | cutoff |       precision        |         recall         |\n",
              " +--------+------------------------+------------------------+\n",
              " |   1    | 0.0005940888162780336  | 0.0002519053069022054  |\n",
              " |   2    | 0.0005198277142432796  | 0.00047486755542100874 |\n",
              " |   3    | 0.00034655180949551967 | 0.0004748675554210094  |\n",
              " |   4    | 0.00033417495915639354 | 0.00047946467126125614 |\n",
              " |   5    | 0.0003267488489529186  | 0.0005550759751511868  |\n",
              " |   6    | 0.00029704440813901694 | 0.0005715784422700232  |\n",
              " |   7    | 0.00029704440813901705 | 0.0005744142371004705  |\n",
              " |   8    | 0.0002784791326303284  | 0.0005879162556522433  |\n",
              " |   9    | 0.0002640394739013479  | 0.0006064815311609319  |\n",
              " |   10   | 0.0002970444081390167  | 0.0006265020832066356  |\n",
              " +--------+------------------------+------------------------+\n",
              " [18 rows x 3 columns]\n",
              " Note: Only the head of the SFrame is printed.\n",
              " You can use print_rows(num_rows=m, num_columns=n) to print more rows and columns.,\n",
              " 'rmse_by_user': Columns:\n",
              " \treseller_id\tstr\n",
              " \trmse\tfloat\n",
              " \tcount\tint\n",
              " \n",
              " Rows: 6733\n",
              " \n",
              " Data:\n",
              " +-------------------------------+------+-------+\n",
              " |          reseller_id          | rmse | count |\n",
              " +-------------------------------+------+-------+\n",
              " | cff4fc74-e38f-4186-af1f-e8... | 0.0  |   13  |\n",
              " | 829a0715-9b46-4915-87c2-8b... | 0.0  |   32  |\n",
              " | 9ddb30b2-59d1-4766-8162-af... | 0.0  |   2   |\n",
              " | 252c8ee7-0ea9-4378-80dc-4b... | 0.0  |   2   |\n",
              " | 7d3bbec1-d7f3-4ea8-8eb4-aa... | 0.0  |   1   |\n",
              " | 5c8ba23f-2314-420b-98c2-9f... | 0.0  |   3   |\n",
              " | 941ad11f-7f8a-4d5e-8de4-17... | 0.0  |   1   |\n",
              " | f25f614b-8220-4eec-a579-82... | 0.0  |   4   |\n",
              " | e51ba21a-6fb2-49f6-a9ea-3a... | 0.0  |   1   |\n",
              " | b2ff13cc-d8ba-4e6f-92bf-95... | 0.0  |   1   |\n",
              " +-------------------------------+------+-------+\n",
              " [6733 rows x 3 columns]\n",
              " Note: Only the head of the SFrame is printed.\n",
              " You can use print_rows(num_rows=m, num_columns=n) to print more rows and columns.,\n",
              " 'rmse_by_item': Columns:\n",
              " \tsku\tstr\n",
              " \trmse\tfloat\n",
              " \tcount\tint\n",
              " \n",
              " Rows: 2356\n",
              " \n",
              " Data:\n",
              " +--------+------+-------+\n",
              " |  sku   | rmse | count |\n",
              " +--------+------+-------+\n",
              " | SHM078 | 0.0  |   1   |\n",
              " | BRS024 | 0.0  |   16  |\n",
              " | DMB001 | 0.0  |   5   |\n",
              " | HAN053 | 0.0  |   47  |\n",
              " | AZR009 | 0.0  |   63  |\n",
              " | KAF005 | 0.0  |   66  |\n",
              " | SIT009 | 0.0  |   86  |\n",
              " | SAN028 | 0.0  |   12  |\n",
              " | WGO026 | 0.0  |   1   |\n",
              " | EMI021 | 0.0  |   2   |\n",
              " +--------+------+-------+\n",
              " [2356 rows x 3 columns]\n",
              " Note: Only the head of the SFrame is printed.\n",
              " You can use print_rows(num_rows=m, num_columns=n) to print more rows and columns.,\n",
              " 'rmse_overall': 0.0}"
            ]
          },
          "metadata": {},
          "execution_count": 35
        }
      ]
    },
    {
      "cell_type": "code",
      "source": [
        "popularity_scaled.evaluate(test_data_norm)"
      ],
      "metadata": {
        "colab": {
          "base_uri": "https://localhost:8080/",
          "height": 1000
        },
        "id": "VzJHTmEHJabn",
        "outputId": "f005d787-7572-4c81-b68c-2bf50c39a3e2"
      },
      "execution_count": null,
      "outputs": [
        {
          "output_type": "display_data",
          "data": {
            "text/plain": [
              "recommendations finished on 1000/6433 queries. users per second: 28443"
            ],
            "text/html": [
              "<pre>recommendations finished on 1000/6433 queries. users per second: 28443</pre>"
            ]
          },
          "metadata": {}
        },
        {
          "output_type": "display_data",
          "data": {
            "text/plain": [
              "recommendations finished on 2000/6433 queries. users per second: 29700"
            ],
            "text/html": [
              "<pre>recommendations finished on 2000/6433 queries. users per second: 29700</pre>"
            ]
          },
          "metadata": {}
        },
        {
          "output_type": "display_data",
          "data": {
            "text/plain": [
              "recommendations finished on 3000/6433 queries. users per second: 30204.5"
            ],
            "text/html": [
              "<pre>recommendations finished on 3000/6433 queries. users per second: 30204.5</pre>"
            ]
          },
          "metadata": {}
        },
        {
          "output_type": "display_data",
          "data": {
            "text/plain": [
              "recommendations finished on 4000/6433 queries. users per second: 29233.4"
            ],
            "text/html": [
              "<pre>recommendations finished on 4000/6433 queries. users per second: 29233.4</pre>"
            ]
          },
          "metadata": {}
        },
        {
          "output_type": "display_data",
          "data": {
            "text/plain": [
              "recommendations finished on 5000/6433 queries. users per second: 30214.2"
            ],
            "text/html": [
              "<pre>recommendations finished on 5000/6433 queries. users per second: 30214.2</pre>"
            ]
          },
          "metadata": {}
        },
        {
          "output_type": "display_data",
          "data": {
            "text/plain": [
              "recommendations finished on 6000/6433 queries. users per second: 29963.6"
            ],
            "text/html": [
              "<pre>recommendations finished on 6000/6433 queries. users per second: 29963.6</pre>"
            ]
          },
          "metadata": {}
        },
        {
          "output_type": "stream",
          "name": "stdout",
          "text": [
            "\n",
            "Precision and recall summary statistics by cutoff\n",
            "+--------+------------------------+------------------------+\n",
            "| cutoff |     mean_precision     |      mean_recall       |\n",
            "+--------+------------------------+------------------------+\n",
            "|   1    | 0.00015544846883258168 | 2.467436013215587e-06  |\n",
            "|   2    | 7.772423441629093e-05  | 2.467436013215587e-06  |\n",
            "|   3    | 0.0001554484688325821  | 7.241924698787746e-05  |\n",
            "|   4    | 0.00011658635162443643 | 7.241924698787752e-05  |\n",
            "|   5    | 0.00015544846883258187 | 7.533853140520587e-05  |\n",
            "|   6    | 0.00015544846883258206 | 8.947021038998616e-05  |\n",
            "|   7    | 0.0002220692411894028  | 0.00011196384687712873 |\n",
            "|   8    |  0.000233172703248873  | 0.00017349553245669234 |\n",
            "|   9    | 0.0002590807813876361  | 0.00018068508292152455 |\n",
            "|   10   | 0.00027980724389864767 | 0.0004155292750825755  |\n",
            "+--------+------------------------+------------------------+\n",
            "[10 rows x 3 columns]\n",
            "\n",
            "\n",
            "Overall RMSE: 0.15862353505786214\n",
            "\n",
            "Per User RMSE (best)\n",
            "+-------------------------------+------+-------+\n",
            "|          reseller_id          | rmse | count |\n",
            "+-------------------------------+------+-------+\n",
            "| 9e8d46aa-5991-4a25-9a55-c4... | 0.0  |   1   |\n",
            "+-------------------------------+------+-------+\n",
            "[1 rows x 3 columns]\n",
            "\n",
            "\n",
            "Per User RMSE (worst)\n",
            "+-------------------------------+------+-------+\n",
            "|          reseller_id          | rmse | count |\n",
            "+-------------------------------+------+-------+\n",
            "| 84994b2b-9b16-4dbe-b220-b5... | 1.0  |   1   |\n",
            "+-------------------------------+------+-------+\n",
            "[1 rows x 3 columns]\n",
            "\n",
            "\n",
            "Per Item RMSE (best)\n",
            "+--------+------+-------+\n",
            "|  sku   | rmse | count |\n",
            "+--------+------+-------+\n",
            "| FOC254 | 0.0  |   2   |\n",
            "+--------+------+-------+\n",
            "[1 rows x 3 columns]\n",
            "\n",
            "\n",
            "Per Item RMSE (worst)\n",
            "+--------+------+-------+\n",
            "|  sku   | rmse | count |\n",
            "+--------+------+-------+\n",
            "| BUN012 | 1.0  |   1   |\n",
            "+--------+------+-------+\n",
            "[1 rows x 3 columns]\n",
            "\n"
          ]
        },
        {
          "output_type": "execute_result",
          "data": {
            "text/plain": [
              "{'precision_recall_by_user': Columns:\n",
              " \treseller_id\tstr\n",
              " \tcutoff\tint\n",
              " \tprecision\tfloat\n",
              " \trecall\tfloat\n",
              " \tcount\tint\n",
              " \n",
              " Rows: 115794\n",
              " \n",
              " Data:\n",
              " +-------------------------------+--------+-----------+--------+-------+\n",
              " |          reseller_id          | cutoff | precision | recall | count |\n",
              " +-------------------------------+--------+-----------+--------+-------+\n",
              " | 22b94b37-3c1b-4462-bbae-cc... |   1    |    0.0    |  0.0   |   7   |\n",
              " | 22b94b37-3c1b-4462-bbae-cc... |   2    |    0.0    |  0.0   |   7   |\n",
              " | 22b94b37-3c1b-4462-bbae-cc... |   3    |    0.0    |  0.0   |   7   |\n",
              " | 22b94b37-3c1b-4462-bbae-cc... |   4    |    0.0    |  0.0   |   7   |\n",
              " | 22b94b37-3c1b-4462-bbae-cc... |   5    |    0.0    |  0.0   |   7   |\n",
              " | 22b94b37-3c1b-4462-bbae-cc... |   6    |    0.0    |  0.0   |   7   |\n",
              " | 22b94b37-3c1b-4462-bbae-cc... |   7    |    0.0    |  0.0   |   7   |\n",
              " | 22b94b37-3c1b-4462-bbae-cc... |   8    |    0.0    |  0.0   |   7   |\n",
              " | 22b94b37-3c1b-4462-bbae-cc... |   9    |    0.0    |  0.0   |   7   |\n",
              " | 22b94b37-3c1b-4462-bbae-cc... |   10   |    0.0    |  0.0   |   7   |\n",
              " +-------------------------------+--------+-----------+--------+-------+\n",
              " [115794 rows x 5 columns]\n",
              " Note: Only the head of the SFrame is printed.\n",
              " You can use print_rows(num_rows=m, num_columns=n) to print more rows and columns.,\n",
              " 'precision_recall_overall': Columns:\n",
              " \tcutoff\tint\n",
              " \tprecision\tfloat\n",
              " \trecall\tfloat\n",
              " \n",
              " Rows: 18\n",
              " \n",
              " Data:\n",
              " +--------+------------------------+------------------------+\n",
              " | cutoff |       precision        |         recall         |\n",
              " +--------+------------------------+------------------------+\n",
              " |   1    | 0.0001554484688325818  | 2.467436013215587e-06  |\n",
              " |   2    | 7.772423441629093e-05  | 2.467436013215587e-06  |\n",
              " |   3    | 0.0001554484688325818  | 7.241924698787737e-05  |\n",
              " |   4    | 0.00011658635162443646 | 7.241924698787741e-05  |\n",
              " |   5    | 0.00015544846883258187 | 7.533853140520596e-05  |\n",
              " |   6    | 0.00015544846883258187 | 8.947021038998615e-05  |\n",
              " |   7    | 0.00022206924118940268 | 0.00011196384687712877 |\n",
              " |   8    |  0.000233172703248873  | 0.00017349553245669247 |\n",
              " |   9    | 0.00025908078138763674 | 0.00018068508292152466 |\n",
              " |   10   | 0.00027980724389864794 | 0.00041552927508257574 |\n",
              " +--------+------------------------+------------------------+\n",
              " [18 rows x 3 columns]\n",
              " Note: Only the head of the SFrame is printed.\n",
              " You can use print_rows(num_rows=m, num_columns=n) to print more rows and columns.,\n",
              " 'rmse_by_user': Columns:\n",
              " \treseller_id\tstr\n",
              " \trmse\tfloat\n",
              " \tcount\tint\n",
              " \n",
              " Rows: 6433\n",
              " \n",
              " Data:\n",
              " +-------------------------------+----------------------+-------+\n",
              " |          reseller_id          |         rmse         | count |\n",
              " +-------------------------------+----------------------+-------+\n",
              " | cff4fc74-e38f-4186-af1f-e8... | 0.23021089266624878  |   7   |\n",
              " | 829a0715-9b46-4915-87c2-8b... | 0.022548940185946047 |   6   |\n",
              " | 86260af4-9ec9-4a28-8f85-10... | 0.017493470461461543 |   1   |\n",
              " | 9ddb30b2-59d1-4766-8162-af... | 0.06817471886713869  |   1   |\n",
              " | 252c8ee7-0ea9-4378-80dc-4b... | 0.01965627131071366  |   1   |\n",
              " | 7d3bbec1-d7f3-4ea8-8eb4-aa... | 0.02907758524698943  |   1   |\n",
              " | 5c8ba23f-2314-420b-98c2-9f... | 0.021007118368939273 |   2   |\n",
              " | 941ad11f-7f8a-4d5e-8de4-17... | 0.01965627131071366  |   1   |\n",
              " | f25f614b-8220-4eec-a579-82... | 0.03886811010671193  |   1   |\n",
              " | a702d790-30e4-464d-bc39-ab... | 0.03192405480989702  |   1   |\n",
              " +-------------------------------+----------------------+-------+\n",
              " [6433 rows x 3 columns]\n",
              " Note: Only the head of the SFrame is printed.\n",
              " You can use print_rows(num_rows=m, num_columns=n) to print more rows and columns.,\n",
              " 'rmse_by_item': Columns:\n",
              " \tsku\tstr\n",
              " \trmse\tfloat\n",
              " \tcount\tint\n",
              " \n",
              " Rows: 2139\n",
              " \n",
              " Data:\n",
              " +--------+---------------------+-------+\n",
              " |  sku   |         rmse        | count |\n",
              " +--------+---------------------+-------+\n",
              " | BRS024 | 0.04636399924396241 |   14  |\n",
              " | DMB001 |  0.3453563813965622 |   8   |\n",
              " | HAN053 | 0.17190716659238184 |   33  |\n",
              " | AZR009 | 0.07762454344411884 |   52  |\n",
              " | KAF005 |  0.0665853412134951 |   45  |\n",
              " | SIT009 | 0.05489879751348612 |   33  |\n",
              " | SAN028 |  0.2601179546142158 |   14  |\n",
              " | WGO026 |  0.1699673171197595 |   2   |\n",
              " | EMI021 | 0.09470854772601377 |   13  |\n",
              " | TRV018 | 0.22457419267717482 |   18  |\n",
              " +--------+---------------------+-------+\n",
              " [2139 rows x 3 columns]\n",
              " Note: Only the head of the SFrame is printed.\n",
              " You can use print_rows(num_rows=m, num_columns=n) to print more rows and columns.,\n",
              " 'rmse_overall': 0.15862353505786214}"
            ]
          },
          "metadata": {},
          "execution_count": 39
        }
      ]
    },
    {
      "cell_type": "markdown",
      "source": [
        "#### Cosine Similarity Evaluation"
      ],
      "metadata": {
        "id": "SLfXP6PLvwiw"
      }
    },
    {
      "cell_type": "code",
      "source": [
        "# collaborative model data -> reseller_id | sku | quantity\n",
        "cosine.evaluate(test_data)\n",
        "#'rmse_overall': 33.83288384157576}"
      ],
      "metadata": {
        "colab": {
          "base_uri": "https://localhost:8080/",
          "height": 1000
        },
        "id": "f2HCZEzVkLnY",
        "outputId": "5e17742a-ccd8-484e-faad-fd03371b7c24"
      },
      "execution_count": null,
      "outputs": [
        {
          "output_type": "display_data",
          "data": {
            "text/plain": [
              "recommendations finished on 1000/6716 queries. users per second: 25546"
            ],
            "text/html": [
              "<pre>recommendations finished on 1000/6716 queries. users per second: 25546</pre>"
            ]
          },
          "metadata": {}
        },
        {
          "output_type": "display_data",
          "data": {
            "text/plain": [
              "recommendations finished on 2000/6716 queries. users per second: 23908.6"
            ],
            "text/html": [
              "<pre>recommendations finished on 2000/6716 queries. users per second: 23908.6</pre>"
            ]
          },
          "metadata": {}
        },
        {
          "output_type": "display_data",
          "data": {
            "text/plain": [
              "recommendations finished on 3000/6716 queries. users per second: 24579.5"
            ],
            "text/html": [
              "<pre>recommendations finished on 3000/6716 queries. users per second: 24579.5</pre>"
            ]
          },
          "metadata": {}
        },
        {
          "output_type": "display_data",
          "data": {
            "text/plain": [
              "recommendations finished on 4000/6716 queries. users per second: 24109"
            ],
            "text/html": [
              "<pre>recommendations finished on 4000/6716 queries. users per second: 24109</pre>"
            ]
          },
          "metadata": {}
        },
        {
          "output_type": "display_data",
          "data": {
            "text/plain": [
              "recommendations finished on 5000/6716 queries. users per second: 24579.7"
            ],
            "text/html": [
              "<pre>recommendations finished on 5000/6716 queries. users per second: 24579.7</pre>"
            ]
          },
          "metadata": {}
        },
        {
          "output_type": "display_data",
          "data": {
            "text/plain": [
              "recommendations finished on 6000/6716 queries. users per second: 24499.6"
            ],
            "text/html": [
              "<pre>recommendations finished on 6000/6716 queries. users per second: 24499.6</pre>"
            ]
          },
          "metadata": {}
        },
        {
          "output_type": "stream",
          "name": "stdout",
          "text": [
            "\n",
            "Precision and recall summary statistics by cutoff\n",
            "+--------+---------------------+----------------------+\n",
            "| cutoff |    mean_precision   |     mean_recall      |\n",
            "+--------+---------------------+----------------------+\n",
            "|   1    | 0.12418106015485408 | 0.040502426301137436 |\n",
            "|   2    | 0.10385646217986891 | 0.06525223377557014  |\n",
            "|   3    | 0.09087750645225329 | 0.08191255776333459  |\n",
            "|   4    | 0.08208010720667071 | 0.09829640845237307  |\n",
            "|   5    | 0.07516378796902883 |  0.1111740971948348  |\n",
            "|   6    | 0.06978360135000992 |  0.1223304377250148  |\n",
            "|   7    | 0.06551518761167373 | 0.13414124107105715  |\n",
            "|   8    | 0.06218359142346643 |  0.1442623129883841  |\n",
            "|   9    | 0.05889749189332265 | 0.15327777085719765  |\n",
            "|   10   |  0.0563132817153069 | 0.16270715047979437  |\n",
            "+--------+---------------------+----------------------+\n",
            "[10 rows x 3 columns]\n",
            "\n",
            "\n",
            "Overall RMSE: 37.17832309473385\n",
            "\n",
            "Per User RMSE (best)\n",
            "+-------------------------------+----------------------+-------+\n",
            "|          reseller_id          |         rmse         | count |\n",
            "+-------------------------------+----------------------+-------+\n",
            "| 27d6da82-86ac-486a-98a3-59... | 0.008360054797481255 |   2   |\n",
            "+-------------------------------+----------------------+-------+\n",
            "[1 rows x 3 columns]\n",
            "\n",
            "\n",
            "Per User RMSE (worst)\n",
            "+-------------------------------+-------------------+-------+\n",
            "|          reseller_id          |        rmse       | count |\n",
            "+-------------------------------+-------------------+-------+\n",
            "| 147417fb-836f-4a16-a5f7-1f... | 1574.994026632309 |   1   |\n",
            "+-------------------------------+-------------------+-------+\n",
            "[1 rows x 3 columns]\n",
            "\n",
            "\n",
            "Per Item RMSE (best)\n",
            "+--------+---------------------+-------+\n",
            "|  sku   |         rmse        | count |\n",
            "+--------+---------------------+-------+\n",
            "| PNM014 | 0.05275874871474051 |   2   |\n",
            "+--------+---------------------+-------+\n",
            "[1 rows x 3 columns]\n",
            "\n",
            "\n",
            "Per Item RMSE (worst)\n",
            "+---------+-------+-------+\n",
            "|   sku   |  rmse | count |\n",
            "+---------+-------+-------+\n",
            "| BEAU008 | 240.0 |   1   |\n",
            "+---------+-------+-------+\n",
            "[1 rows x 3 columns]\n",
            "\n"
          ]
        },
        {
          "output_type": "execute_result",
          "data": {
            "text/plain": [
              "{'precision_recall_by_user': Columns:\n",
              " \treseller_id\tstr\n",
              " \tcutoff\tint\n",
              " \tprecision\tfloat\n",
              " \trecall\tfloat\n",
              " \tcount\tint\n",
              " \n",
              " Rows: 120888\n",
              " \n",
              " Data:\n",
              " +-------------------------------+--------+---------------------+\n",
              " |          reseller_id          | cutoff |      precision      |\n",
              " +-------------------------------+--------+---------------------+\n",
              " | 84e48995-14b7-4c97-baed-72... |   1    |         0.0         |\n",
              " | 84e48995-14b7-4c97-baed-72... |   2    |         0.5         |\n",
              " | 84e48995-14b7-4c97-baed-72... |   3    |  0.3333333333333333 |\n",
              " | 84e48995-14b7-4c97-baed-72... |   4    |         0.25        |\n",
              " | 84e48995-14b7-4c97-baed-72... |   5    |         0.2         |\n",
              " | 84e48995-14b7-4c97-baed-72... |   6    | 0.16666666666666666 |\n",
              " | 84e48995-14b7-4c97-baed-72... |   7    | 0.14285714285714285 |\n",
              " | 84e48995-14b7-4c97-baed-72... |   8    |        0.125        |\n",
              " | 84e48995-14b7-4c97-baed-72... |   9    |  0.1111111111111111 |\n",
              " | 84e48995-14b7-4c97-baed-72... |   10   |         0.1         |\n",
              " +-------------------------------+--------+---------------------+\n",
              " +----------------------+-------+\n",
              " |        recall        | count |\n",
              " +----------------------+-------+\n",
              " |         0.0          |   90  |\n",
              " | 0.011111111111111112 |   90  |\n",
              " | 0.011111111111111112 |   90  |\n",
              " | 0.011111111111111112 |   90  |\n",
              " | 0.011111111111111112 |   90  |\n",
              " | 0.011111111111111112 |   90  |\n",
              " | 0.011111111111111112 |   90  |\n",
              " | 0.011111111111111112 |   90  |\n",
              " | 0.011111111111111112 |   90  |\n",
              " | 0.011111111111111112 |   90  |\n",
              " +----------------------+-------+\n",
              " [120888 rows x 5 columns]\n",
              " Note: Only the head of the SFrame is printed.\n",
              " You can use print_rows(num_rows=m, num_columns=n) to print more rows and columns.,\n",
              " 'precision_recall_overall': Columns:\n",
              " \tcutoff\tint\n",
              " \tprecision\tfloat\n",
              " \trecall\tfloat\n",
              " \n",
              " Rows: 18\n",
              " \n",
              " Data:\n",
              " +--------+---------------------+----------------------+\n",
              " | cutoff |      precision      |        recall        |\n",
              " +--------+---------------------+----------------------+\n",
              " |   1    | 0.12418106015485432 | 0.040502426301137415 |\n",
              " |   2    | 0.10385646217986903 |  0.0652522337755703  |\n",
              " |   3    | 0.09087750645225319 | 0.08191255776333466  |\n",
              " |   4    | 0.08208010720667072 | 0.09829640845237293  |\n",
              " |   5    | 0.07516378796902891 |  0.1111740971948348  |\n",
              " |   6    |  0.0697836013500098 | 0.12233043772501487  |\n",
              " |   7    |  0.0655151876116738 | 0.13414124107105682  |\n",
              " |   8    |  0.0621835914234664 |  0.1442623129883842  |\n",
              " |   9    | 0.05889749189332264 | 0.15327777085719735  |\n",
              " |   10   | 0.05631328171530682 | 0.16270715047979425  |\n",
              " +--------+---------------------+----------------------+\n",
              " [18 rows x 3 columns]\n",
              " Note: Only the head of the SFrame is printed.\n",
              " You can use print_rows(num_rows=m, num_columns=n) to print more rows and columns.,\n",
              " 'rmse_by_user': Columns:\n",
              " \treseller_id\tstr\n",
              " \trmse\tfloat\n",
              " \tcount\tint\n",
              " \n",
              " Rows: 6716\n",
              " \n",
              " Data:\n",
              " +-------------------------------+---------------------+-------+\n",
              " |          reseller_id          |         rmse        | count |\n",
              " +-------------------------------+---------------------+-------+\n",
              " | cff4fc74-e38f-4186-af1f-e8... |  3.4567933420777903 |   9   |\n",
              " | 829a0715-9b46-4915-87c2-8b... |  1.064493362013479  |   38  |\n",
              " | 7d06c679-4cb1-494f-948d-3b... |         1.0         |   1   |\n",
              " | 86260af4-9ec9-4a28-8f85-10... |  0.3041244447231293 |   1   |\n",
              " | 9ddb30b2-59d1-4766-8162-af... |         1.0         |   1   |\n",
              " | 252c8ee7-0ea9-4378-80dc-4b... | 0.39648083183500504 |   1   |\n",
              " | 7d3bbec1-d7f3-4ea8-8eb4-aa... |  1.4709896879260798 |   5   |\n",
              " | 5c8ba23f-2314-420b-98c2-9f... |  0.9040942894749202 |   4   |\n",
              " | f25f614b-8220-4eec-a579-82... |  0.8965357542037964 |   1   |\n",
              " | d0dbb25d-5b9f-47ee-999e-48... |  1.3974239469756686 |   36  |\n",
              " +-------------------------------+---------------------+-------+\n",
              " [6716 rows x 3 columns]\n",
              " Note: Only the head of the SFrame is printed.\n",
              " You can use print_rows(num_rows=m, num_columns=n) to print more rows and columns.,\n",
              " 'rmse_by_item': Columns:\n",
              " \tsku\tstr\n",
              " \trmse\tfloat\n",
              " \tcount\tint\n",
              " \n",
              " Rows: 2379\n",
              " \n",
              " Data:\n",
              " +--------+--------------------+-------+\n",
              " |  sku   |        rmse        | count |\n",
              " +--------+--------------------+-------+\n",
              " | SHM078 | 1.1906406171905968 |   5   |\n",
              " | BRS024 | 27.585058714229866 |   21  |\n",
              " | DMB001 | 1.3731935135284041 |   5   |\n",
              " | HAN053 | 6.652339852042503  |   59  |\n",
              " | AZR009 | 13.839992811762835 |   69  |\n",
              " | KAF005 | 7.6203659342654655 |   59  |\n",
              " | SIT009 | 25.519361509814008 |   80  |\n",
              " | SAN028 | 7.8596026494827385 |   17  |\n",
              " | WGO026 | 3.546198805257611  |   3   |\n",
              " | EMI021 | 17.579073160468468 |   8   |\n",
              " +--------+--------------------+-------+\n",
              " [2379 rows x 3 columns]\n",
              " Note: Only the head of the SFrame is printed.\n",
              " You can use print_rows(num_rows=m, num_columns=n) to print more rows and columns.,\n",
              " 'rmse_overall': 37.17832309473385}"
            ]
          },
          "metadata": {},
          "execution_count": 40
        }
      ]
    },
    {
      "cell_type": "code",
      "source": [
        "# collaborative model data -> reseller_id | sku | purchase_dummy\n",
        "cosine_dummy.evaluate(test_data_dummy)\n",
        "#'rmse_overall': 0.9010301150681002}"
      ],
      "metadata": {
        "colab": {
          "base_uri": "https://localhost:8080/",
          "height": 1000
        },
        "id": "2zYGXfwxkpjI",
        "outputId": "1e9e3d28-fd45-4107-f80d-eb041a54c066"
      },
      "execution_count": null,
      "outputs": [
        {
          "output_type": "display_data",
          "data": {
            "text/plain": [
              "recommendations finished on 1000/6733 queries. users per second: 25427.2"
            ],
            "text/html": [
              "<pre>recommendations finished on 1000/6733 queries. users per second: 25427.2</pre>"
            ]
          },
          "metadata": {}
        },
        {
          "output_type": "display_data",
          "data": {
            "text/plain": [
              "recommendations finished on 2000/6733 queries. users per second: 26070.2"
            ],
            "text/html": [
              "<pre>recommendations finished on 2000/6733 queries. users per second: 26070.2</pre>"
            ]
          },
          "metadata": {}
        },
        {
          "output_type": "display_data",
          "data": {
            "text/plain": [
              "recommendations finished on 3000/6733 queries. users per second: 26218"
            ],
            "text/html": [
              "<pre>recommendations finished on 3000/6733 queries. users per second: 26218</pre>"
            ]
          },
          "metadata": {}
        },
        {
          "output_type": "display_data",
          "data": {
            "text/plain": [
              "recommendations finished on 4000/6733 queries. users per second: 25764.9"
            ],
            "text/html": [
              "<pre>recommendations finished on 4000/6733 queries. users per second: 25764.9</pre>"
            ]
          },
          "metadata": {}
        },
        {
          "output_type": "display_data",
          "data": {
            "text/plain": [
              "recommendations finished on 5000/6733 queries. users per second: 25391.4"
            ],
            "text/html": [
              "<pre>recommendations finished on 5000/6733 queries. users per second: 25391.4</pre>"
            ]
          },
          "metadata": {}
        },
        {
          "output_type": "display_data",
          "data": {
            "text/plain": [
              "recommendations finished on 6000/6733 queries. users per second: 25256.1"
            ],
            "text/html": [
              "<pre>recommendations finished on 6000/6733 queries. users per second: 25256.1</pre>"
            ]
          },
          "metadata": {}
        },
        {
          "output_type": "stream",
          "name": "stdout",
          "text": [
            "\n",
            "Precision and recall summary statistics by cutoff\n",
            "+--------+---------------------+---------------------+\n",
            "| cutoff |    mean_precision   |     mean_recall     |\n",
            "+--------+---------------------+---------------------+\n",
            "|   1    |  0.1500074261102033 | 0.05707599450383106 |\n",
            "|   2    | 0.12163968513292746 | 0.08489609117310798 |\n",
            "|   3    |  0.1071340165354722 | 0.10706150602155957 |\n",
            "|   4    | 0.09624238823704151 |  0.1251889106470093 |\n",
            "|   5    |  0.0895885934947274 | 0.14118926615406074 |\n",
            "|   6    | 0.08408832120401995 | 0.15586877476751856 |\n",
            "|   7    |  0.0789713776495301 |  0.1680894543231004 |\n",
            "|   8    | 0.07418684093271942 | 0.17851751372781158 |\n",
            "|   9    | 0.07063055926861063 |  0.1884186022899847 |\n",
            "|   10   | 0.06701321847616228 | 0.19616359248711487 |\n",
            "+--------+---------------------+---------------------+\n",
            "[10 rows x 3 columns]\n",
            "\n",
            "\n",
            "Overall RMSE: 0.8997285588226326\n",
            "\n",
            "Per User RMSE (best)\n",
            "+-------------------------------+--------------------+-------+\n",
            "|          reseller_id          |        rmse        | count |\n",
            "+-------------------------------+--------------------+-------+\n",
            "| 24b8933d-e7ba-4c00-9930-17... | 0.1965692639350891 |   1   |\n",
            "+-------------------------------+--------------------+-------+\n",
            "[1 rows x 3 columns]\n",
            "\n",
            "\n",
            "Per User RMSE (worst)\n",
            "+-------------------------------+------+-------+\n",
            "|          reseller_id          | rmse | count |\n",
            "+-------------------------------+------+-------+\n",
            "| f25f614b-8220-4eec-a579-82... | 1.0  |   4   |\n",
            "+-------------------------------+------+-------+\n",
            "[1 rows x 3 columns]\n",
            "\n",
            "\n",
            "Per Item RMSE (best)\n",
            "+--------+--------------------+-------+\n",
            "|  sku   |        rmse        | count |\n",
            "+--------+--------------------+-------+\n",
            "| PNM004 | 0.5882150427723138 |   5   |\n",
            "+--------+--------------------+-------+\n",
            "[1 rows x 3 columns]\n",
            "\n",
            "\n",
            "Per Item RMSE (worst)\n",
            "+--------+------+-------+\n",
            "|  sku   | rmse | count |\n",
            "+--------+------+-------+\n",
            "| WGO026 | 1.0  |   1   |\n",
            "+--------+------+-------+\n",
            "[1 rows x 3 columns]\n",
            "\n"
          ]
        },
        {
          "output_type": "execute_result",
          "data": {
            "text/plain": [
              "{'precision_recall_by_user': Columns:\n",
              " \treseller_id\tstr\n",
              " \tcutoff\tint\n",
              " \tprecision\tfloat\n",
              " \trecall\tfloat\n",
              " \tcount\tint\n",
              " \n",
              " Rows: 121194\n",
              " \n",
              " Data:\n",
              " +-------------------------------+--------+---------------------+\n",
              " |          reseller_id          | cutoff |      precision      |\n",
              " +-------------------------------+--------+---------------------+\n",
              " | 479e41b8-9085-48b3-9c83-69... |   1    |         0.0         |\n",
              " | 479e41b8-9085-48b3-9c83-69... |   2    |         0.0         |\n",
              " | 479e41b8-9085-48b3-9c83-69... |   3    |         0.0         |\n",
              " | 479e41b8-9085-48b3-9c83-69... |   4    |         0.25        |\n",
              " | 479e41b8-9085-48b3-9c83-69... |   5    |         0.2         |\n",
              " | 479e41b8-9085-48b3-9c83-69... |   6    | 0.16666666666666666 |\n",
              " | 479e41b8-9085-48b3-9c83-69... |   7    | 0.14285714285714285 |\n",
              " | 479e41b8-9085-48b3-9c83-69... |   8    |         0.25        |\n",
              " | 479e41b8-9085-48b3-9c83-69... |   9    |  0.2222222222222222 |\n",
              " | 479e41b8-9085-48b3-9c83-69... |   10   |         0.2         |\n",
              " +-------------------------------+--------+---------------------+\n",
              " +-----------------------+-------+\n",
              " |         recall        | count |\n",
              " +-----------------------+-------+\n",
              " |          0.0          |  538  |\n",
              " |          0.0          |  538  |\n",
              " |          0.0          |  538  |\n",
              " | 0.0018587360594795538 |  538  |\n",
              " | 0.0018587360594795538 |  538  |\n",
              " | 0.0018587360594795538 |  538  |\n",
              " | 0.0018587360594795538 |  538  |\n",
              " | 0.0037174721189591076 |  538  |\n",
              " | 0.0037174721189591076 |  538  |\n",
              " | 0.0037174721189591076 |  538  |\n",
              " +-----------------------+-------+\n",
              " [121194 rows x 5 columns]\n",
              " Note: Only the head of the SFrame is printed.\n",
              " You can use print_rows(num_rows=m, num_columns=n) to print more rows and columns.,\n",
              " 'precision_recall_overall': Columns:\n",
              " \tcutoff\tint\n",
              " \tprecision\tfloat\n",
              " \trecall\tfloat\n",
              " \n",
              " Rows: 18\n",
              " \n",
              " Data:\n",
              " +--------+---------------------+----------------------+\n",
              " | cutoff |      precision      |        recall        |\n",
              " +--------+---------------------+----------------------+\n",
              " |   1    |  0.1500074261102038 | 0.057075994503831044 |\n",
              " |   2    | 0.12163968513292733 | 0.08489609117310801  |\n",
              " |   3    | 0.10713401653547204 |  0.1070615060215596  |\n",
              " |   4    | 0.09624238823704138 | 0.12518891064700918  |\n",
              " |   5    | 0.08958859349472753 | 0.14118926615406044  |\n",
              " |   6    |  0.0840883212040199 | 0.15586877476751834  |\n",
              " |   7    | 0.07897137764953009 |  0.1680894543231009  |\n",
              " |   8    | 0.07418684093271949 | 0.17851751372781188  |\n",
              " |   9    | 0.07063055926861071 | 0.18841860228998472  |\n",
              " |   10   | 0.06701321847616216 | 0.19616359248711512  |\n",
              " +--------+---------------------+----------------------+\n",
              " [18 rows x 3 columns]\n",
              " Note: Only the head of the SFrame is printed.\n",
              " You can use print_rows(num_rows=m, num_columns=n) to print more rows and columns.,\n",
              " 'rmse_by_user': Columns:\n",
              " \treseller_id\tstr\n",
              " \trmse\tfloat\n",
              " \tcount\tint\n",
              " \n",
              " Rows: 6733\n",
              " \n",
              " Data:\n",
              " +-------------------------------+--------------------+-------+\n",
              " |          reseller_id          |        rmse        | count |\n",
              " +-------------------------------+--------------------+-------+\n",
              " | cff4fc74-e38f-4186-af1f-e8... | 0.9698209394537483 |   13  |\n",
              " | 829a0715-9b46-4915-87c2-8b... | 0.5802645766083221 |   32  |\n",
              " | 9ddb30b2-59d1-4766-8162-af... | 0.9554106326621931 |   2   |\n",
              " | 252c8ee7-0ea9-4378-80dc-4b... | 0.511069714235808  |   2   |\n",
              " | 7d3bbec1-d7f3-4ea8-8eb4-aa... | 0.9545766277746721 |   1   |\n",
              " | 5c8ba23f-2314-420b-98c2-9f... | 0.8927303242135244 |   3   |\n",
              " | 941ad11f-7f8a-4d5e-8de4-17... | 0.1965692639350891 |   1   |\n",
              " | f25f614b-8220-4eec-a579-82... |        1.0         |   4   |\n",
              " | e51ba21a-6fb2-49f6-a9ea-3a... |        1.0         |   1   |\n",
              " | b2ff13cc-d8ba-4e6f-92bf-95... | 0.644722580909729  |   1   |\n",
              " +-------------------------------+--------------------+-------+\n",
              " [6733 rows x 3 columns]\n",
              " Note: Only the head of the SFrame is printed.\n",
              " You can use print_rows(num_rows=m, num_columns=n) to print more rows and columns.,\n",
              " 'rmse_by_item': Columns:\n",
              " \tsku\tstr\n",
              " \trmse\tfloat\n",
              " \tcount\tint\n",
              " \n",
              " Rows: 2356\n",
              " \n",
              " Data:\n",
              " +--------+--------------------+-------+\n",
              " |  sku   |        rmse        | count |\n",
              " +--------+--------------------+-------+\n",
              " | SHM078 | 0.997452397500315  |   1   |\n",
              " | BRS024 | 0.9528609096571135 |   16  |\n",
              " | DMB001 | 0.9960969492929166 |   5   |\n",
              " | HAN053 | 0.9657296176448089 |   47  |\n",
              " | AZR009 | 0.9826170018125893 |   63  |\n",
              " | KAF005 | 0.9721278720598977 |   66  |\n",
              " | SIT009 | 0.9568948838975191 |   86  |\n",
              " | SAN028 | 0.9749089687952406 |   12  |\n",
              " | WGO026 |        1.0         |   1   |\n",
              " | EMI021 | 0.9964610172858899 |   2   |\n",
              " +--------+--------------------+-------+\n",
              " [2356 rows x 3 columns]\n",
              " Note: Only the head of the SFrame is printed.\n",
              " You can use print_rows(num_rows=m, num_columns=n) to print more rows and columns.,\n",
              " 'rmse_overall': 0.8997285588226326}"
            ]
          },
          "metadata": {},
          "execution_count": 41
        }
      ]
    },
    {
      "cell_type": "code",
      "source": [
        "# collaborative model data -> reseller_id | sku | scaled_purchase_freq\n",
        "cos_norm.evaluate(test_data_norm)\n",
        "#'rmse_overall': 0.16886549309264662}"
      ],
      "metadata": {
        "colab": {
          "base_uri": "https://localhost:8080/",
          "height": 1000
        },
        "id": "0hX430Q8k-4f",
        "outputId": "e54e26c5-d006-4656-f003-5d1cbda74bbe"
      },
      "execution_count": null,
      "outputs": [
        {
          "output_type": "display_data",
          "data": {
            "text/plain": [
              "recommendations finished on 1000/6433 queries. users per second: 28359.1"
            ],
            "text/html": [
              "<pre>recommendations finished on 1000/6433 queries. users per second: 28359.1</pre>"
            ]
          },
          "metadata": {}
        },
        {
          "output_type": "display_data",
          "data": {
            "text/plain": [
              "recommendations finished on 2000/6433 queries. users per second: 23760.6"
            ],
            "text/html": [
              "<pre>recommendations finished on 2000/6433 queries. users per second: 23760.6</pre>"
            ]
          },
          "metadata": {}
        },
        {
          "output_type": "display_data",
          "data": {
            "text/plain": [
              "recommendations finished on 3000/6433 queries. users per second: 24566.6"
            ],
            "text/html": [
              "<pre>recommendations finished on 3000/6433 queries. users per second: 24566.6</pre>"
            ]
          },
          "metadata": {}
        },
        {
          "output_type": "display_data",
          "data": {
            "text/plain": [
              "recommendations finished on 4000/6433 queries. users per second: 24817.7"
            ],
            "text/html": [
              "<pre>recommendations finished on 4000/6433 queries. users per second: 24817.7</pre>"
            ]
          },
          "metadata": {}
        },
        {
          "output_type": "display_data",
          "data": {
            "text/plain": [
              "recommendations finished on 5000/6433 queries. users per second: 23848.5"
            ],
            "text/html": [
              "<pre>recommendations finished on 5000/6433 queries. users per second: 23848.5</pre>"
            ]
          },
          "metadata": {}
        },
        {
          "output_type": "display_data",
          "data": {
            "text/plain": [
              "recommendations finished on 6000/6433 queries. users per second: 23430.5"
            ],
            "text/html": [
              "<pre>recommendations finished on 6000/6433 queries. users per second: 23430.5</pre>"
            ]
          },
          "metadata": {}
        },
        {
          "output_type": "stream",
          "name": "stdout",
          "text": [
            "\n",
            "Precision and recall summary statistics by cutoff\n",
            "+--------+----------------------+----------------------+\n",
            "| cutoff |    mean_precision    |     mean_recall      |\n",
            "+--------+----------------------+----------------------+\n",
            "|   1    | 0.10275143789833692  | 0.025676986430894205 |\n",
            "|   2    | 0.08829473029690661  |  0.0438568587462968  |\n",
            "|   3    | 0.08000414529250209  | 0.058349450843397474 |\n",
            "|   4    |  0.0719726410694855  | 0.06835092831002752  |\n",
            "|   5    | 0.06671848282294386  |  0.077203909385549   |\n",
            "|   6    | 0.06197212290792283  | 0.08472556683522998  |\n",
            "|   7    | 0.05796007195043438  | 0.09092490508655247  |\n",
            "|   8    | 0.054795585263485054 | 0.09847870688285264  |\n",
            "|   9    | 0.051712523964972244 | 0.10462766165699146  |\n",
            "|   10   | 0.04909062645732923  | 0.11085455241630808  |\n",
            "+--------+----------------------+----------------------+\n",
            "[10 rows x 3 columns]\n",
            "\n",
            "\n",
            "Overall RMSE: 0.16610955947241873\n",
            "\n",
            "Per User RMSE (best)\n",
            "+-------------------------------+------+-------+\n",
            "|          reseller_id          | rmse | count |\n",
            "+-------------------------------+------+-------+\n",
            "| 19403318-98d1-42be-93eb-e6... | 0.0  |   1   |\n",
            "+-------------------------------+------+-------+\n",
            "[1 rows x 3 columns]\n",
            "\n",
            "\n",
            "Per User RMSE (worst)\n",
            "+-------------------------------+------+-------+\n",
            "|          reseller_id          | rmse | count |\n",
            "+-------------------------------+------+-------+\n",
            "| 84994b2b-9b16-4dbe-b220-b5... | 1.0  |   1   |\n",
            "+-------------------------------+------+-------+\n",
            "[1 rows x 3 columns]\n",
            "\n",
            "\n",
            "Per Item RMSE (best)\n",
            "+--------+------+-------+\n",
            "|  sku   | rmse | count |\n",
            "+--------+------+-------+\n",
            "| YLC020 | 0.0  |   1   |\n",
            "+--------+------+-------+\n",
            "[1 rows x 3 columns]\n",
            "\n",
            "\n",
            "Per Item RMSE (worst)\n",
            "+--------+------+-------+\n",
            "|  sku   | rmse | count |\n",
            "+--------+------+-------+\n",
            "| LOO002 | 1.0  |   1   |\n",
            "+--------+------+-------+\n",
            "[1 rows x 3 columns]\n",
            "\n"
          ]
        },
        {
          "output_type": "execute_result",
          "data": {
            "text/plain": [
              "{'precision_recall_by_user': Columns:\n",
              " \treseller_id\tstr\n",
              " \tcutoff\tint\n",
              " \tprecision\tfloat\n",
              " \trecall\tfloat\n",
              " \tcount\tint\n",
              " \n",
              " Rows: 115794\n",
              " \n",
              " Data:\n",
              " +-------------------------------+--------+---------------------+\n",
              " |          reseller_id          | cutoff |      precision      |\n",
              " +-------------------------------+--------+---------------------+\n",
              " | 22b94b37-3c1b-4462-bbae-cc... |   1    |         1.0         |\n",
              " | 22b94b37-3c1b-4462-bbae-cc... |   2    |         0.5         |\n",
              " | 22b94b37-3c1b-4462-bbae-cc... |   3    |  0.3333333333333333 |\n",
              " | 22b94b37-3c1b-4462-bbae-cc... |   4    |         0.5         |\n",
              " | 22b94b37-3c1b-4462-bbae-cc... |   5    |         0.4         |\n",
              " | 22b94b37-3c1b-4462-bbae-cc... |   6    |         0.5         |\n",
              " | 22b94b37-3c1b-4462-bbae-cc... |   7    | 0.42857142857142855 |\n",
              " | 22b94b37-3c1b-4462-bbae-cc... |   8    |        0.375        |\n",
              " | 22b94b37-3c1b-4462-bbae-cc... |   9    |  0.3333333333333333 |\n",
              " | 22b94b37-3c1b-4462-bbae-cc... |   10   |         0.4         |\n",
              " +-------------------------------+--------+---------------------+\n",
              " +---------------------+-------+\n",
              " |        recall       | count |\n",
              " +---------------------+-------+\n",
              " | 0.14285714285714285 |   7   |\n",
              " | 0.14285714285714285 |   7   |\n",
              " | 0.14285714285714285 |   7   |\n",
              " |  0.2857142857142857 |   7   |\n",
              " |  0.2857142857142857 |   7   |\n",
              " | 0.42857142857142855 |   7   |\n",
              " | 0.42857142857142855 |   7   |\n",
              " | 0.42857142857142855 |   7   |\n",
              " | 0.42857142857142855 |   7   |\n",
              " |  0.5714285714285714 |   7   |\n",
              " +---------------------+-------+\n",
              " [115794 rows x 5 columns]\n",
              " Note: Only the head of the SFrame is printed.\n",
              " You can use print_rows(num_rows=m, num_columns=n) to print more rows and columns.,\n",
              " 'precision_recall_overall': Columns:\n",
              " \tcutoff\tint\n",
              " \tprecision\tfloat\n",
              " \trecall\tfloat\n",
              " \n",
              " Rows: 18\n",
              " \n",
              " Data:\n",
              " +--------+----------------------+---------------------+\n",
              " | cutoff |      precision       |        recall       |\n",
              " +--------+----------------------+---------------------+\n",
              " |   1    | 0.10275143789833673  | 0.02567698643089422 |\n",
              " |   2    | 0.08829473029690663  | 0.04385685874629687 |\n",
              " |   3    | 0.08000414529250191  | 0.05834945084339751 |\n",
              " |   4    | 0.07197264106948541  |  0.0683509283100275 |\n",
              " |   5    | 0.06671848282294406  |  0.0772039093855491 |\n",
              " |   6    | 0.06197212290792283  | 0.08472556683523023 |\n",
              " |   7    | 0.057960071950434344 | 0.09092490508655265 |\n",
              " |   8    | 0.05479558526348516  | 0.09847870688285261 |\n",
              " |   9    | 0.05171252396497221  | 0.10462766165699124 |\n",
              " |   10   | 0.049090626457329416 | 0.11085455241630801 |\n",
              " +--------+----------------------+---------------------+\n",
              " [18 rows x 3 columns]\n",
              " Note: Only the head of the SFrame is printed.\n",
              " You can use print_rows(num_rows=m, num_columns=n) to print more rows and columns.,\n",
              " 'rmse_by_user': Columns:\n",
              " \treseller_id\tstr\n",
              " \trmse\tfloat\n",
              " \tcount\tint\n",
              " \n",
              " Rows: 6433\n",
              " \n",
              " Data:\n",
              " +-------------------------------+------------------------+-------+\n",
              " |          reseller_id          |          rmse          | count |\n",
              " +-------------------------------+------------------------+-------+\n",
              " | cff4fc74-e38f-4186-af1f-e8... |    0.30925074322352    |   7   |\n",
              " | 829a0715-9b46-4915-87c2-8b... | 0.0012236611232680347  |   6   |\n",
              " | 86260af4-9ec9-4a28-8f85-10... |          0.0           |   1   |\n",
              " | 9ddb30b2-59d1-4766-8162-af... |          0.0           |   1   |\n",
              " | 252c8ee7-0ea9-4378-80dc-4b... |          0.0           |   1   |\n",
              " | 7d3bbec1-d7f3-4ea8-8eb4-aa... | 0.00014064908027648925 |   1   |\n",
              " | 5c8ba23f-2314-420b-98c2-9f... |          0.0           |   2   |\n",
              " | 941ad11f-7f8a-4d5e-8de4-17... |          0.0           |   1   |\n",
              " | f25f614b-8220-4eec-a579-82... |  0.014077559113502502  |   1   |\n",
              " | a702d790-30e4-464d-bc39-ab... |          0.0           |   1   |\n",
              " +-------------------------------+------------------------+-------+\n",
              " [6433 rows x 3 columns]\n",
              " Note: Only the head of the SFrame is printed.\n",
              " You can use print_rows(num_rows=m, num_columns=n) to print more rows and columns.,\n",
              " 'rmse_by_item': Columns:\n",
              " \tsku\tstr\n",
              " \trmse\tfloat\n",
              " \tcount\tint\n",
              " \n",
              " Rows: 2139\n",
              " \n",
              " Data:\n",
              " +--------+---------------------+-------+\n",
              " |  sku   |         rmse        | count |\n",
              " +--------+---------------------+-------+\n",
              " | BRS024 | 0.04355104192943886 |   14  |\n",
              " | DMB001 | 0.35479274055805354 |   8   |\n",
              " | HAN053 | 0.17390251963778952 |   33  |\n",
              " | AZR009 | 0.08348513566417728 |   52  |\n",
              " | KAF005 | 0.06605482451414235 |   45  |\n",
              " | SIT009 | 0.03316477021118427 |   33  |\n",
              " | SAN028 |  0.2879481237918377 |   14  |\n",
              " | WGO026 |  0.2336800727955516 |   2   |\n",
              " | EMI021 |  0.0973230099085178 |   13  |\n",
              " | TRV018 | 0.23693198941691865 |   18  |\n",
              " +--------+---------------------+-------+\n",
              " [2139 rows x 3 columns]\n",
              " Note: Only the head of the SFrame is printed.\n",
              " You can use print_rows(num_rows=m, num_columns=n) to print more rows and columns.,\n",
              " 'rmse_overall': 0.16610955947241873}"
            ]
          },
          "metadata": {},
          "execution_count": 42
        }
      ]
    },
    {
      "cell_type": "markdown",
      "source": [
        "#### Pearson Similarity Evaluation"
      ],
      "metadata": {
        "id": "hBCeIZ4xv33R"
      }
    },
    {
      "cell_type": "code",
      "source": [
        "# collaborative model data -> reseller_id | sku | quantity\n",
        "pearson.evaluate(test_data)\n",
        "#'rmse_overall': 32.56095286526665}"
      ],
      "metadata": {
        "colab": {
          "base_uri": "https://localhost:8080/",
          "height": 1000
        },
        "id": "VhUAqTf4sXwT",
        "outputId": "bfa55e5f-82ef-440d-d55f-93eb7dbfa02a"
      },
      "execution_count": null,
      "outputs": [
        {
          "output_type": "display_data",
          "data": {
            "text/plain": [
              "recommendations finished on 1000/6689 queries. users per second: 14462.4"
            ],
            "text/html": [
              "<pre>recommendations finished on 1000/6689 queries. users per second: 14462.4</pre>"
            ]
          },
          "metadata": {}
        },
        {
          "output_type": "display_data",
          "data": {
            "text/plain": [
              "recommendations finished on 2000/6689 queries. users per second: 14466.7"
            ],
            "text/html": [
              "<pre>recommendations finished on 2000/6689 queries. users per second: 14466.7</pre>"
            ]
          },
          "metadata": {}
        },
        {
          "output_type": "display_data",
          "data": {
            "text/plain": [
              "recommendations finished on 3000/6689 queries. users per second: 13853"
            ],
            "text/html": [
              "<pre>recommendations finished on 3000/6689 queries. users per second: 13853</pre>"
            ]
          },
          "metadata": {}
        },
        {
          "output_type": "display_data",
          "data": {
            "text/plain": [
              "recommendations finished on 4000/6689 queries. users per second: 13664.9"
            ],
            "text/html": [
              "<pre>recommendations finished on 4000/6689 queries. users per second: 13664.9</pre>"
            ]
          },
          "metadata": {}
        },
        {
          "output_type": "display_data",
          "data": {
            "text/plain": [
              "recommendations finished on 5000/6689 queries. users per second: 13704.8"
            ],
            "text/html": [
              "<pre>recommendations finished on 5000/6689 queries. users per second: 13704.8</pre>"
            ]
          },
          "metadata": {}
        },
        {
          "output_type": "display_data",
          "data": {
            "text/plain": [
              "recommendations finished on 6000/6689 queries. users per second: 13719.1"
            ],
            "text/html": [
              "<pre>recommendations finished on 6000/6689 queries. users per second: 13719.1</pre>"
            ]
          },
          "metadata": {}
        },
        {
          "output_type": "stream",
          "name": "stdout",
          "text": [
            "\n",
            "Precision and recall summary statistics by cutoff\n",
            "+--------+----------------+-------------+\n",
            "| cutoff | mean_precision | mean_recall |\n",
            "+--------+----------------+-------------+\n",
            "|   1    |      0.0       |     0.0     |\n",
            "|   2    |      0.0       |     0.0     |\n",
            "|   3    |      0.0       |     0.0     |\n",
            "|   4    |      0.0       |     0.0     |\n",
            "|   5    |      0.0       |     0.0     |\n",
            "|   6    |      0.0       |     0.0     |\n",
            "|   7    |      0.0       |     0.0     |\n",
            "|   8    |      0.0       |     0.0     |\n",
            "|   9    |      0.0       |     0.0     |\n",
            "|   10   |      0.0       |     0.0     |\n",
            "+--------+----------------+-------------+\n",
            "[10 rows x 3 columns]\n",
            "\n",
            "\n",
            "Overall RMSE: 32.56095286526665\n",
            "\n",
            "Per User RMSE (best)\n",
            "+-------------------------------+------+-------+\n",
            "|          reseller_id          | rmse | count |\n",
            "+-------------------------------+------+-------+\n",
            "| c9634ec8-03b0-4808-8269-09... | 0.0  |   1   |\n",
            "+-------------------------------+------+-------+\n",
            "[1 rows x 3 columns]\n",
            "\n",
            "\n",
            "Per User RMSE (worst)\n",
            "+-------------------------------+--------------------+-------+\n",
            "|          reseller_id          |        rmse        | count |\n",
            "+-------------------------------+--------------------+-------+\n",
            "| 147417fb-836f-4a16-a5f7-1f... | 1537.4002991993216 |   1   |\n",
            "+-------------------------------+--------------------+-------+\n",
            "[1 rows x 3 columns]\n",
            "\n",
            "\n",
            "Per Item RMSE (best)\n",
            "+--------+------+-------+\n",
            "|  sku   | rmse | count |\n",
            "+--------+------+-------+\n",
            "| MSU015 | 0.0  |   2   |\n",
            "+--------+------+-------+\n",
            "[1 rows x 3 columns]\n",
            "\n",
            "\n",
            "Per Item RMSE (worst)\n",
            "+---------+-------+-------+\n",
            "|   sku   |  rmse | count |\n",
            "+---------+-------+-------+\n",
            "| BEAU001 | 240.0 |   1   |\n",
            "+---------+-------+-------+\n",
            "[1 rows x 3 columns]\n",
            "\n"
          ]
        },
        {
          "output_type": "execute_result",
          "data": {
            "text/plain": [
              "{'precision_recall_by_user': Columns:\n",
              " \treseller_id\tstr\n",
              " \tcutoff\tint\n",
              " \tprecision\tfloat\n",
              " \trecall\tfloat\n",
              " \tcount\tint\n",
              " \n",
              " Rows: 120402\n",
              " \n",
              " Data:\n",
              " +-------------------------------+--------+-----------+--------+-------+\n",
              " |          reseller_id          | cutoff | precision | recall | count |\n",
              " +-------------------------------+--------+-----------+--------+-------+\n",
              " | 4d278dbe-c884-400e-aa66-d3... |   1    |    0.0    |  0.0   |  408  |\n",
              " | 4d278dbe-c884-400e-aa66-d3... |   2    |    0.0    |  0.0   |  408  |\n",
              " | 4d278dbe-c884-400e-aa66-d3... |   3    |    0.0    |  0.0   |  408  |\n",
              " | 4d278dbe-c884-400e-aa66-d3... |   4    |    0.0    |  0.0   |  408  |\n",
              " | 4d278dbe-c884-400e-aa66-d3... |   5    |    0.0    |  0.0   |  408  |\n",
              " | 4d278dbe-c884-400e-aa66-d3... |   6    |    0.0    |  0.0   |  408  |\n",
              " | 4d278dbe-c884-400e-aa66-d3... |   7    |    0.0    |  0.0   |  408  |\n",
              " | 4d278dbe-c884-400e-aa66-d3... |   8    |    0.0    |  0.0   |  408  |\n",
              " | 4d278dbe-c884-400e-aa66-d3... |   9    |    0.0    |  0.0   |  408  |\n",
              " | 4d278dbe-c884-400e-aa66-d3... |   10   |    0.0    |  0.0   |  408  |\n",
              " +-------------------------------+--------+-----------+--------+-------+\n",
              " [120402 rows x 5 columns]\n",
              " Note: Only the head of the SFrame is printed.\n",
              " You can use print_rows(num_rows=m, num_columns=n) to print more rows and columns.,\n",
              " 'precision_recall_overall': Columns:\n",
              " \tcutoff\tint\n",
              " \tprecision\tfloat\n",
              " \trecall\tfloat\n",
              " \n",
              " Rows: 18\n",
              " \n",
              " Data:\n",
              " +--------+-----------+--------+\n",
              " | cutoff | precision | recall |\n",
              " +--------+-----------+--------+\n",
              " |   1    |    0.0    |  0.0   |\n",
              " |   2    |    0.0    |  0.0   |\n",
              " |   3    |    0.0    |  0.0   |\n",
              " |   4    |    0.0    |  0.0   |\n",
              " |   5    |    0.0    |  0.0   |\n",
              " |   6    |    0.0    |  0.0   |\n",
              " |   7    |    0.0    |  0.0   |\n",
              " |   8    |    0.0    |  0.0   |\n",
              " |   9    |    0.0    |  0.0   |\n",
              " |   10   |    0.0    |  0.0   |\n",
              " +--------+-----------+--------+\n",
              " [18 rows x 3 columns]\n",
              " Note: Only the head of the SFrame is printed.\n",
              " You can use print_rows(num_rows=m, num_columns=n) to print more rows and columns.,\n",
              " 'rmse_by_user': Columns:\n",
              " \treseller_id\tstr\n",
              " \trmse\tfloat\n",
              " \tcount\tint\n",
              " \n",
              " Rows: 6689\n",
              " \n",
              " Data:\n",
              " +-------------------------------+--------------------+-------+\n",
              " |          reseller_id          |        rmse        | count |\n",
              " +-------------------------------+--------------------+-------+\n",
              " | cff4fc74-e38f-4186-af1f-e8... | 4.390296182160904  |   14  |\n",
              " | 829a0715-9b46-4915-87c2-8b... | 3.6859873697677497 |   42  |\n",
              " | 86260af4-9ec9-4a28-8f85-10... | 0.653836639187297  |   1   |\n",
              " | 252c8ee7-0ea9-4378-80dc-4b... | 3.194276285134508  |   3   |\n",
              " | 7d3bbec1-d7f3-4ea8-8eb4-aa... | 4.995629901126379  |   4   |\n",
              " | 5c8ba23f-2314-420b-98c2-9f... | 2.543981869209461  |   2   |\n",
              " | 941ad11f-7f8a-4d5e-8de4-17... | 0.6908898935203966 |   1   |\n",
              " | a702d790-30e4-464d-bc39-ab... | 5.0536669811465265 |   1   |\n",
              " | d0dbb25d-5b9f-47ee-999e-48... | 3.5266771128096526 |   34  |\n",
              " | ce251fc0-913e-4f9d-bd59-c3... | 4.740176725134731  |   3   |\n",
              " +-------------------------------+--------------------+-------+\n",
              " [6689 rows x 3 columns]\n",
              " Note: Only the head of the SFrame is printed.\n",
              " You can use print_rows(num_rows=m, num_columns=n) to print more rows and columns.,\n",
              " 'rmse_by_item': Columns:\n",
              " \tsku\tstr\n",
              " \trmse\tfloat\n",
              " \tcount\tint\n",
              " \n",
              " Rows: 2357\n",
              " \n",
              " Data:\n",
              " +--------+--------------------+-------+\n",
              " |  sku   |        rmse        | count |\n",
              " +--------+--------------------+-------+\n",
              " | SHM078 | 0.4639517022397962 |   4   |\n",
              " | BRS024 | 7.024037527029005  |   26  |\n",
              " | DMB001 | 3.055544134470898  |   10  |\n",
              " | HAN053 | 6.831882088274418  |   56  |\n",
              " | AZR009 | 4.925993053780805  |   59  |\n",
              " | KAF005 | 12.292783890212236 |   57  |\n",
              " | SIT009 | 54.95433974570506  |   95  |\n",
              " | SAN028 | 3.796808982416107  |   12  |\n",
              " | WGO026 | 0.8380846035764612 |   3   |\n",
              " | EMI021 | 2.3334287533442164 |   11  |\n",
              " +--------+--------------------+-------+\n",
              " [2357 rows x 3 columns]\n",
              " Note: Only the head of the SFrame is printed.\n",
              " You can use print_rows(num_rows=m, num_columns=n) to print more rows and columns.,\n",
              " 'rmse_overall': 32.56095286526665}"
            ]
          },
          "metadata": {},
          "execution_count": 91
        }
      ]
    },
    {
      "cell_type": "code",
      "source": [
        "# collaborative model data -> reseller_id | sku | purchase_dummy\n",
        "pearson_dummy.evaluate(test_data_dummy)\n",
        "# 'rmse_overall': 1.0}"
      ],
      "metadata": {
        "colab": {
          "base_uri": "https://localhost:8080/",
          "height": 1000
        },
        "id": "doo3PxelwVZ1",
        "outputId": "b2690744-897d-45d6-cfa1-2b4334be3108"
      },
      "execution_count": null,
      "outputs": [
        {
          "output_type": "display_data",
          "data": {
            "text/plain": [
              "recommendations finished on 1000/6737 queries. users per second: 17126.2"
            ],
            "text/html": [
              "<pre>recommendations finished on 1000/6737 queries. users per second: 17126.2</pre>"
            ]
          },
          "metadata": {}
        },
        {
          "output_type": "display_data",
          "data": {
            "text/plain": [
              "recommendations finished on 2000/6737 queries. users per second: 16632.7"
            ],
            "text/html": [
              "<pre>recommendations finished on 2000/6737 queries. users per second: 16632.7</pre>"
            ]
          },
          "metadata": {}
        },
        {
          "output_type": "display_data",
          "data": {
            "text/plain": [
              "recommendations finished on 3000/6737 queries. users per second: 16884.9"
            ],
            "text/html": [
              "<pre>recommendations finished on 3000/6737 queries. users per second: 16884.9</pre>"
            ]
          },
          "metadata": {}
        },
        {
          "output_type": "display_data",
          "data": {
            "text/plain": [
              "recommendations finished on 4000/6737 queries. users per second: 16064.9"
            ],
            "text/html": [
              "<pre>recommendations finished on 4000/6737 queries. users per second: 16064.9</pre>"
            ]
          },
          "metadata": {}
        },
        {
          "output_type": "display_data",
          "data": {
            "text/plain": [
              "recommendations finished on 5000/6737 queries. users per second: 16140.3"
            ],
            "text/html": [
              "<pre>recommendations finished on 5000/6737 queries. users per second: 16140.3</pre>"
            ]
          },
          "metadata": {}
        },
        {
          "output_type": "display_data",
          "data": {
            "text/plain": [
              "recommendations finished on 6000/6737 queries. users per second: 15739"
            ],
            "text/html": [
              "<pre>recommendations finished on 6000/6737 queries. users per second: 15739</pre>"
            ]
          },
          "metadata": {}
        },
        {
          "output_type": "stream",
          "name": "stdout",
          "text": [
            "\n",
            "Precision and recall summary statistics by cutoff\n",
            "+--------+------------------------+------------------------+\n",
            "| cutoff |     mean_precision     |      mean_recall       |\n",
            "+--------+------------------------+------------------------+\n",
            "|   1    | 0.0001484340210776309  | 2.1204860153947284e-05 |\n",
            "|   2    | 0.00029686804215526213 | 3.4163385803581625e-05 |\n",
            "|   3    | 0.00029686804215526175 | 0.0001851132377469353  |\n",
            "|   4    | 0.00025975953688585433 | 0.0001974827395034045  |\n",
            "|   5    | 0.0003265548463707877  |  0.000224286465641225  |\n",
            "|   6    | 0.00034634604918113885 | 0.00028482024803012614 |\n",
            "|   7    | 0.00033927776246315606 | 0.0002998444975862494  |\n",
            "|   8    | 0.0003710850526940774  | 0.00036805346441477966 |\n",
            "|   9    | 0.0003628387181897651  | 0.0003788653252093237  |\n",
            "|   10   | 0.0003413982484785509  | 0.00042834333223520015 |\n",
            "+--------+------------------------+------------------------+\n",
            "[10 rows x 3 columns]\n",
            "\n",
            "\n",
            "Overall RMSE: 1.0\n",
            "\n",
            "Per User RMSE (best)\n",
            "+-------------------------------+------+-------+\n",
            "|          reseller_id          | rmse | count |\n",
            "+-------------------------------+------+-------+\n",
            "| 8fea016a-6b08-45d2-bf26-67... | 1.0  |   2   |\n",
            "+-------------------------------+------+-------+\n",
            "[1 rows x 3 columns]\n",
            "\n",
            "\n",
            "Per User RMSE (worst)\n",
            "+-------------------------------+------+-------+\n",
            "|          reseller_id          | rmse | count |\n",
            "+-------------------------------+------+-------+\n",
            "| 9b0e575d-94f1-446c-8975-52... | 1.0  |   1   |\n",
            "+-------------------------------+------+-------+\n",
            "[1 rows x 3 columns]\n",
            "\n",
            "\n",
            "Per Item RMSE (best)\n",
            "+--------+------+-------+\n",
            "|  sku   | rmse | count |\n",
            "+--------+------+-------+\n",
            "| WGO018 | 1.0  |   1   |\n",
            "+--------+------+-------+\n",
            "[1 rows x 3 columns]\n",
            "\n",
            "\n",
            "Per Item RMSE (worst)\n",
            "+--------+------+-------+\n",
            "|  sku   | rmse | count |\n",
            "+--------+------+-------+\n",
            "| SHM078 | 1.0  |   4   |\n",
            "+--------+------+-------+\n",
            "[1 rows x 3 columns]\n",
            "\n"
          ]
        },
        {
          "output_type": "execute_result",
          "data": {
            "text/plain": [
              "{'precision_recall_by_user': Columns:\n",
              " \treseller_id\tstr\n",
              " \tcutoff\tint\n",
              " \tprecision\tfloat\n",
              " \trecall\tfloat\n",
              " \tcount\tint\n",
              " \n",
              " Rows: 121266\n",
              " \n",
              " Data:\n",
              " +-------------------------------+--------+-----------+--------+-------+\n",
              " |          reseller_id          | cutoff | precision | recall | count |\n",
              " +-------------------------------+--------+-----------+--------+-------+\n",
              " | f9a6fc9e-0b6c-4fe9-a314-09... |   1    |    0.0    |  0.0   |  135  |\n",
              " | f9a6fc9e-0b6c-4fe9-a314-09... |   2    |    0.0    |  0.0   |  135  |\n",
              " | f9a6fc9e-0b6c-4fe9-a314-09... |   3    |    0.0    |  0.0   |  135  |\n",
              " | f9a6fc9e-0b6c-4fe9-a314-09... |   4    |    0.0    |  0.0   |  135  |\n",
              " | f9a6fc9e-0b6c-4fe9-a314-09... |   5    |    0.0    |  0.0   |  135  |\n",
              " | f9a6fc9e-0b6c-4fe9-a314-09... |   6    |    0.0    |  0.0   |  135  |\n",
              " | f9a6fc9e-0b6c-4fe9-a314-09... |   7    |    0.0    |  0.0   |  135  |\n",
              " | f9a6fc9e-0b6c-4fe9-a314-09... |   8    |    0.0    |  0.0   |  135  |\n",
              " | f9a6fc9e-0b6c-4fe9-a314-09... |   9    |    0.0    |  0.0   |  135  |\n",
              " | f9a6fc9e-0b6c-4fe9-a314-09... |   10   |    0.0    |  0.0   |  135  |\n",
              " +-------------------------------+--------+-----------+--------+-------+\n",
              " [121266 rows x 5 columns]\n",
              " Note: Only the head of the SFrame is printed.\n",
              " You can use print_rows(num_rows=m, num_columns=n) to print more rows and columns.,\n",
              " 'precision_recall_overall': Columns:\n",
              " \tcutoff\tint\n",
              " \tprecision\tfloat\n",
              " \trecall\tfloat\n",
              " \n",
              " Rows: 18\n",
              " \n",
              " Data:\n",
              " +--------+------------------------+------------------------+\n",
              " | cutoff |       precision        |         recall         |\n",
              " +--------+------------------------+------------------------+\n",
              " |   1    | 0.00014843402107763087 | 2.1204860153947284e-05 |\n",
              " |   2    | 0.00029686804215526224 | 3.4163385803581734e-05 |\n",
              " |   3    | 0.00029686804215526175 | 0.0001851132377469352  |\n",
              " |   4    | 0.00025975953688585395 | 0.00019748273950340452 |\n",
              " |   5    | 0.0003265548463707883  | 0.00022428646564122474 |\n",
              " |   6    |  0.000346346049181139  | 0.0002848202480301256  |\n",
              " |   7    | 0.00033927776246315655 | 0.00029984449758624945 |\n",
              " |   8    | 0.0003710850526940773  | 0.00036805346441477993 |\n",
              " |   9    | 0.00036283871818976475 | 0.0003788653252093234  |\n",
              " |   10   | 0.00034139824847855135 | 0.00042834333223520015 |\n",
              " +--------+------------------------+------------------------+\n",
              " [18 rows x 3 columns]\n",
              " Note: Only the head of the SFrame is printed.\n",
              " You can use print_rows(num_rows=m, num_columns=n) to print more rows and columns.,\n",
              " 'rmse_by_user': Columns:\n",
              " \treseller_id\tstr\n",
              " \trmse\tfloat\n",
              " \tcount\tint\n",
              " \n",
              " Rows: 6737\n",
              " \n",
              " Data:\n",
              " +-------------------------------+------+-------+\n",
              " |          reseller_id          | rmse | count |\n",
              " +-------------------------------+------+-------+\n",
              " | 9b0e575d-94f1-446c-8975-52... | 1.0  |   1   |\n",
              " | cff4fc74-e38f-4186-af1f-e8... | 1.0  |   5   |\n",
              " | 829a0715-9b46-4915-87c2-8b... | 1.0  |   36  |\n",
              " | 252c8ee7-0ea9-4378-80dc-4b... | 1.0  |   1   |\n",
              " | 44c001c3-afeb-4225-9212-09... | 1.0  |   1   |\n",
              " | 7d3bbec1-d7f3-4ea8-8eb4-aa... | 1.0  |   3   |\n",
              " | f25f614b-8220-4eec-a579-82... | 1.0  |   1   |\n",
              " | e51ba21a-6fb2-49f6-a9ea-3a... | 1.0  |   1   |\n",
              " | a702d790-30e4-464d-bc39-ab... | 1.0  |   1   |\n",
              " | b2ff13cc-d8ba-4e6f-92bf-95... | 1.0  |   1   |\n",
              " +-------------------------------+------+-------+\n",
              " [6737 rows x 3 columns]\n",
              " Note: Only the head of the SFrame is printed.\n",
              " You can use print_rows(num_rows=m, num_columns=n) to print more rows and columns.,\n",
              " 'rmse_by_item': Columns:\n",
              " \tsku\tstr\n",
              " \trmse\tfloat\n",
              " \tcount\tint\n",
              " \n",
              " Rows: 2352\n",
              " \n",
              " Data:\n",
              " +--------+------+-------+\n",
              " |  sku   | rmse | count |\n",
              " +--------+------+-------+\n",
              " | SHM078 | 1.0  |   4   |\n",
              " | BRS024 | 1.0  |   24  |\n",
              " | DMB001 | 1.0  |   8   |\n",
              " | HAN053 | 1.0  |   51  |\n",
              " | AZR009 | 1.0  |   75  |\n",
              " | KAF005 | 1.0  |   57  |\n",
              " | SIT009 | 1.0  |   85  |\n",
              " | SAN028 | 1.0  |   16  |\n",
              " | WGO026 | 1.0  |   5   |\n",
              " | EMI021 | 1.0  |   11  |\n",
              " +--------+------+-------+\n",
              " [2352 rows x 3 columns]\n",
              " Note: Only the head of the SFrame is printed.\n",
              " You can use print_rows(num_rows=m, num_columns=n) to print more rows and columns.,\n",
              " 'rmse_overall': 1.0}"
            ]
          },
          "metadata": {},
          "execution_count": 92
        }
      ]
    },
    {
      "cell_type": "code",
      "source": [
        "# collaborative model data -> reseller_id | sku | scaled_purchase_freq\n",
        "pearson_norm.evaluate(test_data_norm)\n",
        "#'rmse_overall': 0.1574748414259218}"
      ],
      "metadata": {
        "colab": {
          "base_uri": "https://localhost:8080/",
          "height": 1000
        },
        "id": "ynEVVLLWw9EQ",
        "outputId": "7ca95207-b9c1-4323-cbb9-8900eeb24e96"
      },
      "execution_count": null,
      "outputs": [
        {
          "output_type": "display_data",
          "data": {
            "text/plain": [
              "recommendations finished on 1000/6518 queries. users per second: 15940.8"
            ],
            "text/html": [
              "<pre>recommendations finished on 1000/6518 queries. users per second: 15940.8</pre>"
            ]
          },
          "metadata": {}
        },
        {
          "output_type": "display_data",
          "data": {
            "text/plain": [
              "recommendations finished on 2000/6518 queries. users per second: 16024.4"
            ],
            "text/html": [
              "<pre>recommendations finished on 2000/6518 queries. users per second: 16024.4</pre>"
            ]
          },
          "metadata": {}
        },
        {
          "output_type": "display_data",
          "data": {
            "text/plain": [
              "recommendations finished on 3000/6518 queries. users per second: 16031.3"
            ],
            "text/html": [
              "<pre>recommendations finished on 3000/6518 queries. users per second: 16031.3</pre>"
            ]
          },
          "metadata": {}
        },
        {
          "output_type": "display_data",
          "data": {
            "text/plain": [
              "recommendations finished on 4000/6518 queries. users per second: 15531.8"
            ],
            "text/html": [
              "<pre>recommendations finished on 4000/6518 queries. users per second: 15531.8</pre>"
            ]
          },
          "metadata": {}
        },
        {
          "output_type": "display_data",
          "data": {
            "text/plain": [
              "recommendations finished on 5000/6518 queries. users per second: 15929.5"
            ],
            "text/html": [
              "<pre>recommendations finished on 5000/6518 queries. users per second: 15929.5</pre>"
            ]
          },
          "metadata": {}
        },
        {
          "output_type": "display_data",
          "data": {
            "text/plain": [
              "recommendations finished on 6000/6518 queries. users per second: 15883.3"
            ],
            "text/html": [
              "<pre>recommendations finished on 6000/6518 queries. users per second: 15883.3</pre>"
            ]
          },
          "metadata": {}
        },
        {
          "output_type": "stream",
          "name": "stdout",
          "text": [
            "\n",
            "Precision and recall summary statistics by cutoff\n",
            "+--------+------------------------+------------------------+\n",
            "| cutoff |     mean_precision     |      mean_recall       |\n",
            "+--------+------------------------+------------------------+\n",
            "|   1    | 0.00015342129487572878 | 3.4093621083495316e-06 |\n",
            "|   2    | 0.00023013194231359313 |  8.0120009546214e-05   |\n",
            "|   3    | 0.00025570215812621363 | 9.635727006223401e-05  |\n",
            "|   4    | 0.00023013194231359327 | 9.822826146315752e-05  |\n",
            "|   5    | 0.00021478981282602004 | 0.00010261172703103537 |\n",
            "|   6    | 0.0001789915106883501  | 0.00010261172703103537 |\n",
            "|   7    | 0.0001972559505545082  | 0.0001064800325468825  |\n",
            "|   8    | 0.00019177661859466098 | 0.0001093211676371738  |\n",
            "|   9    | 0.0001704681054174763  | 0.00010932116763717376 |\n",
            "|   10   | 0.00021478981282602074 | 0.00020986994642407735 |\n",
            "+--------+------------------------+------------------------+\n",
            "[10 rows x 3 columns]\n",
            "\n",
            "\n",
            "Overall RMSE: 0.1574748414259218\n",
            "\n",
            "Per User RMSE (best)\n",
            "+-------------------------------+------+-------+\n",
            "|          reseller_id          | rmse | count |\n",
            "+-------------------------------+------+-------+\n",
            "| eacee27b-1d40-41ac-bdc8-58... | 0.0  |   1   |\n",
            "+-------------------------------+------+-------+\n",
            "[1 rows x 3 columns]\n",
            "\n",
            "\n",
            "Per User RMSE (worst)\n",
            "+-------------------------------+------+-------+\n",
            "|          reseller_id          | rmse | count |\n",
            "+-------------------------------+------+-------+\n",
            "| 84994b2b-9b16-4dbe-b220-b5... | 1.0  |   1   |\n",
            "+-------------------------------+------+-------+\n",
            "[1 rows x 3 columns]\n",
            "\n",
            "\n",
            "Per Item RMSE (best)\n",
            "+--------+------+-------+\n",
            "|  sku   | rmse | count |\n",
            "+--------+------+-------+\n",
            "| FOC016 | 0.0  |   1   |\n",
            "+--------+------+-------+\n",
            "[1 rows x 3 columns]\n",
            "\n",
            "\n",
            "Per Item RMSE (worst)\n",
            "+--------+------+-------+\n",
            "|  sku   | rmse | count |\n",
            "+--------+------+-------+\n",
            "| DWL008 | 1.0  |   2   |\n",
            "+--------+------+-------+\n",
            "[1 rows x 3 columns]\n",
            "\n"
          ]
        },
        {
          "output_type": "execute_result",
          "data": {
            "text/plain": [
              "{'precision_recall_by_user': Columns:\n",
              " \treseller_id\tstr\n",
              " \tcutoff\tint\n",
              " \tprecision\tfloat\n",
              " \trecall\tfloat\n",
              " \tcount\tint\n",
              " \n",
              " Rows: 117324\n",
              " \n",
              " Data:\n",
              " +-------------------------------+--------+-----------+--------+-------+\n",
              " |          reseller_id          | cutoff | precision | recall | count |\n",
              " +-------------------------------+--------+-----------+--------+-------+\n",
              " | 3c70f9bc-dc70-408c-936c-0c... |   1    |    0.0    |  0.0   |   18  |\n",
              " | 3c70f9bc-dc70-408c-936c-0c... |   2    |    0.0    |  0.0   |   18  |\n",
              " | 3c70f9bc-dc70-408c-936c-0c... |   3    |    0.0    |  0.0   |   18  |\n",
              " | 3c70f9bc-dc70-408c-936c-0c... |   4    |    0.0    |  0.0   |   18  |\n",
              " | 3c70f9bc-dc70-408c-936c-0c... |   5    |    0.0    |  0.0   |   18  |\n",
              " | 3c70f9bc-dc70-408c-936c-0c... |   6    |    0.0    |  0.0   |   18  |\n",
              " | 3c70f9bc-dc70-408c-936c-0c... |   7    |    0.0    |  0.0   |   18  |\n",
              " | 3c70f9bc-dc70-408c-936c-0c... |   8    |    0.0    |  0.0   |   18  |\n",
              " | 3c70f9bc-dc70-408c-936c-0c... |   9    |    0.0    |  0.0   |   18  |\n",
              " | 3c70f9bc-dc70-408c-936c-0c... |   10   |    0.0    |  0.0   |   18  |\n",
              " +-------------------------------+--------+-----------+--------+-------+\n",
              " [117324 rows x 5 columns]\n",
              " Note: Only the head of the SFrame is printed.\n",
              " You can use print_rows(num_rows=m, num_columns=n) to print more rows and columns.,\n",
              " 'precision_recall_overall': Columns:\n",
              " \tcutoff\tint\n",
              " \tprecision\tfloat\n",
              " \trecall\tfloat\n",
              " \n",
              " Rows: 18\n",
              " \n",
              " Data:\n",
              " +--------+------------------------+------------------------+\n",
              " | cutoff |       precision        |         recall         |\n",
              " +--------+------------------------+------------------------+\n",
              " |   1    | 0.00015342129487572878 | 3.409362108349525e-06  |\n",
              " |   2    | 0.00023013194231359291 | 8.012000954621383e-05  |\n",
              " |   3    | 0.00025570215812621466 | 9.635727006223402e-05  |\n",
              " |   4    | 0.00023013194231359313 | 9.822826146315773e-05  |\n",
              " |   5    | 0.00021478981282602004 | 0.00010261172703103555 |\n",
              " |   6    | 0.00017899151068835026 | 0.00010261172703103555 |\n",
              " |   7    | 0.00019725595055450823 | 0.00010648003254688248 |\n",
              " |   8    | 0.00019177661859466093 | 0.00010932116763717376 |\n",
              " |   9    | 0.0001704681054174764  | 0.00010932116763717395 |\n",
              " |   10   | 0.0002147898128260202  |  0.000209869946424077  |\n",
              " +--------+------------------------+------------------------+\n",
              " [18 rows x 3 columns]\n",
              " Note: Only the head of the SFrame is printed.\n",
              " You can use print_rows(num_rows=m, num_columns=n) to print more rows and columns.,\n",
              " 'rmse_by_user': Columns:\n",
              " \treseller_id\tstr\n",
              " \trmse\tfloat\n",
              " \tcount\tint\n",
              " \n",
              " Rows: 6518\n",
              " \n",
              " Data:\n",
              " +-------------------------------+-----------------------+-------+\n",
              " |          reseller_id          |          rmse         | count |\n",
              " +-------------------------------+-----------------------+-------+\n",
              " | cff4fc74-e38f-4186-af1f-e8... |  0.025880561377149204 |   6   |\n",
              " | 829a0715-9b46-4915-87c2-8b... |  0.011648236225821338 |   9   |\n",
              " | 7d06c679-4cb1-494f-948d-3b... |  0.12162839130924234  |   1   |\n",
              " | 86260af4-9ec9-4a28-8f85-10... |  0.009507669591571299 |   1   |\n",
              " | 252c8ee7-0ea9-4378-80dc-4b... |  0.028592239509958522 |   2   |\n",
              " | 7d3bbec1-d7f3-4ea8-8eb4-aa... |  0.022490575171716782 |   3   |\n",
              " | 5c8ba23f-2314-420b-98c2-9f... |  0.027443022106742154 |   2   |\n",
              " | f25f614b-8220-4eec-a579-82... | 0.0024733254849477774 |   1   |\n",
              " | a702d790-30e4-464d-bc39-ab... |  0.046044843410758984 |   1   |\n",
              " | b2ff13cc-d8ba-4e6f-92bf-95... |   0.0908429279956784  |   2   |\n",
              " +-------------------------------+-----------------------+-------+\n",
              " [6518 rows x 3 columns]\n",
              " Note: Only the head of the SFrame is printed.\n",
              " You can use print_rows(num_rows=m, num_columns=n) to print more rows and columns.,\n",
              " 'rmse_by_item': Columns:\n",
              " \tsku\tstr\n",
              " \trmse\tfloat\n",
              " \tcount\tint\n",
              " \n",
              " Rows: 2156\n",
              " \n",
              " Data:\n",
              " +--------+----------------------+-------+\n",
              " |  sku   |         rmse         | count |\n",
              " +--------+----------------------+-------+\n",
              " | SHM078 | 0.33333333333333337  |   2   |\n",
              " | BRS024 | 0.052761508585887254 |   16  |\n",
              " | DMB001 | 0.06382274819769881  |   4   |\n",
              " | HAN053 | 0.018604623796115962 |   33  |\n",
              " | AZR009 | 0.13189447082243821  |   58  |\n",
              " | KAF005 | 0.06896910604053512  |   37  |\n",
              " | SIT009 | 0.22259646514983836  |   39  |\n",
              " | SAN028 |  0.2307936701212895  |   18  |\n",
              " | WGO026 | 0.15333333333333335  |   1   |\n",
              " | EMI021 |  0.3109329654861571  |   9   |\n",
              " +--------+----------------------+-------+\n",
              " [2156 rows x 3 columns]\n",
              " Note: Only the head of the SFrame is printed.\n",
              " You can use print_rows(num_rows=m, num_columns=n) to print more rows and columns.,\n",
              " 'rmse_overall': 0.1574748414259218}"
            ]
          },
          "metadata": {},
          "execution_count": 93
        }
      ]
    },
    {
      "cell_type": "markdown",
      "source": [
        "#### Model Evaluation Summary \n",
        "##### **Cosine Similarity**\n",
        "\n",
        "*   On Product quantity\n",
        "\n",
        "collaborative model data -> reseller_id | sku | quantity\n",
        "\n",
        "\n",
        "    rmse_overall': 33.83288384157576\n",
        "    Mean precision: 0.10509792196142922\n",
        "    Mean Recall: 0.03364255306396087 \n",
        "\n",
        "*   On Purchase_dummy\n",
        "\n",
        "collaborative model data -> reseller_id | sku | purchase_dummy\n",
        "\n",
        "\n",
        "    rmse_overall': 0.9010301150681002\n",
        "    Mean precision: 0.10682301716886852\n",
        "    Mean Recall: 0.10761706731725827  \n",
        "\n",
        "\n",
        "\n",
        "*   On Scaled purchase\n",
        "\n",
        "collaborative model data -> reseller_id | sku | scaled_purchase_freq\n",
        "\n",
        "\n",
        "    'rmse_overall': 0.16886549309264662\n",
        "    Mean precision: 0.09711567965633636\n",
        "    Mean Recall: 0.024769939342756304\n",
        "    \n",
        "\n",
        "##### **Pearson Similarity**\n",
        "\n",
        "\n",
        "*   On Product quantity\n",
        "\n",
        "collaborative model data -> reseller_id | sku | quantity\n",
        "\n",
        "\n",
        "    rmse_overall':  32.56095286526665\n",
        "    Mean precision: 0.0\n",
        "    Mean Recall: 0.0\n",
        "*   On Purchase_dummy\n",
        "\n",
        "collaborative model data -> reseller_id | sku | purchase_dummy\n",
        "\n",
        "\n",
        "    rmse_overall': 1.0\n",
        "    Mean precision: 0.00029686804215526175\n",
        "    Mean Recall: 0.0001851132377469353\n",
        "\n",
        "\n",
        "\n",
        "*   On Scaled purchase\n",
        "\n",
        "collaborative model data -> reseller_id | sku | scaled_purchase_freq\n",
        "\n",
        "\n",
        "    rmse_overall': 0.1574748414259218\n",
        "    Mean precision: 0.0001972559505545082\n",
        "    Mean Recall: 0.0001064800325468825\n",
        " \n"
      ],
      "metadata": {
        "id": "weTL_AjTx18f"
      }
    },
    {
      "cell_type": "markdown",
      "source": [
        "We then select Cosine similarity on purchase_dummy. Also on this model the recommendation scores are pretty better than other models\n"
      ],
      "metadata": {
        "id": "oCxTKtqt6tHz"
      }
    },
    {
      "cell_type": "markdown",
      "source": [
        "### Train Final Model"
      ],
      "metadata": {
        "id": "1xRsrlpb-Tzl"
      }
    },
    {
      "cell_type": "code",
      "source": [
        "users_to_recommend = data[\"reseller_id\"].values.tolist()\n",
        "user_id = 'reseller_id'\n",
        "item_id = 'sku'\n",
        "target = 'purchase_dummy'\n",
        "n_rec = 20 # number of recommended products\n",
        "final_model = tc.item_similarity_recommender.create(tc.SFrame(data_dummy), \n",
        "                                            user_id=user_id, \n",
        "                                            item_id=item_id, \n",
        "                                            target=target, \n",
        "                                            similarity_type='cosine')\n",
        "#recom = final_model.recommend(users=users_to_recommend, k=n_rec)\n",
        "#final_model.save('customers_cosine_similarity_model')\n"
      ],
      "metadata": {
        "colab": {
          "base_uri": "https://localhost:8080/",
          "height": 434
        },
        "id": "4friqlhj9WDp",
        "outputId": "428a7b09-e23a-4845-f634-87dd87023afa"
      },
      "execution_count": null,
      "outputs": [
        {
          "output_type": "display_data",
          "data": {
            "text/plain": [
              "Warning: Ignoring columns quantity;"
            ],
            "text/html": [
              "<pre>Warning: Ignoring columns quantity;</pre>"
            ]
          },
          "metadata": {}
        },
        {
          "output_type": "display_data",
          "data": {
            "text/plain": [
              "    To use these columns in scoring predictions, use a model that allows the use of additional features."
            ],
            "text/html": [
              "<pre>    To use these columns in scoring predictions, use a model that allows the use of additional features.</pre>"
            ]
          },
          "metadata": {}
        },
        {
          "output_type": "display_data",
          "data": {
            "text/plain": [
              "Preparing data set."
            ],
            "text/html": [
              "<pre>Preparing data set.</pre>"
            ]
          },
          "metadata": {}
        },
        {
          "output_type": "display_data",
          "data": {
            "text/plain": [
              "    Data has 393560 observations with 11596 users and 2721 items."
            ],
            "text/html": [
              "<pre>    Data has 393560 observations with 11596 users and 2721 items.</pre>"
            ]
          },
          "metadata": {}
        },
        {
          "output_type": "display_data",
          "data": {
            "text/plain": [
              "    Data prepared in: 1.56077s"
            ],
            "text/html": [
              "<pre>    Data prepared in: 1.56077s</pre>"
            ]
          },
          "metadata": {}
        },
        {
          "output_type": "display_data",
          "data": {
            "text/plain": [
              "Training model from provided data."
            ],
            "text/html": [
              "<pre>Training model from provided data.</pre>"
            ]
          },
          "metadata": {}
        },
        {
          "output_type": "display_data",
          "data": {
            "text/plain": [
              "Gathering per-item and per-user statistics."
            ],
            "text/html": [
              "<pre>Gathering per-item and per-user statistics.</pre>"
            ]
          },
          "metadata": {}
        },
        {
          "output_type": "display_data",
          "data": {
            "text/plain": [
              "+--------------------------------+------------+"
            ],
            "text/html": [
              "<pre>+--------------------------------+------------+</pre>"
            ]
          },
          "metadata": {}
        },
        {
          "output_type": "display_data",
          "data": {
            "text/plain": [
              "| Elapsed Time (Item Statistics) | % Complete |"
            ],
            "text/html": [
              "<pre>| Elapsed Time (Item Statistics) | % Complete |</pre>"
            ]
          },
          "metadata": {}
        },
        {
          "output_type": "display_data",
          "data": {
            "text/plain": [
              "+--------------------------------+------------+"
            ],
            "text/html": [
              "<pre>+--------------------------------+------------+</pre>"
            ]
          },
          "metadata": {}
        },
        {
          "output_type": "display_data",
          "data": {
            "text/plain": [
              "| 4.376ms                        | 8.5        |"
            ],
            "text/html": [
              "<pre>| 4.376ms                        | 8.5        |</pre>"
            ]
          },
          "metadata": {}
        },
        {
          "output_type": "display_data",
          "data": {
            "text/plain": [
              "| 12.828ms                       | 100        |"
            ],
            "text/html": [
              "<pre>| 12.828ms                       | 100        |</pre>"
            ]
          },
          "metadata": {}
        },
        {
          "output_type": "display_data",
          "data": {
            "text/plain": [
              "+--------------------------------+------------+"
            ],
            "text/html": [
              "<pre>+--------------------------------+------------+</pre>"
            ]
          },
          "metadata": {}
        },
        {
          "output_type": "display_data",
          "data": {
            "text/plain": [
              "Setting up lookup tables."
            ],
            "text/html": [
              "<pre>Setting up lookup tables.</pre>"
            ]
          },
          "metadata": {}
        },
        {
          "output_type": "display_data",
          "data": {
            "text/plain": [
              "Processing data in one pass using dense lookup tables."
            ],
            "text/html": [
              "<pre>Processing data in one pass using dense lookup tables.</pre>"
            ]
          },
          "metadata": {}
        },
        {
          "output_type": "display_data",
          "data": {
            "text/plain": [
              "+-------------------------------------+------------------+-----------------+"
            ],
            "text/html": [
              "<pre>+-------------------------------------+------------------+-----------------+</pre>"
            ]
          },
          "metadata": {}
        },
        {
          "output_type": "display_data",
          "data": {
            "text/plain": [
              "| Elapsed Time (Constructing Lookups) | Total % Complete | Items Processed |"
            ],
            "text/html": [
              "<pre>| Elapsed Time (Constructing Lookups) | Total % Complete | Items Processed |</pre>"
            ]
          },
          "metadata": {}
        },
        {
          "output_type": "display_data",
          "data": {
            "text/plain": [
              "+-------------------------------------+------------------+-----------------+"
            ],
            "text/html": [
              "<pre>+-------------------------------------+------------------+-----------------+</pre>"
            ]
          },
          "metadata": {}
        },
        {
          "output_type": "display_data",
          "data": {
            "text/plain": [
              "| 20.339ms                            | 1                | 31              |"
            ],
            "text/html": [
              "<pre>| 20.339ms                            | 1                | 31              |</pre>"
            ]
          },
          "metadata": {}
        },
        {
          "output_type": "display_data",
          "data": {
            "text/plain": [
              "| 542.821ms                           | 100              | 2721            |"
            ],
            "text/html": [
              "<pre>| 542.821ms                           | 100              | 2721            |</pre>"
            ]
          },
          "metadata": {}
        },
        {
          "output_type": "display_data",
          "data": {
            "text/plain": [
              "+-------------------------------------+------------------+-----------------+"
            ],
            "text/html": [
              "<pre>+-------------------------------------+------------------+-----------------+</pre>"
            ]
          },
          "metadata": {}
        },
        {
          "output_type": "display_data",
          "data": {
            "text/plain": [
              "Finalizing lookup tables."
            ],
            "text/html": [
              "<pre>Finalizing lookup tables.</pre>"
            ]
          },
          "metadata": {}
        },
        {
          "output_type": "display_data",
          "data": {
            "text/plain": [
              "Generating candidate set for working with new users."
            ],
            "text/html": [
              "<pre>Generating candidate set for working with new users.</pre>"
            ]
          },
          "metadata": {}
        },
        {
          "output_type": "display_data",
          "data": {
            "text/plain": [
              "Finished training in 1.5928s"
            ],
            "text/html": [
              "<pre>Finished training in 1.5928s</pre>"
            ]
          },
          "metadata": {}
        }
      ]
    },
    {
      "cell_type": "code",
      "source": [
        "n_rec = 20 # number of recommended products\n",
        "recom = final_model.recommend(users=['b995a89e-90a5-468c-9a44-faa484c257f1'], k=n_rec)"
      ],
      "metadata": {
        "id": "sjcPvR2ISzgO"
      },
      "execution_count": null,
      "outputs": []
    },
    {
      "cell_type": "code",
      "source": [
        "df_rec = recom.to_dataframe()\n",
        "print(df_rec.shape)\n",
        "df_rec"
      ],
      "metadata": {
        "colab": {
          "base_uri": "https://localhost:8080/",
          "height": 694
        },
        "id": "0_iPixkZ_TSh",
        "outputId": "5abcaf9d-7fcb-43f6-c8c4-5eba1db13f52"
      },
      "execution_count": null,
      "outputs": [
        {
          "output_type": "stream",
          "name": "stdout",
          "text": [
            "(20, 4)\n"
          ]
        },
        {
          "output_type": "execute_result",
          "data": {
            "text/plain": [
              "                             reseller_id     sku     score  rank\n",
              "0   b995a89e-90a5-468c-9a44-faa484c257f1  AVS056  0.123906     1\n",
              "1   b995a89e-90a5-468c-9a44-faa484c257f1  AVS058  0.120138     2\n",
              "2   b995a89e-90a5-468c-9a44-faa484c257f1  GNG007  0.098293     3\n",
              "3   b995a89e-90a5-468c-9a44-faa484c257f1  AVS057  0.091841     4\n",
              "4   b995a89e-90a5-468c-9a44-faa484c257f1   ST004  0.090763     5\n",
              "5   b995a89e-90a5-468c-9a44-faa484c257f1  AVS059  0.088140     6\n",
              "6   b995a89e-90a5-468c-9a44-faa484c257f1  NPU003  0.087207     7\n",
              "7   b995a89e-90a5-468c-9a44-faa484c257f1  GNG002  0.078633     8\n",
              "8   b995a89e-90a5-468c-9a44-faa484c257f1  NPU017  0.075004     9\n",
              "9   b995a89e-90a5-468c-9a44-faa484c257f1  GNG009  0.074676    10\n",
              "10  b995a89e-90a5-468c-9a44-faa484c257f1  LCC012  0.058226    11\n",
              "11  b995a89e-90a5-468c-9a44-faa484c257f1  NPU007  0.055475    12\n",
              "12  b995a89e-90a5-468c-9a44-faa484c257f1  GNG005  0.046034    13\n",
              "13  b995a89e-90a5-468c-9a44-faa484c257f1  NPU002  0.042162    14\n",
              "14  b995a89e-90a5-468c-9a44-faa484c257f1  IPL008  0.036052    15\n",
              "15  b995a89e-90a5-468c-9a44-faa484c257f1  AUB004  0.034942    16\n",
              "16  b995a89e-90a5-468c-9a44-faa484c257f1  AVS008  0.034455    17\n",
              "17  b995a89e-90a5-468c-9a44-faa484c257f1   SF023  0.034243    18\n",
              "18  b995a89e-90a5-468c-9a44-faa484c257f1  IPL011  0.031206    19\n",
              "19  b995a89e-90a5-468c-9a44-faa484c257f1   ST002  0.030408    20"
            ],
            "text/html": [
              "\n",
              "  <div id=\"df-af7e7dc4-dc59-4ff1-921a-2b2b2bd9655e\">\n",
              "    <div class=\"colab-df-container\">\n",
              "      <div>\n",
              "<style scoped>\n",
              "    .dataframe tbody tr th:only-of-type {\n",
              "        vertical-align: middle;\n",
              "    }\n",
              "\n",
              "    .dataframe tbody tr th {\n",
              "        vertical-align: top;\n",
              "    }\n",
              "\n",
              "    .dataframe thead th {\n",
              "        text-align: right;\n",
              "    }\n",
              "</style>\n",
              "<table border=\"1\" class=\"dataframe\">\n",
              "  <thead>\n",
              "    <tr style=\"text-align: right;\">\n",
              "      <th></th>\n",
              "      <th>reseller_id</th>\n",
              "      <th>sku</th>\n",
              "      <th>score</th>\n",
              "      <th>rank</th>\n",
              "    </tr>\n",
              "  </thead>\n",
              "  <tbody>\n",
              "    <tr>\n",
              "      <th>0</th>\n",
              "      <td>b995a89e-90a5-468c-9a44-faa484c257f1</td>\n",
              "      <td>AVS056</td>\n",
              "      <td>0.123906</td>\n",
              "      <td>1</td>\n",
              "    </tr>\n",
              "    <tr>\n",
              "      <th>1</th>\n",
              "      <td>b995a89e-90a5-468c-9a44-faa484c257f1</td>\n",
              "      <td>AVS058</td>\n",
              "      <td>0.120138</td>\n",
              "      <td>2</td>\n",
              "    </tr>\n",
              "    <tr>\n",
              "      <th>2</th>\n",
              "      <td>b995a89e-90a5-468c-9a44-faa484c257f1</td>\n",
              "      <td>GNG007</td>\n",
              "      <td>0.098293</td>\n",
              "      <td>3</td>\n",
              "    </tr>\n",
              "    <tr>\n",
              "      <th>3</th>\n",
              "      <td>b995a89e-90a5-468c-9a44-faa484c257f1</td>\n",
              "      <td>AVS057</td>\n",
              "      <td>0.091841</td>\n",
              "      <td>4</td>\n",
              "    </tr>\n",
              "    <tr>\n",
              "      <th>4</th>\n",
              "      <td>b995a89e-90a5-468c-9a44-faa484c257f1</td>\n",
              "      <td>ST004</td>\n",
              "      <td>0.090763</td>\n",
              "      <td>5</td>\n",
              "    </tr>\n",
              "    <tr>\n",
              "      <th>5</th>\n",
              "      <td>b995a89e-90a5-468c-9a44-faa484c257f1</td>\n",
              "      <td>AVS059</td>\n",
              "      <td>0.088140</td>\n",
              "      <td>6</td>\n",
              "    </tr>\n",
              "    <tr>\n",
              "      <th>6</th>\n",
              "      <td>b995a89e-90a5-468c-9a44-faa484c257f1</td>\n",
              "      <td>NPU003</td>\n",
              "      <td>0.087207</td>\n",
              "      <td>7</td>\n",
              "    </tr>\n",
              "    <tr>\n",
              "      <th>7</th>\n",
              "      <td>b995a89e-90a5-468c-9a44-faa484c257f1</td>\n",
              "      <td>GNG002</td>\n",
              "      <td>0.078633</td>\n",
              "      <td>8</td>\n",
              "    </tr>\n",
              "    <tr>\n",
              "      <th>8</th>\n",
              "      <td>b995a89e-90a5-468c-9a44-faa484c257f1</td>\n",
              "      <td>NPU017</td>\n",
              "      <td>0.075004</td>\n",
              "      <td>9</td>\n",
              "    </tr>\n",
              "    <tr>\n",
              "      <th>9</th>\n",
              "      <td>b995a89e-90a5-468c-9a44-faa484c257f1</td>\n",
              "      <td>GNG009</td>\n",
              "      <td>0.074676</td>\n",
              "      <td>10</td>\n",
              "    </tr>\n",
              "    <tr>\n",
              "      <th>10</th>\n",
              "      <td>b995a89e-90a5-468c-9a44-faa484c257f1</td>\n",
              "      <td>LCC012</td>\n",
              "      <td>0.058226</td>\n",
              "      <td>11</td>\n",
              "    </tr>\n",
              "    <tr>\n",
              "      <th>11</th>\n",
              "      <td>b995a89e-90a5-468c-9a44-faa484c257f1</td>\n",
              "      <td>NPU007</td>\n",
              "      <td>0.055475</td>\n",
              "      <td>12</td>\n",
              "    </tr>\n",
              "    <tr>\n",
              "      <th>12</th>\n",
              "      <td>b995a89e-90a5-468c-9a44-faa484c257f1</td>\n",
              "      <td>GNG005</td>\n",
              "      <td>0.046034</td>\n",
              "      <td>13</td>\n",
              "    </tr>\n",
              "    <tr>\n",
              "      <th>13</th>\n",
              "      <td>b995a89e-90a5-468c-9a44-faa484c257f1</td>\n",
              "      <td>NPU002</td>\n",
              "      <td>0.042162</td>\n",
              "      <td>14</td>\n",
              "    </tr>\n",
              "    <tr>\n",
              "      <th>14</th>\n",
              "      <td>b995a89e-90a5-468c-9a44-faa484c257f1</td>\n",
              "      <td>IPL008</td>\n",
              "      <td>0.036052</td>\n",
              "      <td>15</td>\n",
              "    </tr>\n",
              "    <tr>\n",
              "      <th>15</th>\n",
              "      <td>b995a89e-90a5-468c-9a44-faa484c257f1</td>\n",
              "      <td>AUB004</td>\n",
              "      <td>0.034942</td>\n",
              "      <td>16</td>\n",
              "    </tr>\n",
              "    <tr>\n",
              "      <th>16</th>\n",
              "      <td>b995a89e-90a5-468c-9a44-faa484c257f1</td>\n",
              "      <td>AVS008</td>\n",
              "      <td>0.034455</td>\n",
              "      <td>17</td>\n",
              "    </tr>\n",
              "    <tr>\n",
              "      <th>17</th>\n",
              "      <td>b995a89e-90a5-468c-9a44-faa484c257f1</td>\n",
              "      <td>SF023</td>\n",
              "      <td>0.034243</td>\n",
              "      <td>18</td>\n",
              "    </tr>\n",
              "    <tr>\n",
              "      <th>18</th>\n",
              "      <td>b995a89e-90a5-468c-9a44-faa484c257f1</td>\n",
              "      <td>IPL011</td>\n",
              "      <td>0.031206</td>\n",
              "      <td>19</td>\n",
              "    </tr>\n",
              "    <tr>\n",
              "      <th>19</th>\n",
              "      <td>b995a89e-90a5-468c-9a44-faa484c257f1</td>\n",
              "      <td>ST002</td>\n",
              "      <td>0.030408</td>\n",
              "      <td>20</td>\n",
              "    </tr>\n",
              "  </tbody>\n",
              "</table>\n",
              "</div>\n",
              "      <button class=\"colab-df-convert\" onclick=\"convertToInteractive('df-af7e7dc4-dc59-4ff1-921a-2b2b2bd9655e')\"\n",
              "              title=\"Convert this dataframe to an interactive table.\"\n",
              "              style=\"display:none;\">\n",
              "        \n",
              "  <svg xmlns=\"http://www.w3.org/2000/svg\" height=\"24px\"viewBox=\"0 0 24 24\"\n",
              "       width=\"24px\">\n",
              "    <path d=\"M0 0h24v24H0V0z\" fill=\"none\"/>\n",
              "    <path d=\"M18.56 5.44l.94 2.06.94-2.06 2.06-.94-2.06-.94-.94-2.06-.94 2.06-2.06.94zm-11 1L8.5 8.5l.94-2.06 2.06-.94-2.06-.94L8.5 2.5l-.94 2.06-2.06.94zm10 10l.94 2.06.94-2.06 2.06-.94-2.06-.94-.94-2.06-.94 2.06-2.06.94z\"/><path d=\"M17.41 7.96l-1.37-1.37c-.4-.4-.92-.59-1.43-.59-.52 0-1.04.2-1.43.59L10.3 9.45l-7.72 7.72c-.78.78-.78 2.05 0 2.83L4 21.41c.39.39.9.59 1.41.59.51 0 1.02-.2 1.41-.59l7.78-7.78 2.81-2.81c.8-.78.8-2.07 0-2.86zM5.41 20L4 18.59l7.72-7.72 1.47 1.35L5.41 20z\"/>\n",
              "  </svg>\n",
              "      </button>\n",
              "      \n",
              "  <style>\n",
              "    .colab-df-container {\n",
              "      display:flex;\n",
              "      flex-wrap:wrap;\n",
              "      gap: 12px;\n",
              "    }\n",
              "\n",
              "    .colab-df-convert {\n",
              "      background-color: #E8F0FE;\n",
              "      border: none;\n",
              "      border-radius: 50%;\n",
              "      cursor: pointer;\n",
              "      display: none;\n",
              "      fill: #1967D2;\n",
              "      height: 32px;\n",
              "      padding: 0 0 0 0;\n",
              "      width: 32px;\n",
              "    }\n",
              "\n",
              "    .colab-df-convert:hover {\n",
              "      background-color: #E2EBFA;\n",
              "      box-shadow: 0px 1px 2px rgba(60, 64, 67, 0.3), 0px 1px 3px 1px rgba(60, 64, 67, 0.15);\n",
              "      fill: #174EA6;\n",
              "    }\n",
              "\n",
              "    [theme=dark] .colab-df-convert {\n",
              "      background-color: #3B4455;\n",
              "      fill: #D2E3FC;\n",
              "    }\n",
              "\n",
              "    [theme=dark] .colab-df-convert:hover {\n",
              "      background-color: #434B5C;\n",
              "      box-shadow: 0px 1px 3px 1px rgba(0, 0, 0, 0.15);\n",
              "      filter: drop-shadow(0px 1px 2px rgba(0, 0, 0, 0.3));\n",
              "      fill: #FFFFFF;\n",
              "    }\n",
              "  </style>\n",
              "\n",
              "      <script>\n",
              "        const buttonEl =\n",
              "          document.querySelector('#df-af7e7dc4-dc59-4ff1-921a-2b2b2bd9655e button.colab-df-convert');\n",
              "        buttonEl.style.display =\n",
              "          google.colab.kernel.accessAllowed ? 'block' : 'none';\n",
              "\n",
              "        async function convertToInteractive(key) {\n",
              "          const element = document.querySelector('#df-af7e7dc4-dc59-4ff1-921a-2b2b2bd9655e');\n",
              "          const dataTable =\n",
              "            await google.colab.kernel.invokeFunction('convertToInteractive',\n",
              "                                                     [key], {});\n",
              "          if (!dataTable) return;\n",
              "\n",
              "          const docLinkHtml = 'Like what you see? Visit the ' +\n",
              "            '<a target=\"_blank\" href=https://colab.research.google.com/notebooks/data_table.ipynb>data table notebook</a>'\n",
              "            + ' to learn more about interactive tables.';\n",
              "          element.innerHTML = '';\n",
              "          dataTable['output_type'] = 'display_data';\n",
              "          await google.colab.output.renderOutput(dataTable, element);\n",
              "          const docLink = document.createElement('div');\n",
              "          docLink.innerHTML = docLinkHtml;\n",
              "          element.appendChild(docLink);\n",
              "        }\n",
              "      </script>\n",
              "    </div>\n",
              "  </div>\n",
              "  "
            ]
          },
          "metadata": {},
          "execution_count": 13
        }
      ]
    },
    {
      "cell_type": "code",
      "source": [
        "\n",
        "# from sklearn import preprocessing\n",
        "# le = preprocessing.LabelEncoder()\n",
        "# customer_type_data = le.fit_transform(customer_type_data)\n",
        "# print(le.classes_)"
      ],
      "metadata": {
        "id": "F3u-uM4ajlGB"
      },
      "execution_count": null,
      "outputs": []
    },
    {
      "cell_type": "code",
      "source": [
        "user_id = 'reseller_id'\n",
        "item_id = 'sku'\n",
        "target = 'scaled_purchase_freq'\n",
        "n_rec = 20 # number of items to recommend\n",
        "n_display = 20 # number of rows will show\n",
        "new_user_model = tc.popularity_recommender.create(tc.SFrame(data_norm), \n",
        "                                                    user_id=user_id, \n",
        "                                                    item_id=item_id, \n",
        "                                                    target=target)\n",
        "new_user_model.save('new_user_popularity_model')"
      ],
      "metadata": {
        "colab": {
          "base_uri": "https://localhost:8080/",
          "height": 86
        },
        "id": "c13x8XTDKsg0",
        "outputId": "5aab8bd8-02a4-469a-865a-953e63d3cb31"
      },
      "execution_count": null,
      "outputs": [
        {
          "output_type": "display_data",
          "data": {
            "text/plain": [
              "Preparing data set."
            ],
            "text/html": [
              "<pre>Preparing data set.</pre>"
            ]
          },
          "metadata": {}
        },
        {
          "output_type": "display_data",
          "data": {
            "text/plain": [
              "    Data has 172565 observations with 11579 users and 2339 items."
            ],
            "text/html": [
              "<pre>    Data has 172565 observations with 11579 users and 2339 items.</pre>"
            ]
          },
          "metadata": {}
        },
        {
          "output_type": "display_data",
          "data": {
            "text/plain": [
              "    Data prepared in: 0.331053s"
            ],
            "text/html": [
              "<pre>    Data prepared in: 0.331053s</pre>"
            ]
          },
          "metadata": {}
        },
        {
          "output_type": "display_data",
          "data": {
            "text/plain": [
              "172565 observations to process; with 2339 unique items."
            ],
            "text/html": [
              "<pre>172565 observations to process; with 2339 unique items.</pre>"
            ]
          },
          "metadata": {}
        }
      ]
    },
    {
      "cell_type": "markdown",
      "source": [
        "PopularityRecommender.recommend_from_interactions(observed_items, k=10)\n",
        "\n",
        "observed_items : SArray, SFrame, or list\n",
        "\n",
        "A list/SArray of items to use to make recommendations, or an SFrame of items and optionally ratings and/or other interaction data. The model will then recommend the most similar items to those given"
      ],
      "metadata": {
        "id": "j_MnvdTSfH_x"
      }
    },
    {
      "cell_type": "code",
      "source": [
        "new_user_recomm = new_user_model.recommend(k=n_rec)\n",
        "new_user_recomm.print_rows(n_display)"
      ],
      "metadata": {
        "colab": {
          "base_uri": "https://localhost:8080/",
          "height": 659
        },
        "id": "QBmVhaq1TuYM",
        "outputId": "ffbe0a27-339b-4ce3-db0f-c3c4a9b72f66"
      },
      "execution_count": null,
      "outputs": [
        {
          "output_type": "display_data",
          "data": {
            "text/plain": [
              "recommendations finished on 1000/11579 queries. users per second: 22636.7"
            ],
            "text/html": [
              "<pre>recommendations finished on 1000/11579 queries. users per second: 22636.7</pre>"
            ]
          },
          "metadata": {}
        },
        {
          "output_type": "display_data",
          "data": {
            "text/plain": [
              "recommendations finished on 2000/11579 queries. users per second: 22856.9"
            ],
            "text/html": [
              "<pre>recommendations finished on 2000/11579 queries. users per second: 22856.9</pre>"
            ]
          },
          "metadata": {}
        },
        {
          "output_type": "display_data",
          "data": {
            "text/plain": [
              "recommendations finished on 3000/11579 queries. users per second: 22670.9"
            ],
            "text/html": [
              "<pre>recommendations finished on 3000/11579 queries. users per second: 22670.9</pre>"
            ]
          },
          "metadata": {}
        },
        {
          "output_type": "display_data",
          "data": {
            "text/plain": [
              "recommendations finished on 4000/11579 queries. users per second: 23111.4"
            ],
            "text/html": [
              "<pre>recommendations finished on 4000/11579 queries. users per second: 23111.4</pre>"
            ]
          },
          "metadata": {}
        },
        {
          "output_type": "display_data",
          "data": {
            "text/plain": [
              "recommendations finished on 5000/11579 queries. users per second: 23458.6"
            ],
            "text/html": [
              "<pre>recommendations finished on 5000/11579 queries. users per second: 23458.6</pre>"
            ]
          },
          "metadata": {}
        },
        {
          "output_type": "display_data",
          "data": {
            "text/plain": [
              "recommendations finished on 6000/11579 queries. users per second: 23401.2"
            ],
            "text/html": [
              "<pre>recommendations finished on 6000/11579 queries. users per second: 23401.2</pre>"
            ]
          },
          "metadata": {}
        },
        {
          "output_type": "display_data",
          "data": {
            "text/plain": [
              "recommendations finished on 7000/11579 queries. users per second: 23554.7"
            ],
            "text/html": [
              "<pre>recommendations finished on 7000/11579 queries. users per second: 23554.7</pre>"
            ]
          },
          "metadata": {}
        },
        {
          "output_type": "display_data",
          "data": {
            "text/plain": [
              "recommendations finished on 8000/11579 queries. users per second: 23521.5"
            ],
            "text/html": [
              "<pre>recommendations finished on 8000/11579 queries. users per second: 23521.5</pre>"
            ]
          },
          "metadata": {}
        },
        {
          "output_type": "display_data",
          "data": {
            "text/plain": [
              "recommendations finished on 9000/11579 queries. users per second: 23558.5"
            ],
            "text/html": [
              "<pre>recommendations finished on 9000/11579 queries. users per second: 23558.5</pre>"
            ]
          },
          "metadata": {}
        },
        {
          "output_type": "display_data",
          "data": {
            "text/plain": [
              "recommendations finished on 10000/11579 queries. users per second: 23706.6"
            ],
            "text/html": [
              "<pre>recommendations finished on 10000/11579 queries. users per second: 23706.6</pre>"
            ]
          },
          "metadata": {}
        },
        {
          "output_type": "display_data",
          "data": {
            "text/plain": [
              "recommendations finished on 11000/11579 queries. users per second: 23350.6"
            ],
            "text/html": [
              "<pre>recommendations finished on 11000/11579 queries. users per second: 23350.6</pre>"
            ]
          },
          "metadata": {}
        },
        {
          "output_type": "stream",
          "name": "stdout",
          "text": [
            "+-------------------------------+--------+--------------------+------+\n",
            "|          reseller_id          |  sku   |       score        | rank |\n",
            "+-------------------------------+--------+--------------------+------+\n",
            "| 09444569-2e81-4eaa-98ae-a2... | FOC135 |        0.8         |  1   |\n",
            "| 09444569-2e81-4eaa-98ae-a2... | LIP008 |        0.75        |  2   |\n",
            "| 09444569-2e81-4eaa-98ae-a2... | LIP009 |        0.75        |  3   |\n",
            "| 09444569-2e81-4eaa-98ae-a2... | FOC255 | 0.6666666666666666 |  4   |\n",
            "| 09444569-2e81-4eaa-98ae-a2... | WGO007 | 0.6666666666666666 |  5   |\n",
            "| 09444569-2e81-4eaa-98ae-a2... | WGO008 | 0.6666666666666666 |  6   |\n",
            "| 09444569-2e81-4eaa-98ae-a2... | YLC040 | 0.6666666666666666 |  7   |\n",
            "| 09444569-2e81-4eaa-98ae-a2... | FOC171 | 0.6666666666666666 |  8   |\n",
            "| 09444569-2e81-4eaa-98ae-a2... | ELS027 | 0.6666666666666666 |  9   |\n",
            "| 09444569-2e81-4eaa-98ae-a2... | LVE006 | 0.6666666666666666 |  10  |\n",
            "| 09444569-2e81-4eaa-98ae-a2... | JTE012 | 0.6666666666666666 |  11  |\n",
            "| 09444569-2e81-4eaa-98ae-a2... | WGO009 | 0.6666666666666666 |  12  |\n",
            "| 09444569-2e81-4eaa-98ae-a2... | BEL012 | 0.6666666666666666 |  13  |\n",
            "| 09444569-2e81-4eaa-98ae-a2... | TRV022 |       0.625        |  14  |\n",
            "| 09444569-2e81-4eaa-98ae-a2... | LVE005 |       0.625        |  15  |\n",
            "| 09444569-2e81-4eaa-98ae-a2... | LIP006 |        0.6         |  16  |\n",
            "| 09444569-2e81-4eaa-98ae-a2... | JTE011 | 0.5714285714285714 |  17  |\n",
            "| 09444569-2e81-4eaa-98ae-a2... | JTE013 | 0.5714285714285714 |  18  |\n",
            "| 09444569-2e81-4eaa-98ae-a2... | EVS005 | 0.5555555555555556 |  19  |\n",
            "| 09444569-2e81-4eaa-98ae-a2... | WGO021 | 0.5555555555555555 |  20  |\n",
            "+-------------------------------+--------+--------------------+------+\n",
            "[231580 rows x 4 columns]\n",
            "\n"
          ]
        }
      ]
    },
    {
      "cell_type": "code",
      "source": [
        "def customer_recommendations(customer_id):\n",
        "  if customer_id not in df_rec['reseller_id'].values:\n",
        "    new_user_recomm = new_user_model.recommend(k=n_rec)\n",
        "    return new_user_recomm.to_dataframe().drop_duplicates(subset=['rank'])\n",
        "  else:\n",
        "    return df_rec[df_rec['reseller_id'] == customer_id].drop_duplicates()"
      ],
      "metadata": {
        "id": "Myl9yNFE_xXq"
      },
      "execution_count": null,
      "outputs": []
    },
    {
      "cell_type": "code",
      "source": [
        "recommendations = customer_recommendations(customer_id = 'dc091-56f-48cb-b560-4d6f7414')"
      ],
      "metadata": {
        "id": "tNtyVc-sD-3o",
        "colab": {
          "base_uri": "https://localhost:8080/",
          "height": 208
        },
        "outputId": "9d075617-7094-4046-89df-1dbbf4bd0834"
      },
      "execution_count": null,
      "outputs": [
        {
          "output_type": "display_data",
          "data": {
            "text/plain": [
              "recommendations finished on 1000/11579 queries. users per second: 21062.4"
            ],
            "text/html": [
              "<pre>recommendations finished on 1000/11579 queries. users per second: 21062.4</pre>"
            ]
          },
          "metadata": {}
        },
        {
          "output_type": "display_data",
          "data": {
            "text/plain": [
              "recommendations finished on 2000/11579 queries. users per second: 22472.7"
            ],
            "text/html": [
              "<pre>recommendations finished on 2000/11579 queries. users per second: 22472.7</pre>"
            ]
          },
          "metadata": {}
        },
        {
          "output_type": "display_data",
          "data": {
            "text/plain": [
              "recommendations finished on 3000/11579 queries. users per second: 22322.4"
            ],
            "text/html": [
              "<pre>recommendations finished on 3000/11579 queries. users per second: 22322.4</pre>"
            ]
          },
          "metadata": {}
        },
        {
          "output_type": "display_data",
          "data": {
            "text/plain": [
              "recommendations finished on 4000/11579 queries. users per second: 22580.1"
            ],
            "text/html": [
              "<pre>recommendations finished on 4000/11579 queries. users per second: 22580.1</pre>"
            ]
          },
          "metadata": {}
        },
        {
          "output_type": "display_data",
          "data": {
            "text/plain": [
              "recommendations finished on 5000/11579 queries. users per second: 21947.7"
            ],
            "text/html": [
              "<pre>recommendations finished on 5000/11579 queries. users per second: 21947.7</pre>"
            ]
          },
          "metadata": {}
        },
        {
          "output_type": "display_data",
          "data": {
            "text/plain": [
              "recommendations finished on 6000/11579 queries. users per second: 21737.2"
            ],
            "text/html": [
              "<pre>recommendations finished on 6000/11579 queries. users per second: 21737.2</pre>"
            ]
          },
          "metadata": {}
        },
        {
          "output_type": "display_data",
          "data": {
            "text/plain": [
              "recommendations finished on 7000/11579 queries. users per second: 21948.6"
            ],
            "text/html": [
              "<pre>recommendations finished on 7000/11579 queries. users per second: 21948.6</pre>"
            ]
          },
          "metadata": {}
        },
        {
          "output_type": "display_data",
          "data": {
            "text/plain": [
              "recommendations finished on 8000/11579 queries. users per second: 22319.2"
            ],
            "text/html": [
              "<pre>recommendations finished on 8000/11579 queries. users per second: 22319.2</pre>"
            ]
          },
          "metadata": {}
        },
        {
          "output_type": "display_data",
          "data": {
            "text/plain": [
              "recommendations finished on 9000/11579 queries. users per second: 22393.6"
            ],
            "text/html": [
              "<pre>recommendations finished on 9000/11579 queries. users per second: 22393.6</pre>"
            ]
          },
          "metadata": {}
        },
        {
          "output_type": "display_data",
          "data": {
            "text/plain": [
              "recommendations finished on 10000/11579 queries. users per second: 22591"
            ],
            "text/html": [
              "<pre>recommendations finished on 10000/11579 queries. users per second: 22591</pre>"
            ]
          },
          "metadata": {}
        },
        {
          "output_type": "display_data",
          "data": {
            "text/plain": [
              "recommendations finished on 11000/11579 queries. users per second: 22625.8"
            ],
            "text/html": [
              "<pre>recommendations finished on 11000/11579 queries. users per second: 22625.8</pre>"
            ]
          },
          "metadata": {}
        }
      ]
    },
    {
      "cell_type": "code",
      "source": [
        "recommendations"
      ],
      "metadata": {
        "colab": {
          "base_uri": "https://localhost:8080/",
          "height": 677
        },
        "id": "InhFjUk9EyFQ",
        "outputId": "bf8d0b98-eca2-4a3a-a058-d1b7e3dfc7ce"
      },
      "execution_count": null,
      "outputs": [
        {
          "output_type": "execute_result",
          "data": {
            "text/plain": [
              "                             reseller_id     sku     score  rank\n",
              "0   09444569-2e81-4eaa-98ae-a20a7fb0bb24  FOC135  0.800000     1\n",
              "1   09444569-2e81-4eaa-98ae-a20a7fb0bb24  LIP008  0.750000     2\n",
              "2   09444569-2e81-4eaa-98ae-a20a7fb0bb24  LIP009  0.750000     3\n",
              "3   09444569-2e81-4eaa-98ae-a20a7fb0bb24  FOC255  0.666667     4\n",
              "4   09444569-2e81-4eaa-98ae-a20a7fb0bb24  ELS027  0.666667     5\n",
              "5   09444569-2e81-4eaa-98ae-a20a7fb0bb24  FOC171  0.666667     6\n",
              "6   09444569-2e81-4eaa-98ae-a20a7fb0bb24  JTE012  0.666667     7\n",
              "7   09444569-2e81-4eaa-98ae-a20a7fb0bb24  WGO009  0.666667     8\n",
              "8   09444569-2e81-4eaa-98ae-a20a7fb0bb24  LVE006  0.666667     9\n",
              "9   09444569-2e81-4eaa-98ae-a20a7fb0bb24  WGO007  0.666667    10\n",
              "10  09444569-2e81-4eaa-98ae-a20a7fb0bb24  BEL012  0.666667    11\n",
              "11  09444569-2e81-4eaa-98ae-a20a7fb0bb24  YLC040  0.666667    12\n",
              "12  09444569-2e81-4eaa-98ae-a20a7fb0bb24  WGO008  0.666667    13\n",
              "13  09444569-2e81-4eaa-98ae-a20a7fb0bb24  TRV022  0.625000    14\n",
              "14  09444569-2e81-4eaa-98ae-a20a7fb0bb24  LVE005  0.625000    15\n",
              "15  09444569-2e81-4eaa-98ae-a20a7fb0bb24  LIP006  0.600000    16\n",
              "16  09444569-2e81-4eaa-98ae-a20a7fb0bb24  JTE013  0.571429    17\n",
              "17  09444569-2e81-4eaa-98ae-a20a7fb0bb24  JTE011  0.571429    18\n",
              "18  09444569-2e81-4eaa-98ae-a20a7fb0bb24  EVS005  0.555556    19\n",
              "19  09444569-2e81-4eaa-98ae-a20a7fb0bb24  WGO021  0.555556    20"
            ],
            "text/html": [
              "\n",
              "  <div id=\"df-c3a69894-b5c2-4cd8-926f-21c82899df47\">\n",
              "    <div class=\"colab-df-container\">\n",
              "      <div>\n",
              "<style scoped>\n",
              "    .dataframe tbody tr th:only-of-type {\n",
              "        vertical-align: middle;\n",
              "    }\n",
              "\n",
              "    .dataframe tbody tr th {\n",
              "        vertical-align: top;\n",
              "    }\n",
              "\n",
              "    .dataframe thead th {\n",
              "        text-align: right;\n",
              "    }\n",
              "</style>\n",
              "<table border=\"1\" class=\"dataframe\">\n",
              "  <thead>\n",
              "    <tr style=\"text-align: right;\">\n",
              "      <th></th>\n",
              "      <th>reseller_id</th>\n",
              "      <th>sku</th>\n",
              "      <th>score</th>\n",
              "      <th>rank</th>\n",
              "    </tr>\n",
              "  </thead>\n",
              "  <tbody>\n",
              "    <tr>\n",
              "      <th>0</th>\n",
              "      <td>09444569-2e81-4eaa-98ae-a20a7fb0bb24</td>\n",
              "      <td>FOC135</td>\n",
              "      <td>0.800000</td>\n",
              "      <td>1</td>\n",
              "    </tr>\n",
              "    <tr>\n",
              "      <th>1</th>\n",
              "      <td>09444569-2e81-4eaa-98ae-a20a7fb0bb24</td>\n",
              "      <td>LIP008</td>\n",
              "      <td>0.750000</td>\n",
              "      <td>2</td>\n",
              "    </tr>\n",
              "    <tr>\n",
              "      <th>2</th>\n",
              "      <td>09444569-2e81-4eaa-98ae-a20a7fb0bb24</td>\n",
              "      <td>LIP009</td>\n",
              "      <td>0.750000</td>\n",
              "      <td>3</td>\n",
              "    </tr>\n",
              "    <tr>\n",
              "      <th>3</th>\n",
              "      <td>09444569-2e81-4eaa-98ae-a20a7fb0bb24</td>\n",
              "      <td>FOC255</td>\n",
              "      <td>0.666667</td>\n",
              "      <td>4</td>\n",
              "    </tr>\n",
              "    <tr>\n",
              "      <th>4</th>\n",
              "      <td>09444569-2e81-4eaa-98ae-a20a7fb0bb24</td>\n",
              "      <td>ELS027</td>\n",
              "      <td>0.666667</td>\n",
              "      <td>5</td>\n",
              "    </tr>\n",
              "    <tr>\n",
              "      <th>5</th>\n",
              "      <td>09444569-2e81-4eaa-98ae-a20a7fb0bb24</td>\n",
              "      <td>FOC171</td>\n",
              "      <td>0.666667</td>\n",
              "      <td>6</td>\n",
              "    </tr>\n",
              "    <tr>\n",
              "      <th>6</th>\n",
              "      <td>09444569-2e81-4eaa-98ae-a20a7fb0bb24</td>\n",
              "      <td>JTE012</td>\n",
              "      <td>0.666667</td>\n",
              "      <td>7</td>\n",
              "    </tr>\n",
              "    <tr>\n",
              "      <th>7</th>\n",
              "      <td>09444569-2e81-4eaa-98ae-a20a7fb0bb24</td>\n",
              "      <td>WGO009</td>\n",
              "      <td>0.666667</td>\n",
              "      <td>8</td>\n",
              "    </tr>\n",
              "    <tr>\n",
              "      <th>8</th>\n",
              "      <td>09444569-2e81-4eaa-98ae-a20a7fb0bb24</td>\n",
              "      <td>LVE006</td>\n",
              "      <td>0.666667</td>\n",
              "      <td>9</td>\n",
              "    </tr>\n",
              "    <tr>\n",
              "      <th>9</th>\n",
              "      <td>09444569-2e81-4eaa-98ae-a20a7fb0bb24</td>\n",
              "      <td>WGO007</td>\n",
              "      <td>0.666667</td>\n",
              "      <td>10</td>\n",
              "    </tr>\n",
              "    <tr>\n",
              "      <th>10</th>\n",
              "      <td>09444569-2e81-4eaa-98ae-a20a7fb0bb24</td>\n",
              "      <td>BEL012</td>\n",
              "      <td>0.666667</td>\n",
              "      <td>11</td>\n",
              "    </tr>\n",
              "    <tr>\n",
              "      <th>11</th>\n",
              "      <td>09444569-2e81-4eaa-98ae-a20a7fb0bb24</td>\n",
              "      <td>YLC040</td>\n",
              "      <td>0.666667</td>\n",
              "      <td>12</td>\n",
              "    </tr>\n",
              "    <tr>\n",
              "      <th>12</th>\n",
              "      <td>09444569-2e81-4eaa-98ae-a20a7fb0bb24</td>\n",
              "      <td>WGO008</td>\n",
              "      <td>0.666667</td>\n",
              "      <td>13</td>\n",
              "    </tr>\n",
              "    <tr>\n",
              "      <th>13</th>\n",
              "      <td>09444569-2e81-4eaa-98ae-a20a7fb0bb24</td>\n",
              "      <td>TRV022</td>\n",
              "      <td>0.625000</td>\n",
              "      <td>14</td>\n",
              "    </tr>\n",
              "    <tr>\n",
              "      <th>14</th>\n",
              "      <td>09444569-2e81-4eaa-98ae-a20a7fb0bb24</td>\n",
              "      <td>LVE005</td>\n",
              "      <td>0.625000</td>\n",
              "      <td>15</td>\n",
              "    </tr>\n",
              "    <tr>\n",
              "      <th>15</th>\n",
              "      <td>09444569-2e81-4eaa-98ae-a20a7fb0bb24</td>\n",
              "      <td>LIP006</td>\n",
              "      <td>0.600000</td>\n",
              "      <td>16</td>\n",
              "    </tr>\n",
              "    <tr>\n",
              "      <th>16</th>\n",
              "      <td>09444569-2e81-4eaa-98ae-a20a7fb0bb24</td>\n",
              "      <td>JTE013</td>\n",
              "      <td>0.571429</td>\n",
              "      <td>17</td>\n",
              "    </tr>\n",
              "    <tr>\n",
              "      <th>17</th>\n",
              "      <td>09444569-2e81-4eaa-98ae-a20a7fb0bb24</td>\n",
              "      <td>JTE011</td>\n",
              "      <td>0.571429</td>\n",
              "      <td>18</td>\n",
              "    </tr>\n",
              "    <tr>\n",
              "      <th>18</th>\n",
              "      <td>09444569-2e81-4eaa-98ae-a20a7fb0bb24</td>\n",
              "      <td>EVS005</td>\n",
              "      <td>0.555556</td>\n",
              "      <td>19</td>\n",
              "    </tr>\n",
              "    <tr>\n",
              "      <th>19</th>\n",
              "      <td>09444569-2e81-4eaa-98ae-a20a7fb0bb24</td>\n",
              "      <td>WGO021</td>\n",
              "      <td>0.555556</td>\n",
              "      <td>20</td>\n",
              "    </tr>\n",
              "  </tbody>\n",
              "</table>\n",
              "</div>\n",
              "      <button class=\"colab-df-convert\" onclick=\"convertToInteractive('df-c3a69894-b5c2-4cd8-926f-21c82899df47')\"\n",
              "              title=\"Convert this dataframe to an interactive table.\"\n",
              "              style=\"display:none;\">\n",
              "        \n",
              "  <svg xmlns=\"http://www.w3.org/2000/svg\" height=\"24px\"viewBox=\"0 0 24 24\"\n",
              "       width=\"24px\">\n",
              "    <path d=\"M0 0h24v24H0V0z\" fill=\"none\"/>\n",
              "    <path d=\"M18.56 5.44l.94 2.06.94-2.06 2.06-.94-2.06-.94-.94-2.06-.94 2.06-2.06.94zm-11 1L8.5 8.5l.94-2.06 2.06-.94-2.06-.94L8.5 2.5l-.94 2.06-2.06.94zm10 10l.94 2.06.94-2.06 2.06-.94-2.06-.94-.94-2.06-.94 2.06-2.06.94z\"/><path d=\"M17.41 7.96l-1.37-1.37c-.4-.4-.92-.59-1.43-.59-.52 0-1.04.2-1.43.59L10.3 9.45l-7.72 7.72c-.78.78-.78 2.05 0 2.83L4 21.41c.39.39.9.59 1.41.59.51 0 1.02-.2 1.41-.59l7.78-7.78 2.81-2.81c.8-.78.8-2.07 0-2.86zM5.41 20L4 18.59l7.72-7.72 1.47 1.35L5.41 20z\"/>\n",
              "  </svg>\n",
              "      </button>\n",
              "      \n",
              "  <style>\n",
              "    .colab-df-container {\n",
              "      display:flex;\n",
              "      flex-wrap:wrap;\n",
              "      gap: 12px;\n",
              "    }\n",
              "\n",
              "    .colab-df-convert {\n",
              "      background-color: #E8F0FE;\n",
              "      border: none;\n",
              "      border-radius: 50%;\n",
              "      cursor: pointer;\n",
              "      display: none;\n",
              "      fill: #1967D2;\n",
              "      height: 32px;\n",
              "      padding: 0 0 0 0;\n",
              "      width: 32px;\n",
              "    }\n",
              "\n",
              "    .colab-df-convert:hover {\n",
              "      background-color: #E2EBFA;\n",
              "      box-shadow: 0px 1px 2px rgba(60, 64, 67, 0.3), 0px 1px 3px 1px rgba(60, 64, 67, 0.15);\n",
              "      fill: #174EA6;\n",
              "    }\n",
              "\n",
              "    [theme=dark] .colab-df-convert {\n",
              "      background-color: #3B4455;\n",
              "      fill: #D2E3FC;\n",
              "    }\n",
              "\n",
              "    [theme=dark] .colab-df-convert:hover {\n",
              "      background-color: #434B5C;\n",
              "      box-shadow: 0px 1px 3px 1px rgba(0, 0, 0, 0.15);\n",
              "      filter: drop-shadow(0px 1px 2px rgba(0, 0, 0, 0.3));\n",
              "      fill: #FFFFFF;\n",
              "    }\n",
              "  </style>\n",
              "\n",
              "      <script>\n",
              "        const buttonEl =\n",
              "          document.querySelector('#df-c3a69894-b5c2-4cd8-926f-21c82899df47 button.colab-df-convert');\n",
              "        buttonEl.style.display =\n",
              "          google.colab.kernel.accessAllowed ? 'block' : 'none';\n",
              "\n",
              "        async function convertToInteractive(key) {\n",
              "          const element = document.querySelector('#df-c3a69894-b5c2-4cd8-926f-21c82899df47');\n",
              "          const dataTable =\n",
              "            await google.colab.kernel.invokeFunction('convertToInteractive',\n",
              "                                                     [key], {});\n",
              "          if (!dataTable) return;\n",
              "\n",
              "          const docLinkHtml = 'Like what you see? Visit the ' +\n",
              "            '<a target=\"_blank\" href=https://colab.research.google.com/notebooks/data_table.ipynb>data table notebook</a>'\n",
              "            + ' to learn more about interactive tables.';\n",
              "          element.innerHTML = '';\n",
              "          dataTable['output_type'] = 'display_data';\n",
              "          await google.colab.output.renderOutput(dataTable, element);\n",
              "          const docLink = document.createElement('div');\n",
              "          docLink.innerHTML = docLinkHtml;\n",
              "          element.appendChild(docLink);\n",
              "        }\n",
              "      </script>\n",
              "    </div>\n",
              "  </div>\n",
              "  "
            ]
          },
          "metadata": {},
          "execution_count": 23
        }
      ]
    },
    {
      "cell_type": "code",
      "source": [
        "customer_type_data = csv_data.filter(['customer_type'])\n",
        "item_df = csv_data.filter(['sku'])"
      ],
      "metadata": {
        "id": "t0b3SLDg2Ktc"
      },
      "execution_count": null,
      "outputs": []
    },
    {
      "cell_type": "code",
      "source": [
        "customer_type_data = customer_type_data.fillna('None')\n",
        "item_df = item_df.fillna('None')"
      ],
      "metadata": {
        "id": "-RFpOgUt2W3Y"
      },
      "execution_count": null,
      "outputs": []
    },
    {
      "cell_type": "code",
      "source": [
        "observation_items = pd.concat([item_df,customer_type_data],axis=1)\n",
        "observation_items.head()"
      ],
      "metadata": {
        "colab": {
          "base_uri": "https://localhost:8080/",
          "height": 206
        },
        "id": "gNZEzkyk3tCN",
        "outputId": "63609150-2c56-45f3-87c3-9287c66f9287"
      },
      "execution_count": null,
      "outputs": [
        {
          "output_type": "execute_result",
          "data": {
            "text/plain": [
              "      sku       customer_type\n",
              "0  AVS034     Online Reseller\n",
              "1  AVS034     Online Reseller\n",
              "2  AVS034  Online Dropshipper\n",
              "3  AVS034     Online Reseller\n",
              "4   SF034     Online Reseller"
            ],
            "text/html": [
              "\n",
              "  <div id=\"df-212a7a12-1284-4be3-8bfb-b9ad1365417a\">\n",
              "    <div class=\"colab-df-container\">\n",
              "      <div>\n",
              "<style scoped>\n",
              "    .dataframe tbody tr th:only-of-type {\n",
              "        vertical-align: middle;\n",
              "    }\n",
              "\n",
              "    .dataframe tbody tr th {\n",
              "        vertical-align: top;\n",
              "    }\n",
              "\n",
              "    .dataframe thead th {\n",
              "        text-align: right;\n",
              "    }\n",
              "</style>\n",
              "<table border=\"1\" class=\"dataframe\">\n",
              "  <thead>\n",
              "    <tr style=\"text-align: right;\">\n",
              "      <th></th>\n",
              "      <th>sku</th>\n",
              "      <th>customer_type</th>\n",
              "    </tr>\n",
              "  </thead>\n",
              "  <tbody>\n",
              "    <tr>\n",
              "      <th>0</th>\n",
              "      <td>AVS034</td>\n",
              "      <td>Online Reseller</td>\n",
              "    </tr>\n",
              "    <tr>\n",
              "      <th>1</th>\n",
              "      <td>AVS034</td>\n",
              "      <td>Online Reseller</td>\n",
              "    </tr>\n",
              "    <tr>\n",
              "      <th>2</th>\n",
              "      <td>AVS034</td>\n",
              "      <td>Online Dropshipper</td>\n",
              "    </tr>\n",
              "    <tr>\n",
              "      <th>3</th>\n",
              "      <td>AVS034</td>\n",
              "      <td>Online Reseller</td>\n",
              "    </tr>\n",
              "    <tr>\n",
              "      <th>4</th>\n",
              "      <td>SF034</td>\n",
              "      <td>Online Reseller</td>\n",
              "    </tr>\n",
              "  </tbody>\n",
              "</table>\n",
              "</div>\n",
              "      <button class=\"colab-df-convert\" onclick=\"convertToInteractive('df-212a7a12-1284-4be3-8bfb-b9ad1365417a')\"\n",
              "              title=\"Convert this dataframe to an interactive table.\"\n",
              "              style=\"display:none;\">\n",
              "        \n",
              "  <svg xmlns=\"http://www.w3.org/2000/svg\" height=\"24px\"viewBox=\"0 0 24 24\"\n",
              "       width=\"24px\">\n",
              "    <path d=\"M0 0h24v24H0V0z\" fill=\"none\"/>\n",
              "    <path d=\"M18.56 5.44l.94 2.06.94-2.06 2.06-.94-2.06-.94-.94-2.06-.94 2.06-2.06.94zm-11 1L8.5 8.5l.94-2.06 2.06-.94-2.06-.94L8.5 2.5l-.94 2.06-2.06.94zm10 10l.94 2.06.94-2.06 2.06-.94-2.06-.94-.94-2.06-.94 2.06-2.06.94z\"/><path d=\"M17.41 7.96l-1.37-1.37c-.4-.4-.92-.59-1.43-.59-.52 0-1.04.2-1.43.59L10.3 9.45l-7.72 7.72c-.78.78-.78 2.05 0 2.83L4 21.41c.39.39.9.59 1.41.59.51 0 1.02-.2 1.41-.59l7.78-7.78 2.81-2.81c.8-.78.8-2.07 0-2.86zM5.41 20L4 18.59l7.72-7.72 1.47 1.35L5.41 20z\"/>\n",
              "  </svg>\n",
              "      </button>\n",
              "      \n",
              "  <style>\n",
              "    .colab-df-container {\n",
              "      display:flex;\n",
              "      flex-wrap:wrap;\n",
              "      gap: 12px;\n",
              "    }\n",
              "\n",
              "    .colab-df-convert {\n",
              "      background-color: #E8F0FE;\n",
              "      border: none;\n",
              "      border-radius: 50%;\n",
              "      cursor: pointer;\n",
              "      display: none;\n",
              "      fill: #1967D2;\n",
              "      height: 32px;\n",
              "      padding: 0 0 0 0;\n",
              "      width: 32px;\n",
              "    }\n",
              "\n",
              "    .colab-df-convert:hover {\n",
              "      background-color: #E2EBFA;\n",
              "      box-shadow: 0px 1px 2px rgba(60, 64, 67, 0.3), 0px 1px 3px 1px rgba(60, 64, 67, 0.15);\n",
              "      fill: #174EA6;\n",
              "    }\n",
              "\n",
              "    [theme=dark] .colab-df-convert {\n",
              "      background-color: #3B4455;\n",
              "      fill: #D2E3FC;\n",
              "    }\n",
              "\n",
              "    [theme=dark] .colab-df-convert:hover {\n",
              "      background-color: #434B5C;\n",
              "      box-shadow: 0px 1px 3px 1px rgba(0, 0, 0, 0.15);\n",
              "      filter: drop-shadow(0px 1px 2px rgba(0, 0, 0, 0.3));\n",
              "      fill: #FFFFFF;\n",
              "    }\n",
              "  </style>\n",
              "\n",
              "      <script>\n",
              "        const buttonEl =\n",
              "          document.querySelector('#df-212a7a12-1284-4be3-8bfb-b9ad1365417a button.colab-df-convert');\n",
              "        buttonEl.style.display =\n",
              "          google.colab.kernel.accessAllowed ? 'block' : 'none';\n",
              "\n",
              "        async function convertToInteractive(key) {\n",
              "          const element = document.querySelector('#df-212a7a12-1284-4be3-8bfb-b9ad1365417a');\n",
              "          const dataTable =\n",
              "            await google.colab.kernel.invokeFunction('convertToInteractive',\n",
              "                                                     [key], {});\n",
              "          if (!dataTable) return;\n",
              "\n",
              "          const docLinkHtml = 'Like what you see? Visit the ' +\n",
              "            '<a target=\"_blank\" href=https://colab.research.google.com/notebooks/data_table.ipynb>data table notebook</a>'\n",
              "            + ' to learn more about interactive tables.';\n",
              "          element.innerHTML = '';\n",
              "          dataTable['output_type'] = 'display_data';\n",
              "          await google.colab.output.renderOutput(dataTable, element);\n",
              "          const docLink = document.createElement('div');\n",
              "          docLink.innerHTML = docLinkHtml;\n",
              "          element.appendChild(docLink);\n",
              "        }\n",
              "      </script>\n",
              "    </div>\n",
              "  </div>\n",
              "  "
            ]
          },
          "metadata": {},
          "execution_count": 123
        }
      ]
    },
    {
      "cell_type": "code",
      "source": [
        "data_dummy = pd.concat([data_dummy,customer_type_data],axis=1)\n",
        "data_dummy.head()"
      ],
      "metadata": {
        "colab": {
          "base_uri": "https://localhost:8080/",
          "height": 206
        },
        "id": "9mOBspSQ2rBl",
        "outputId": "2770681b-b036-41d0-8a7c-57379a4cad6a"
      },
      "execution_count": null,
      "outputs": [
        {
          "output_type": "execute_result",
          "data": {
            "text/plain": [
              "                            reseller_id     sku  quantity  purchase_dummy  \\\n",
              "0  e6fcbe56-3d31-4fb9-ae9b-11542375ebba  AVS034         4               1   \n",
              "1  ae233b06-2bfa-4345-80fc-32e59fbb3c88  AVS034         1               1   \n",
              "2  ff7cac5a-b41b-4858-9aa5-6d3eab8a5319  AVS034         1               1   \n",
              "3  ea7dff8a-c2e7-447b-8241-c4a00893eb32  AVS034         1               1   \n",
              "4  e6fcbe56-3d31-4fb9-ae9b-11542375ebba   SF034         1               1   \n",
              "\n",
              "        customer_type  \n",
              "0     Online Reseller  \n",
              "1     Online Reseller  \n",
              "2  Online Dropshipper  \n",
              "3     Online Reseller  \n",
              "4     Online Reseller  "
            ],
            "text/html": [
              "\n",
              "  <div id=\"df-7e1bc3c6-5ad8-4696-a2af-2cde53876580\">\n",
              "    <div class=\"colab-df-container\">\n",
              "      <div>\n",
              "<style scoped>\n",
              "    .dataframe tbody tr th:only-of-type {\n",
              "        vertical-align: middle;\n",
              "    }\n",
              "\n",
              "    .dataframe tbody tr th {\n",
              "        vertical-align: top;\n",
              "    }\n",
              "\n",
              "    .dataframe thead th {\n",
              "        text-align: right;\n",
              "    }\n",
              "</style>\n",
              "<table border=\"1\" class=\"dataframe\">\n",
              "  <thead>\n",
              "    <tr style=\"text-align: right;\">\n",
              "      <th></th>\n",
              "      <th>reseller_id</th>\n",
              "      <th>sku</th>\n",
              "      <th>quantity</th>\n",
              "      <th>purchase_dummy</th>\n",
              "      <th>customer_type</th>\n",
              "    </tr>\n",
              "  </thead>\n",
              "  <tbody>\n",
              "    <tr>\n",
              "      <th>0</th>\n",
              "      <td>e6fcbe56-3d31-4fb9-ae9b-11542375ebba</td>\n",
              "      <td>AVS034</td>\n",
              "      <td>4</td>\n",
              "      <td>1</td>\n",
              "      <td>Online Reseller</td>\n",
              "    </tr>\n",
              "    <tr>\n",
              "      <th>1</th>\n",
              "      <td>ae233b06-2bfa-4345-80fc-32e59fbb3c88</td>\n",
              "      <td>AVS034</td>\n",
              "      <td>1</td>\n",
              "      <td>1</td>\n",
              "      <td>Online Reseller</td>\n",
              "    </tr>\n",
              "    <tr>\n",
              "      <th>2</th>\n",
              "      <td>ff7cac5a-b41b-4858-9aa5-6d3eab8a5319</td>\n",
              "      <td>AVS034</td>\n",
              "      <td>1</td>\n",
              "      <td>1</td>\n",
              "      <td>Online Dropshipper</td>\n",
              "    </tr>\n",
              "    <tr>\n",
              "      <th>3</th>\n",
              "      <td>ea7dff8a-c2e7-447b-8241-c4a00893eb32</td>\n",
              "      <td>AVS034</td>\n",
              "      <td>1</td>\n",
              "      <td>1</td>\n",
              "      <td>Online Reseller</td>\n",
              "    </tr>\n",
              "    <tr>\n",
              "      <th>4</th>\n",
              "      <td>e6fcbe56-3d31-4fb9-ae9b-11542375ebba</td>\n",
              "      <td>SF034</td>\n",
              "      <td>1</td>\n",
              "      <td>1</td>\n",
              "      <td>Online Reseller</td>\n",
              "    </tr>\n",
              "  </tbody>\n",
              "</table>\n",
              "</div>\n",
              "      <button class=\"colab-df-convert\" onclick=\"convertToInteractive('df-7e1bc3c6-5ad8-4696-a2af-2cde53876580')\"\n",
              "              title=\"Convert this dataframe to an interactive table.\"\n",
              "              style=\"display:none;\">\n",
              "        \n",
              "  <svg xmlns=\"http://www.w3.org/2000/svg\" height=\"24px\"viewBox=\"0 0 24 24\"\n",
              "       width=\"24px\">\n",
              "    <path d=\"M0 0h24v24H0V0z\" fill=\"none\"/>\n",
              "    <path d=\"M18.56 5.44l.94 2.06.94-2.06 2.06-.94-2.06-.94-.94-2.06-.94 2.06-2.06.94zm-11 1L8.5 8.5l.94-2.06 2.06-.94-2.06-.94L8.5 2.5l-.94 2.06-2.06.94zm10 10l.94 2.06.94-2.06 2.06-.94-2.06-.94-.94-2.06-.94 2.06-2.06.94z\"/><path d=\"M17.41 7.96l-1.37-1.37c-.4-.4-.92-.59-1.43-.59-.52 0-1.04.2-1.43.59L10.3 9.45l-7.72 7.72c-.78.78-.78 2.05 0 2.83L4 21.41c.39.39.9.59 1.41.59.51 0 1.02-.2 1.41-.59l7.78-7.78 2.81-2.81c.8-.78.8-2.07 0-2.86zM5.41 20L4 18.59l7.72-7.72 1.47 1.35L5.41 20z\"/>\n",
              "  </svg>\n",
              "      </button>\n",
              "      \n",
              "  <style>\n",
              "    .colab-df-container {\n",
              "      display:flex;\n",
              "      flex-wrap:wrap;\n",
              "      gap: 12px;\n",
              "    }\n",
              "\n",
              "    .colab-df-convert {\n",
              "      background-color: #E8F0FE;\n",
              "      border: none;\n",
              "      border-radius: 50%;\n",
              "      cursor: pointer;\n",
              "      display: none;\n",
              "      fill: #1967D2;\n",
              "      height: 32px;\n",
              "      padding: 0 0 0 0;\n",
              "      width: 32px;\n",
              "    }\n",
              "\n",
              "    .colab-df-convert:hover {\n",
              "      background-color: #E2EBFA;\n",
              "      box-shadow: 0px 1px 2px rgba(60, 64, 67, 0.3), 0px 1px 3px 1px rgba(60, 64, 67, 0.15);\n",
              "      fill: #174EA6;\n",
              "    }\n",
              "\n",
              "    [theme=dark] .colab-df-convert {\n",
              "      background-color: #3B4455;\n",
              "      fill: #D2E3FC;\n",
              "    }\n",
              "\n",
              "    [theme=dark] .colab-df-convert:hover {\n",
              "      background-color: #434B5C;\n",
              "      box-shadow: 0px 1px 3px 1px rgba(0, 0, 0, 0.15);\n",
              "      filter: drop-shadow(0px 1px 2px rgba(0, 0, 0, 0.3));\n",
              "      fill: #FFFFFF;\n",
              "    }\n",
              "  </style>\n",
              "\n",
              "      <script>\n",
              "        const buttonEl =\n",
              "          document.querySelector('#df-7e1bc3c6-5ad8-4696-a2af-2cde53876580 button.colab-df-convert');\n",
              "        buttonEl.style.display =\n",
              "          google.colab.kernel.accessAllowed ? 'block' : 'none';\n",
              "\n",
              "        async function convertToInteractive(key) {\n",
              "          const element = document.querySelector('#df-7e1bc3c6-5ad8-4696-a2af-2cde53876580');\n",
              "          const dataTable =\n",
              "            await google.colab.kernel.invokeFunction('convertToInteractive',\n",
              "                                                     [key], {});\n",
              "          if (!dataTable) return;\n",
              "\n",
              "          const docLinkHtml = 'Like what you see? Visit the ' +\n",
              "            '<a target=\"_blank\" href=https://colab.research.google.com/notebooks/data_table.ipynb>data table notebook</a>'\n",
              "            + ' to learn more about interactive tables.';\n",
              "          element.innerHTML = '';\n",
              "          dataTable['output_type'] = 'display_data';\n",
              "          await google.colab.output.renderOutput(dataTable, element);\n",
              "          const docLink = document.createElement('div');\n",
              "          docLink.innerHTML = docLinkHtml;\n",
              "          element.appendChild(docLink);\n",
              "        }\n",
              "      </script>\n",
              "    </div>\n",
              "  </div>\n",
              "  "
            ]
          },
          "metadata": {},
          "execution_count": 121
        }
      ]
    },
    {
      "cell_type": "code",
      "source": [
        "user_id = 'reseller_id'\n",
        "item_id = 'sku'\n",
        "target = 'purchase_dummy'\n",
        "n_rec = 20 # number of items to recommend\n",
        "n_display = 20 # number of rows will show\n",
        "new_user_model = tc.popularity_recommender.create(tc.SFrame(data_dummy), \n",
        "                                                    user_id=user_id, \n",
        "                                                    item_id=item_id, \n",
        "                                                    target=target)\n",
        "#new_user_model.save('new_user_popularity_model')"
      ],
      "metadata": {
        "colab": {
          "base_uri": "https://localhost:8080/",
          "height": 121
        },
        "id": "7pKi4O6n3Pra",
        "outputId": "222109c3-505d-488a-a03a-87438e791f3a"
      },
      "execution_count": null,
      "outputs": [
        {
          "output_type": "display_data",
          "data": {
            "text/plain": [
              "Warning: Ignoring columns quantity, customer_type;"
            ],
            "text/html": [
              "<pre>Warning: Ignoring columns quantity, customer_type;</pre>"
            ]
          },
          "metadata": {}
        },
        {
          "output_type": "display_data",
          "data": {
            "text/plain": [
              "    To use these columns in scoring predictions, use a model that allows the use of additional features."
            ],
            "text/html": [
              "<pre>    To use these columns in scoring predictions, use a model that allows the use of additional features.</pre>"
            ]
          },
          "metadata": {}
        },
        {
          "output_type": "display_data",
          "data": {
            "text/plain": [
              "Preparing data set."
            ],
            "text/html": [
              "<pre>Preparing data set.</pre>"
            ]
          },
          "metadata": {}
        },
        {
          "output_type": "display_data",
          "data": {
            "text/plain": [
              "    Data has 393560 observations with 11596 users and 2721 items."
            ],
            "text/html": [
              "<pre>    Data has 393560 observations with 11596 users and 2721 items.</pre>"
            ]
          },
          "metadata": {}
        },
        {
          "output_type": "display_data",
          "data": {
            "text/plain": [
              "    Data prepared in: 0.505904s"
            ],
            "text/html": [
              "<pre>    Data prepared in: 0.505904s</pre>"
            ]
          },
          "metadata": {}
        },
        {
          "output_type": "display_data",
          "data": {
            "text/plain": [
              "393560 observations to process; with 2721 unique items."
            ],
            "text/html": [
              "<pre>393560 observations to process; with 2721 unique items.</pre>"
            ]
          },
          "metadata": {}
        }
      ]
    },
    {
      "cell_type": "code",
      "source": [
        "new_user_recomm = new_user_model.recommend_from_interactions(observed_items=tc.SFrame(observation_items), k=10)\n",
        "new_user_recomm.print_rows(n_display)"
      ],
      "metadata": {
        "colab": {
          "base_uri": "https://localhost:8080/"
        },
        "id": "7JEaQFzX4CEK",
        "outputId": "fe96915c-920f-41b3-b7f7-6864692a01a9"
      },
      "execution_count": null,
      "outputs": [
        {
          "output_type": "stream",
          "name": "stdout",
          "text": [
            "+-----+-------+------+\n",
            "| sku | score | rank |\n",
            "+-----+-------+------+\n",
            "+-----+-------+------+\n",
            "[0 rows x 3 columns]\n",
            "\n"
          ]
        }
      ]
    }
  ]
}